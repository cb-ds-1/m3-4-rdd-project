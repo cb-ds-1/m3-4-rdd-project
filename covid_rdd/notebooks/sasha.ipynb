{
 "cells": [
  {
   "cell_type": "code",
   "execution_count": 1,
   "metadata": {},
   "outputs": [],
   "source": [
    "import pandas as pd \n",
    "import statsmodels.api as sm \n",
    "import numpy as np \n",
    "from statsmodels.stats.weightstats import ttest_ind\n",
    "import matplotlib.pyplot as plt\n",
    "import seaborn as sns\n",
    "import datetime as dt\n",
    "import plotly.express as px \n",
    "plt.style.use('ggplot')"
   ]
  },
  {
   "cell_type": "code",
   "execution_count": 2,
   "metadata": {},
   "outputs": [],
   "source": [
    "# initialize data\n",
    "data = pd.read_csv('../data/hospitalisations.csv')\n",
    "df = data\n",
    "df.columns = ['date', 'intensive','in-care']\n",
    "df['total'] = df['intensive'] + df['in-care']\n",
    "df['date'] = pd.to_datetime(df['date'])"
   ]
  },
  {
   "cell_type": "code",
   "execution_count": 3,
   "metadata": {},
   "outputs": [],
   "source": [
    "# define period of interest\n",
    "start_date = '2020-08-02'\n",
    "end_date = '2020-09-29'\n",
    "open_date = '2020-08-31'\n",
    "period = df.loc[(df['date'] > start_date) & (df['date'] < end_date)]\n",
    "period.reset_index(drop=True, inplace=True)"
   ]
  },
  {
   "cell_type": "code",
   "execution_count": 4,
   "metadata": {},
   "outputs": [
    {
     "output_type": "display_data",
     "data": {
      "application/vnd.plotly.v1+json": {
       "config": {
        "plotlyServerURL": "https://plot.ly"
       },
       "data": [
        {
         "hovertemplate": "variable=total<br>date=%{x}<br>value=%{y}<extra></extra>",
         "legendgroup": "total",
         "line": {
          "color": "#636efa",
          "dash": "solid"
         },
         "mode": "lines",
         "name": "total",
         "orientation": "v",
         "showlegend": true,
         "type": "scatter",
         "x": [
          "2020-08-03T00:00:00",
          "2020-08-04T00:00:00",
          "2020-08-05T00:00:00",
          "2020-08-06T00:00:00",
          "2020-08-07T00:00:00",
          "2020-08-08T00:00:00",
          "2020-08-09T00:00:00",
          "2020-08-10T00:00:00",
          "2020-08-11T00:00:00",
          "2020-08-12T00:00:00",
          "2020-08-13T00:00:00",
          "2020-08-14T00:00:00",
          "2020-08-15T00:00:00",
          "2020-08-16T00:00:00",
          "2020-08-17T00:00:00",
          "2020-08-18T00:00:00",
          "2020-08-19T00:00:00",
          "2020-08-20T00:00:00",
          "2020-08-21T00:00:00",
          "2020-08-22T00:00:00",
          "2020-08-23T00:00:00",
          "2020-08-24T00:00:00",
          "2020-08-25T00:00:00",
          "2020-08-26T00:00:00",
          "2020-08-27T00:00:00",
          "2020-08-28T00:00:00",
          "2020-08-29T00:00:00",
          "2020-08-30T00:00:00",
          "2020-08-31T00:00:00",
          "2020-09-01T00:00:00",
          "2020-09-02T00:00:00",
          "2020-09-03T00:00:00",
          "2020-09-04T00:00:00",
          "2020-09-05T00:00:00",
          "2020-09-06T00:00:00",
          "2020-09-07T00:00:00",
          "2020-09-08T00:00:00",
          "2020-09-09T00:00:00",
          "2020-09-10T00:00:00",
          "2020-09-11T00:00:00",
          "2020-09-12T00:00:00",
          "2020-09-13T00:00:00",
          "2020-09-14T00:00:00",
          "2020-09-15T00:00:00",
          "2020-09-16T00:00:00",
          "2020-09-17T00:00:00",
          "2020-09-18T00:00:00",
          "2020-09-19T00:00:00",
          "2020-09-20T00:00:00",
          "2020-09-21T00:00:00",
          "2020-09-22T00:00:00",
          "2020-09-23T00:00:00",
          "2020-09-24T00:00:00",
          "2020-09-25T00:00:00",
          "2020-09-26T00:00:00",
          "2020-09-27T00:00:00",
          "2020-09-28T00:00:00"
         ],
         "xaxis": "x",
         "y": [
          12,
          5,
          6,
          10,
          16,
          4,
          5,
          9,
          13,
          7,
          14,
          10,
          5,
          9,
          3,
          10,
          6,
          5,
          8,
          5,
          10,
          5,
          8,
          10,
          10,
          5,
          13,
          7,
          7,
          7,
          15,
          11,
          14,
          13,
          11,
          13,
          17,
          16,
          24,
          20,
          16,
          17,
          23,
          13,
          19,
          11,
          33,
          22,
          25,
          27,
          28,
          27,
          42,
          48,
          31,
          28,
          39
         ],
         "yaxis": "y"
        },
        {
         "hovertemplate": "variable=intensive<br>date=%{x}<br>value=%{y}<extra></extra>",
         "legendgroup": "intensive",
         "line": {
          "color": "#EF553B",
          "dash": "solid"
         },
         "mode": "lines",
         "name": "intensive",
         "orientation": "v",
         "showlegend": true,
         "type": "scatter",
         "x": [
          "2020-08-03T00:00:00",
          "2020-08-04T00:00:00",
          "2020-08-05T00:00:00",
          "2020-08-06T00:00:00",
          "2020-08-07T00:00:00",
          "2020-08-08T00:00:00",
          "2020-08-09T00:00:00",
          "2020-08-10T00:00:00",
          "2020-08-11T00:00:00",
          "2020-08-12T00:00:00",
          "2020-08-13T00:00:00",
          "2020-08-14T00:00:00",
          "2020-08-15T00:00:00",
          "2020-08-16T00:00:00",
          "2020-08-17T00:00:00",
          "2020-08-18T00:00:00",
          "2020-08-19T00:00:00",
          "2020-08-20T00:00:00",
          "2020-08-21T00:00:00",
          "2020-08-22T00:00:00",
          "2020-08-23T00:00:00",
          "2020-08-24T00:00:00",
          "2020-08-25T00:00:00",
          "2020-08-26T00:00:00",
          "2020-08-27T00:00:00",
          "2020-08-28T00:00:00",
          "2020-08-29T00:00:00",
          "2020-08-30T00:00:00",
          "2020-08-31T00:00:00",
          "2020-09-01T00:00:00",
          "2020-09-02T00:00:00",
          "2020-09-03T00:00:00",
          "2020-09-04T00:00:00",
          "2020-09-05T00:00:00",
          "2020-09-06T00:00:00",
          "2020-09-07T00:00:00",
          "2020-09-08T00:00:00",
          "2020-09-09T00:00:00",
          "2020-09-10T00:00:00",
          "2020-09-11T00:00:00",
          "2020-09-12T00:00:00",
          "2020-09-13T00:00:00",
          "2020-09-14T00:00:00",
          "2020-09-15T00:00:00",
          "2020-09-16T00:00:00",
          "2020-09-17T00:00:00",
          "2020-09-18T00:00:00",
          "2020-09-19T00:00:00",
          "2020-09-20T00:00:00",
          "2020-09-21T00:00:00",
          "2020-09-22T00:00:00",
          "2020-09-23T00:00:00",
          "2020-09-24T00:00:00",
          "2020-09-25T00:00:00",
          "2020-09-26T00:00:00",
          "2020-09-27T00:00:00",
          "2020-09-28T00:00:00"
         ],
         "xaxis": "x",
         "y": [
          11,
          4,
          6,
          9,
          13,
          2,
          5,
          8,
          9,
          4,
          13,
          9,
          5,
          5,
          3,
          10,
          6,
          4,
          8,
          5,
          8,
          4,
          8,
          8,
          6,
          5,
          10,
          6,
          5,
          7,
          14,
          11,
          9,
          10,
          11,
          12,
          17,
          13,
          20,
          15,
          14,
          11,
          18,
          8,
          16,
          8,
          26,
          17,
          18,
          26,
          22,
          20,
          33,
          42,
          27,
          24,
          31
         ],
         "yaxis": "y"
        },
        {
         "hovertemplate": "variable=in-care<br>date=%{x}<br>value=%{y}<extra></extra>",
         "legendgroup": "in-care",
         "line": {
          "color": "#00cc96",
          "dash": "solid"
         },
         "mode": "lines",
         "name": "in-care",
         "orientation": "v",
         "showlegend": true,
         "type": "scatter",
         "x": [
          "2020-08-03T00:00:00",
          "2020-08-04T00:00:00",
          "2020-08-05T00:00:00",
          "2020-08-06T00:00:00",
          "2020-08-07T00:00:00",
          "2020-08-08T00:00:00",
          "2020-08-09T00:00:00",
          "2020-08-10T00:00:00",
          "2020-08-11T00:00:00",
          "2020-08-12T00:00:00",
          "2020-08-13T00:00:00",
          "2020-08-14T00:00:00",
          "2020-08-15T00:00:00",
          "2020-08-16T00:00:00",
          "2020-08-17T00:00:00",
          "2020-08-18T00:00:00",
          "2020-08-19T00:00:00",
          "2020-08-20T00:00:00",
          "2020-08-21T00:00:00",
          "2020-08-22T00:00:00",
          "2020-08-23T00:00:00",
          "2020-08-24T00:00:00",
          "2020-08-25T00:00:00",
          "2020-08-26T00:00:00",
          "2020-08-27T00:00:00",
          "2020-08-28T00:00:00",
          "2020-08-29T00:00:00",
          "2020-08-30T00:00:00",
          "2020-08-31T00:00:00",
          "2020-09-01T00:00:00",
          "2020-09-02T00:00:00",
          "2020-09-03T00:00:00",
          "2020-09-04T00:00:00",
          "2020-09-05T00:00:00",
          "2020-09-06T00:00:00",
          "2020-09-07T00:00:00",
          "2020-09-08T00:00:00",
          "2020-09-09T00:00:00",
          "2020-09-10T00:00:00",
          "2020-09-11T00:00:00",
          "2020-09-12T00:00:00",
          "2020-09-13T00:00:00",
          "2020-09-14T00:00:00",
          "2020-09-15T00:00:00",
          "2020-09-16T00:00:00",
          "2020-09-17T00:00:00",
          "2020-09-18T00:00:00",
          "2020-09-19T00:00:00",
          "2020-09-20T00:00:00",
          "2020-09-21T00:00:00",
          "2020-09-22T00:00:00",
          "2020-09-23T00:00:00",
          "2020-09-24T00:00:00",
          "2020-09-25T00:00:00",
          "2020-09-26T00:00:00",
          "2020-09-27T00:00:00",
          "2020-09-28T00:00:00"
         ],
         "xaxis": "x",
         "y": [
          1,
          1,
          0,
          1,
          3,
          2,
          0,
          1,
          4,
          3,
          1,
          1,
          0,
          4,
          0,
          0,
          0,
          1,
          0,
          0,
          2,
          1,
          0,
          2,
          4,
          0,
          3,
          1,
          2,
          0,
          1,
          0,
          5,
          3,
          0,
          1,
          0,
          3,
          4,
          5,
          2,
          6,
          5,
          5,
          3,
          3,
          7,
          5,
          7,
          1,
          6,
          7,
          9,
          6,
          4,
          4,
          8
         ],
         "yaxis": "y"
        }
       ],
       "layout": {
        "legend": {
         "title": {
          "text": "variable"
         },
         "tracegroupgap": 0
        },
        "template": {
         "data": {
          "bar": [
           {
            "error_x": {
             "color": "#2a3f5f"
            },
            "error_y": {
             "color": "#2a3f5f"
            },
            "marker": {
             "line": {
              "color": "#E5ECF6",
              "width": 0.5
             }
            },
            "type": "bar"
           }
          ],
          "barpolar": [
           {
            "marker": {
             "line": {
              "color": "#E5ECF6",
              "width": 0.5
             }
            },
            "type": "barpolar"
           }
          ],
          "carpet": [
           {
            "aaxis": {
             "endlinecolor": "#2a3f5f",
             "gridcolor": "white",
             "linecolor": "white",
             "minorgridcolor": "white",
             "startlinecolor": "#2a3f5f"
            },
            "baxis": {
             "endlinecolor": "#2a3f5f",
             "gridcolor": "white",
             "linecolor": "white",
             "minorgridcolor": "white",
             "startlinecolor": "#2a3f5f"
            },
            "type": "carpet"
           }
          ],
          "choropleth": [
           {
            "colorbar": {
             "outlinewidth": 0,
             "ticks": ""
            },
            "type": "choropleth"
           }
          ],
          "contour": [
           {
            "colorbar": {
             "outlinewidth": 0,
             "ticks": ""
            },
            "colorscale": [
             [
              0,
              "#0d0887"
             ],
             [
              0.1111111111111111,
              "#46039f"
             ],
             [
              0.2222222222222222,
              "#7201a8"
             ],
             [
              0.3333333333333333,
              "#9c179e"
             ],
             [
              0.4444444444444444,
              "#bd3786"
             ],
             [
              0.5555555555555556,
              "#d8576b"
             ],
             [
              0.6666666666666666,
              "#ed7953"
             ],
             [
              0.7777777777777778,
              "#fb9f3a"
             ],
             [
              0.8888888888888888,
              "#fdca26"
             ],
             [
              1,
              "#f0f921"
             ]
            ],
            "type": "contour"
           }
          ],
          "contourcarpet": [
           {
            "colorbar": {
             "outlinewidth": 0,
             "ticks": ""
            },
            "type": "contourcarpet"
           }
          ],
          "heatmap": [
           {
            "colorbar": {
             "outlinewidth": 0,
             "ticks": ""
            },
            "colorscale": [
             [
              0,
              "#0d0887"
             ],
             [
              0.1111111111111111,
              "#46039f"
             ],
             [
              0.2222222222222222,
              "#7201a8"
             ],
             [
              0.3333333333333333,
              "#9c179e"
             ],
             [
              0.4444444444444444,
              "#bd3786"
             ],
             [
              0.5555555555555556,
              "#d8576b"
             ],
             [
              0.6666666666666666,
              "#ed7953"
             ],
             [
              0.7777777777777778,
              "#fb9f3a"
             ],
             [
              0.8888888888888888,
              "#fdca26"
             ],
             [
              1,
              "#f0f921"
             ]
            ],
            "type": "heatmap"
           }
          ],
          "heatmapgl": [
           {
            "colorbar": {
             "outlinewidth": 0,
             "ticks": ""
            },
            "colorscale": [
             [
              0,
              "#0d0887"
             ],
             [
              0.1111111111111111,
              "#46039f"
             ],
             [
              0.2222222222222222,
              "#7201a8"
             ],
             [
              0.3333333333333333,
              "#9c179e"
             ],
             [
              0.4444444444444444,
              "#bd3786"
             ],
             [
              0.5555555555555556,
              "#d8576b"
             ],
             [
              0.6666666666666666,
              "#ed7953"
             ],
             [
              0.7777777777777778,
              "#fb9f3a"
             ],
             [
              0.8888888888888888,
              "#fdca26"
             ],
             [
              1,
              "#f0f921"
             ]
            ],
            "type": "heatmapgl"
           }
          ],
          "histogram": [
           {
            "marker": {
             "colorbar": {
              "outlinewidth": 0,
              "ticks": ""
             }
            },
            "type": "histogram"
           }
          ],
          "histogram2d": [
           {
            "colorbar": {
             "outlinewidth": 0,
             "ticks": ""
            },
            "colorscale": [
             [
              0,
              "#0d0887"
             ],
             [
              0.1111111111111111,
              "#46039f"
             ],
             [
              0.2222222222222222,
              "#7201a8"
             ],
             [
              0.3333333333333333,
              "#9c179e"
             ],
             [
              0.4444444444444444,
              "#bd3786"
             ],
             [
              0.5555555555555556,
              "#d8576b"
             ],
             [
              0.6666666666666666,
              "#ed7953"
             ],
             [
              0.7777777777777778,
              "#fb9f3a"
             ],
             [
              0.8888888888888888,
              "#fdca26"
             ],
             [
              1,
              "#f0f921"
             ]
            ],
            "type": "histogram2d"
           }
          ],
          "histogram2dcontour": [
           {
            "colorbar": {
             "outlinewidth": 0,
             "ticks": ""
            },
            "colorscale": [
             [
              0,
              "#0d0887"
             ],
             [
              0.1111111111111111,
              "#46039f"
             ],
             [
              0.2222222222222222,
              "#7201a8"
             ],
             [
              0.3333333333333333,
              "#9c179e"
             ],
             [
              0.4444444444444444,
              "#bd3786"
             ],
             [
              0.5555555555555556,
              "#d8576b"
             ],
             [
              0.6666666666666666,
              "#ed7953"
             ],
             [
              0.7777777777777778,
              "#fb9f3a"
             ],
             [
              0.8888888888888888,
              "#fdca26"
             ],
             [
              1,
              "#f0f921"
             ]
            ],
            "type": "histogram2dcontour"
           }
          ],
          "mesh3d": [
           {
            "colorbar": {
             "outlinewidth": 0,
             "ticks": ""
            },
            "type": "mesh3d"
           }
          ],
          "parcoords": [
           {
            "line": {
             "colorbar": {
              "outlinewidth": 0,
              "ticks": ""
             }
            },
            "type": "parcoords"
           }
          ],
          "pie": [
           {
            "automargin": true,
            "type": "pie"
           }
          ],
          "scatter": [
           {
            "marker": {
             "colorbar": {
              "outlinewidth": 0,
              "ticks": ""
             }
            },
            "type": "scatter"
           }
          ],
          "scatter3d": [
           {
            "line": {
             "colorbar": {
              "outlinewidth": 0,
              "ticks": ""
             }
            },
            "marker": {
             "colorbar": {
              "outlinewidth": 0,
              "ticks": ""
             }
            },
            "type": "scatter3d"
           }
          ],
          "scattercarpet": [
           {
            "marker": {
             "colorbar": {
              "outlinewidth": 0,
              "ticks": ""
             }
            },
            "type": "scattercarpet"
           }
          ],
          "scattergeo": [
           {
            "marker": {
             "colorbar": {
              "outlinewidth": 0,
              "ticks": ""
             }
            },
            "type": "scattergeo"
           }
          ],
          "scattergl": [
           {
            "marker": {
             "colorbar": {
              "outlinewidth": 0,
              "ticks": ""
             }
            },
            "type": "scattergl"
           }
          ],
          "scattermapbox": [
           {
            "marker": {
             "colorbar": {
              "outlinewidth": 0,
              "ticks": ""
             }
            },
            "type": "scattermapbox"
           }
          ],
          "scatterpolar": [
           {
            "marker": {
             "colorbar": {
              "outlinewidth": 0,
              "ticks": ""
             }
            },
            "type": "scatterpolar"
           }
          ],
          "scatterpolargl": [
           {
            "marker": {
             "colorbar": {
              "outlinewidth": 0,
              "ticks": ""
             }
            },
            "type": "scatterpolargl"
           }
          ],
          "scatterternary": [
           {
            "marker": {
             "colorbar": {
              "outlinewidth": 0,
              "ticks": ""
             }
            },
            "type": "scatterternary"
           }
          ],
          "surface": [
           {
            "colorbar": {
             "outlinewidth": 0,
             "ticks": ""
            },
            "colorscale": [
             [
              0,
              "#0d0887"
             ],
             [
              0.1111111111111111,
              "#46039f"
             ],
             [
              0.2222222222222222,
              "#7201a8"
             ],
             [
              0.3333333333333333,
              "#9c179e"
             ],
             [
              0.4444444444444444,
              "#bd3786"
             ],
             [
              0.5555555555555556,
              "#d8576b"
             ],
             [
              0.6666666666666666,
              "#ed7953"
             ],
             [
              0.7777777777777778,
              "#fb9f3a"
             ],
             [
              0.8888888888888888,
              "#fdca26"
             ],
             [
              1,
              "#f0f921"
             ]
            ],
            "type": "surface"
           }
          ],
          "table": [
           {
            "cells": {
             "fill": {
              "color": "#EBF0F8"
             },
             "line": {
              "color": "white"
             }
            },
            "header": {
             "fill": {
              "color": "#C8D4E3"
             },
             "line": {
              "color": "white"
             }
            },
            "type": "table"
           }
          ]
         },
         "layout": {
          "annotationdefaults": {
           "arrowcolor": "#2a3f5f",
           "arrowhead": 0,
           "arrowwidth": 1
          },
          "autotypenumbers": "strict",
          "coloraxis": {
           "colorbar": {
            "outlinewidth": 0,
            "ticks": ""
           }
          },
          "colorscale": {
           "diverging": [
            [
             0,
             "#8e0152"
            ],
            [
             0.1,
             "#c51b7d"
            ],
            [
             0.2,
             "#de77ae"
            ],
            [
             0.3,
             "#f1b6da"
            ],
            [
             0.4,
             "#fde0ef"
            ],
            [
             0.5,
             "#f7f7f7"
            ],
            [
             0.6,
             "#e6f5d0"
            ],
            [
             0.7,
             "#b8e186"
            ],
            [
             0.8,
             "#7fbc41"
            ],
            [
             0.9,
             "#4d9221"
            ],
            [
             1,
             "#276419"
            ]
           ],
           "sequential": [
            [
             0,
             "#0d0887"
            ],
            [
             0.1111111111111111,
             "#46039f"
            ],
            [
             0.2222222222222222,
             "#7201a8"
            ],
            [
             0.3333333333333333,
             "#9c179e"
            ],
            [
             0.4444444444444444,
             "#bd3786"
            ],
            [
             0.5555555555555556,
             "#d8576b"
            ],
            [
             0.6666666666666666,
             "#ed7953"
            ],
            [
             0.7777777777777778,
             "#fb9f3a"
            ],
            [
             0.8888888888888888,
             "#fdca26"
            ],
            [
             1,
             "#f0f921"
            ]
           ],
           "sequentialminus": [
            [
             0,
             "#0d0887"
            ],
            [
             0.1111111111111111,
             "#46039f"
            ],
            [
             0.2222222222222222,
             "#7201a8"
            ],
            [
             0.3333333333333333,
             "#9c179e"
            ],
            [
             0.4444444444444444,
             "#bd3786"
            ],
            [
             0.5555555555555556,
             "#d8576b"
            ],
            [
             0.6666666666666666,
             "#ed7953"
            ],
            [
             0.7777777777777778,
             "#fb9f3a"
            ],
            [
             0.8888888888888888,
             "#fdca26"
            ],
            [
             1,
             "#f0f921"
            ]
           ]
          },
          "colorway": [
           "#636efa",
           "#EF553B",
           "#00cc96",
           "#ab63fa",
           "#FFA15A",
           "#19d3f3",
           "#FF6692",
           "#B6E880",
           "#FF97FF",
           "#FECB52"
          ],
          "font": {
           "color": "#2a3f5f"
          },
          "geo": {
           "bgcolor": "white",
           "lakecolor": "white",
           "landcolor": "#E5ECF6",
           "showlakes": true,
           "showland": true,
           "subunitcolor": "white"
          },
          "hoverlabel": {
           "align": "left"
          },
          "hovermode": "closest",
          "mapbox": {
           "style": "light"
          },
          "paper_bgcolor": "white",
          "plot_bgcolor": "#E5ECF6",
          "polar": {
           "angularaxis": {
            "gridcolor": "white",
            "linecolor": "white",
            "ticks": ""
           },
           "bgcolor": "#E5ECF6",
           "radialaxis": {
            "gridcolor": "white",
            "linecolor": "white",
            "ticks": ""
           }
          },
          "scene": {
           "xaxis": {
            "backgroundcolor": "#E5ECF6",
            "gridcolor": "white",
            "gridwidth": 2,
            "linecolor": "white",
            "showbackground": true,
            "ticks": "",
            "zerolinecolor": "white"
           },
           "yaxis": {
            "backgroundcolor": "#E5ECF6",
            "gridcolor": "white",
            "gridwidth": 2,
            "linecolor": "white",
            "showbackground": true,
            "ticks": "",
            "zerolinecolor": "white"
           },
           "zaxis": {
            "backgroundcolor": "#E5ECF6",
            "gridcolor": "white",
            "gridwidth": 2,
            "linecolor": "white",
            "showbackground": true,
            "ticks": "",
            "zerolinecolor": "white"
           }
          },
          "shapedefaults": {
           "line": {
            "color": "#2a3f5f"
           }
          },
          "ternary": {
           "aaxis": {
            "gridcolor": "white",
            "linecolor": "white",
            "ticks": ""
           },
           "baxis": {
            "gridcolor": "white",
            "linecolor": "white",
            "ticks": ""
           },
           "bgcolor": "#E5ECF6",
           "caxis": {
            "gridcolor": "white",
            "linecolor": "white",
            "ticks": ""
           }
          },
          "title": {
           "x": 0.05
          },
          "xaxis": {
           "automargin": true,
           "gridcolor": "white",
           "linecolor": "white",
           "ticks": "",
           "title": {
            "standoff": 15
           },
           "zerolinecolor": "white",
           "zerolinewidth": 2
          },
          "yaxis": {
           "automargin": true,
           "gridcolor": "white",
           "linecolor": "white",
           "ticks": "",
           "title": {
            "standoff": 15
           },
           "zerolinecolor": "white",
           "zerolinewidth": 2
          }
         }
        },
        "title": {
         "text": "Hospitalization cases during period (August 3rd to Sept 28th)"
        },
        "xaxis": {
         "anchor": "y",
         "domain": [
          0,
          1
         ],
         "title": {
          "text": "date"
         }
        },
        "yaxis": {
         "anchor": "x",
         "domain": [
          0,
          1
         ],
         "title": {
          "text": "value"
         }
        }
       }
      }
     },
     "metadata": {}
    }
   ],
   "source": [
    "fig = px.line(period, x = 'date', y = [period.total,period.intensive,period['in-care']],\n",
    "              title='Hospitalization cases during period (August 3rd to Sept 28th)')\n",
    "fig.show()"
   ]
  },
  {
   "cell_type": "code",
   "execution_count": 5,
   "metadata": {},
   "outputs": [
    {
     "output_type": "execute_result",
     "data": {
      "text/plain": [
       "<class 'statsmodels.iolib.summary.Summary'>\n",
       "\"\"\"\n",
       "                            WLS Regression Results                            \n",
       "==============================================================================\n",
       "Dep. Variable:                  total   R-squared:                       0.794\n",
       "Model:                            WLS   Adj. R-squared:                  0.783\n",
       "Method:                 Least Squares   F-statistic:                     68.21\n",
       "Date:                Wed, 27 Jan 2021   Prob (F-statistic):           3.35e-18\n",
       "Time:                        14:31:32   Log-Likelihood:                -167.20\n",
       "No. Observations:                  57   AIC:                             342.4\n",
       "Df Residuals:                      53   BIC:                             350.6\n",
       "Df Model:                           3                                         \n",
       "Covariance Type:            nonrobust                                         \n",
       "================================================================================\n",
       "                   coef    std err          t      P>|t|      [0.025      0.975]\n",
       "--------------------------------------------------------------------------------\n",
       "Intercept        8.4609      1.300      6.510      0.000       5.854      11.068\n",
       "school          -9.0872      2.888     -3.147      0.003     -14.879      -3.295\n",
       "time2           -0.0011      0.004     -0.300      0.765      -0.008       0.006\n",
       "school:time2     0.0131      0.004      3.405      0.001       0.005       0.021\n",
       "==============================================================================\n",
       "Omnibus:                        7.570   Durbin-Watson:                   2.073\n",
       "Prob(Omnibus):                  0.023   Jarque-Bera (JB):                8.595\n",
       "Skew:                           0.507   Prob(JB):                       0.0136\n",
       "Kurtosis:                       4.609   Cond. No.                     9.40e+03\n",
       "==============================================================================\n",
       "\n",
       "Notes:\n",
       "[1] Standard Errors assume that the covariance matrix of the errors is correctly specified.\n",
       "[2] The condition number is large, 9.4e+03. This might indicate that there are\n",
       "strong multicollinearity or other numerical problems.\n",
       "\"\"\""
      ],
      "text/html": "<table class=\"simpletable\">\n<caption>WLS Regression Results</caption>\n<tr>\n  <th>Dep. Variable:</th>          <td>total</td>      <th>  R-squared:         </th> <td>   0.794</td>\n</tr>\n<tr>\n  <th>Model:</th>                   <td>WLS</td>       <th>  Adj. R-squared:    </th> <td>   0.783</td>\n</tr>\n<tr>\n  <th>Method:</th>             <td>Least Squares</td>  <th>  F-statistic:       </th> <td>   68.21</td>\n</tr>\n<tr>\n  <th>Date:</th>             <td>Wed, 27 Jan 2021</td> <th>  Prob (F-statistic):</th> <td>3.35e-18</td>\n</tr>\n<tr>\n  <th>Time:</th>                 <td>14:31:32</td>     <th>  Log-Likelihood:    </th> <td> -167.20</td>\n</tr>\n<tr>\n  <th>No. Observations:</th>      <td>    57</td>      <th>  AIC:               </th> <td>   342.4</td>\n</tr>\n<tr>\n  <th>Df Residuals:</th>          <td>    53</td>      <th>  BIC:               </th> <td>   350.6</td>\n</tr>\n<tr>\n  <th>Df Model:</th>              <td>     3</td>      <th>                     </th>     <td> </td>   \n</tr>\n<tr>\n  <th>Covariance Type:</th>      <td>nonrobust</td>    <th>                     </th>     <td> </td>   \n</tr>\n</table>\n<table class=\"simpletable\">\n<tr>\n        <td></td>          <th>coef</th>     <th>std err</th>      <th>t</th>      <th>P>|t|</th>  <th>[0.025</th>    <th>0.975]</th>  \n</tr>\n<tr>\n  <th>Intercept</th>    <td>    8.4609</td> <td>    1.300</td> <td>    6.510</td> <td> 0.000</td> <td>    5.854</td> <td>   11.068</td>\n</tr>\n<tr>\n  <th>school</th>       <td>   -9.0872</td> <td>    2.888</td> <td>   -3.147</td> <td> 0.003</td> <td>  -14.879</td> <td>   -3.295</td>\n</tr>\n<tr>\n  <th>time2</th>        <td>   -0.0011</td> <td>    0.004</td> <td>   -0.300</td> <td> 0.765</td> <td>   -0.008</td> <td>    0.006</td>\n</tr>\n<tr>\n  <th>school:time2</th> <td>    0.0131</td> <td>    0.004</td> <td>    3.405</td> <td> 0.001</td> <td>    0.005</td> <td>    0.021</td>\n</tr>\n</table>\n<table class=\"simpletable\">\n<tr>\n  <th>Omnibus:</th>       <td> 7.570</td> <th>  Durbin-Watson:     </th> <td>   2.073</td>\n</tr>\n<tr>\n  <th>Prob(Omnibus):</th> <td> 0.023</td> <th>  Jarque-Bera (JB):  </th> <td>   8.595</td>\n</tr>\n<tr>\n  <th>Skew:</th>          <td> 0.507</td> <th>  Prob(JB):          </th> <td>  0.0136</td>\n</tr>\n<tr>\n  <th>Kurtosis:</th>      <td> 4.609</td> <th>  Cond. No.          </th> <td>9.40e+03</td>\n</tr>\n</table><br/><br/>Notes:<br/>[1] Standard Errors assume that the covariance matrix of the errors is correctly specified.<br/>[2] The condition number is large, 9.4e+03. This might indicate that there are<br/>strong multicollinearity or other numerical problems."
     },
     "metadata": {},
     "execution_count": 5
    }
   ],
   "source": [
    "import statsmodels.formula.api as smf\n",
    "# setting with copy warning\n",
    "period['time'] = period.index\n",
    "period['school'] = (period['date'] > open_date).astype(int)\n",
    "period['time2'] = period.time ** 2\n",
    "\n",
    "x = sm.add_constant(period)\n",
    "est = smf.wls('total ~ school * time2', x).fit()\n",
    "# y = const + b1 * x + b2 * c\n",
    "est.summary()"
   ]
  },
  {
   "cell_type": "code",
   "execution_count": 6,
   "metadata": {},
   "outputs": [
    {
     "output_type": "execute_result",
     "data": {
      "text/plain": [
       "        date  intensive  in-care  total  time  school  time2\n",
       "0 2020-08-03         11        1     12     0       0      0\n",
       "1 2020-08-04          4        1      5     1       0      1\n",
       "2 2020-08-05          6        0      6     2       0      4\n",
       "3 2020-08-06          9        1     10     3       0      9\n",
       "4 2020-08-07         13        3     16     4       0     16"
      ],
      "text/html": "<div>\n<style scoped>\n    .dataframe tbody tr th:only-of-type {\n        vertical-align: middle;\n    }\n\n    .dataframe tbody tr th {\n        vertical-align: top;\n    }\n\n    .dataframe thead th {\n        text-align: right;\n    }\n</style>\n<table border=\"1\" class=\"dataframe\">\n  <thead>\n    <tr style=\"text-align: right;\">\n      <th></th>\n      <th>date</th>\n      <th>intensive</th>\n      <th>in-care</th>\n      <th>total</th>\n      <th>time</th>\n      <th>school</th>\n      <th>time2</th>\n    </tr>\n  </thead>\n  <tbody>\n    <tr>\n      <th>0</th>\n      <td>2020-08-03</td>\n      <td>11</td>\n      <td>1</td>\n      <td>12</td>\n      <td>0</td>\n      <td>0</td>\n      <td>0</td>\n    </tr>\n    <tr>\n      <th>1</th>\n      <td>2020-08-04</td>\n      <td>4</td>\n      <td>1</td>\n      <td>5</td>\n      <td>1</td>\n      <td>0</td>\n      <td>1</td>\n    </tr>\n    <tr>\n      <th>2</th>\n      <td>2020-08-05</td>\n      <td>6</td>\n      <td>0</td>\n      <td>6</td>\n      <td>2</td>\n      <td>0</td>\n      <td>4</td>\n    </tr>\n    <tr>\n      <th>3</th>\n      <td>2020-08-06</td>\n      <td>9</td>\n      <td>1</td>\n      <td>10</td>\n      <td>3</td>\n      <td>0</td>\n      <td>9</td>\n    </tr>\n    <tr>\n      <th>4</th>\n      <td>2020-08-07</td>\n      <td>13</td>\n      <td>3</td>\n      <td>16</td>\n      <td>4</td>\n      <td>0</td>\n      <td>16</td>\n    </tr>\n  </tbody>\n</table>\n</div>"
     },
     "metadata": {},
     "execution_count": 6
    }
   ],
   "source": [
    "period.head()"
   ]
  },
  {
   "cell_type": "code",
   "execution_count": 7,
   "metadata": {},
   "outputs": [
    {
     "output_type": "display_data",
     "data": {
      "text/plain": "<Figure size 1296x648 with 1 Axes>",
      "image/svg+xml": "<?xml version=\"1.0\" encoding=\"utf-8\" standalone=\"no\"?>\r\n<!DOCTYPE svg PUBLIC \"-//W3C//DTD SVG 1.1//EN\"\r\n  \"http://www.w3.org/Graphics/SVG/1.1/DTD/svg11.dtd\">\r\n<!-- Created with matplotlib (https://matplotlib.org/) -->\r\n<svg height=\"552.873625pt\" version=\"1.1\" viewBox=\"0 0 1054.13875 552.873625\" width=\"1054.13875pt\" xmlns=\"http://www.w3.org/2000/svg\" xmlns:xlink=\"http://www.w3.org/1999/xlink\">\r\n <metadata>\r\n  <rdf:RDF xmlns:cc=\"http://creativecommons.org/ns#\" xmlns:dc=\"http://purl.org/dc/elements/1.1/\" xmlns:rdf=\"http://www.w3.org/1999/02/22-rdf-syntax-ns#\">\r\n   <cc:Work>\r\n    <dc:type rdf:resource=\"http://purl.org/dc/dcmitype/StillImage\"/>\r\n    <dc:date>2021-01-27T14:31:37.597093</dc:date>\r\n    <dc:format>image/svg+xml</dc:format>\r\n    <dc:creator>\r\n     <cc:Agent>\r\n      <dc:title>Matplotlib v3.3.3, https://matplotlib.org/</dc:title>\r\n     </cc:Agent>\r\n    </dc:creator>\r\n   </cc:Work>\r\n  </rdf:RDF>\r\n </metadata>\r\n <defs>\r\n  <style type=\"text/css\">*{stroke-linecap:butt;stroke-linejoin:round;}</style>\r\n </defs>\r\n <g id=\"figure_1\">\r\n  <g id=\"patch_1\">\r\n   <path d=\"M 0 552.873625 \r\nL 1054.13875 552.873625 \r\nL 1054.13875 0 \r\nL 0 0 \r\nz\r\n\" style=\"fill:#ffffff;\"/>\r\n  </g>\r\n  <g id=\"axes_1\">\r\n   <g id=\"patch_2\">\r\n    <path d=\"M 42.53875 513.38175 \r\nL 1046.93875 513.38175 \r\nL 1046.93875 24.14175 \r\nL 42.53875 24.14175 \r\nz\r\n\" style=\"fill:#e5e5e5;\"/>\r\n   </g>\r\n   <g id=\"matplotlib.axis_1\">\r\n    <g id=\"xtick_1\">\r\n     <g id=\"line2d_1\">\r\n      <path clip-path=\"url(#p2e86efb196)\" d=\"M 88.193295 513.38175 \r\nL 88.193295 24.14175 \r\n\" style=\"fill:none;stroke:#ffffff;stroke-linecap:square;stroke-width:0.8;\"/>\r\n     </g>\r\n     <g id=\"line2d_2\">\r\n      <defs>\r\n       <path d=\"M 0 0 \r\nL 0 3.5 \r\n\" id=\"m950bbe697e\" style=\"stroke:#555555;stroke-width:0.8;\"/>\r\n      </defs>\r\n      <g>\r\n       <use style=\"fill:#555555;stroke:#555555;stroke-width:0.8;\" x=\"88.193295\" xlink:href=\"#m950bbe697e\" y=\"513.38175\"/>\r\n      </g>\r\n     </g>\r\n     <g id=\"text_1\">\r\n      <!-- -28 -->\r\n      <g style=\"fill:#555555;\" transform=\"translate(80.026889 527.980187)scale(0.1 -0.1)\">\r\n       <defs>\r\n        <path d=\"M 4.890625 31.390625 \r\nL 31.203125 31.390625 \r\nL 31.203125 23.390625 \r\nL 4.890625 23.390625 \r\nz\r\n\" id=\"DejaVuSans-45\"/>\r\n        <path d=\"M 19.1875 8.296875 \r\nL 53.609375 8.296875 \r\nL 53.609375 0 \r\nL 7.328125 0 \r\nL 7.328125 8.296875 \r\nQ 12.9375 14.109375 22.625 23.890625 \r\nQ 32.328125 33.6875 34.8125 36.53125 \r\nQ 39.546875 41.84375 41.421875 45.53125 \r\nQ 43.3125 49.21875 43.3125 52.78125 \r\nQ 43.3125 58.59375 39.234375 62.25 \r\nQ 35.15625 65.921875 28.609375 65.921875 \r\nQ 23.96875 65.921875 18.8125 64.3125 \r\nQ 13.671875 62.703125 7.8125 59.421875 \r\nL 7.8125 69.390625 \r\nQ 13.765625 71.78125 18.9375 73 \r\nQ 24.125 74.21875 28.421875 74.21875 \r\nQ 39.75 74.21875 46.484375 68.546875 \r\nQ 53.21875 62.890625 53.21875 53.421875 \r\nQ 53.21875 48.921875 51.53125 44.890625 \r\nQ 49.859375 40.875 45.40625 35.40625 \r\nQ 44.1875 33.984375 37.640625 27.21875 \r\nQ 31.109375 20.453125 19.1875 8.296875 \r\nz\r\n\" id=\"DejaVuSans-50\"/>\r\n        <path d=\"M 31.78125 34.625 \r\nQ 24.75 34.625 20.71875 30.859375 \r\nQ 16.703125 27.09375 16.703125 20.515625 \r\nQ 16.703125 13.921875 20.71875 10.15625 \r\nQ 24.75 6.390625 31.78125 6.390625 \r\nQ 38.8125 6.390625 42.859375 10.171875 \r\nQ 46.921875 13.96875 46.921875 20.515625 \r\nQ 46.921875 27.09375 42.890625 30.859375 \r\nQ 38.875 34.625 31.78125 34.625 \r\nz\r\nM 21.921875 38.8125 \r\nQ 15.578125 40.375 12.03125 44.71875 \r\nQ 8.5 49.078125 8.5 55.328125 \r\nQ 8.5 64.0625 14.71875 69.140625 \r\nQ 20.953125 74.21875 31.78125 74.21875 \r\nQ 42.671875 74.21875 48.875 69.140625 \r\nQ 55.078125 64.0625 55.078125 55.328125 \r\nQ 55.078125 49.078125 51.53125 44.71875 \r\nQ 48 40.375 41.703125 38.8125 \r\nQ 48.828125 37.15625 52.796875 32.3125 \r\nQ 56.78125 27.484375 56.78125 20.515625 \r\nQ 56.78125 9.90625 50.3125 4.234375 \r\nQ 43.84375 -1.421875 31.78125 -1.421875 \r\nQ 19.734375 -1.421875 13.25 4.234375 \r\nQ 6.78125 9.90625 6.78125 20.515625 \r\nQ 6.78125 27.484375 10.78125 32.3125 \r\nQ 14.796875 37.15625 21.921875 38.8125 \r\nz\r\nM 18.3125 54.390625 \r\nQ 18.3125 48.734375 21.84375 45.5625 \r\nQ 25.390625 42.390625 31.78125 42.390625 \r\nQ 38.140625 42.390625 41.71875 45.5625 \r\nQ 45.3125 48.734375 45.3125 54.390625 \r\nQ 45.3125 60.0625 41.71875 63.234375 \r\nQ 38.140625 66.40625 31.78125 66.40625 \r\nQ 25.390625 66.40625 21.84375 63.234375 \r\nQ 18.3125 60.0625 18.3125 54.390625 \r\nz\r\n\" id=\"DejaVuSans-56\"/>\r\n       </defs>\r\n       <use xlink:href=\"#DejaVuSans-45\"/>\r\n       <use x=\"36.083984\" xlink:href=\"#DejaVuSans-50\"/>\r\n       <use x=\"99.707031\" xlink:href=\"#DejaVuSans-56\"/>\r\n      </g>\r\n     </g>\r\n    </g>\r\n    <g id=\"xtick_2\">\r\n     <g id=\"line2d_3\">\r\n      <path clip-path=\"url(#p2e86efb196)\" d=\"M 104.49849 513.38175 \r\nL 104.49849 24.14175 \r\n\" style=\"fill:none;stroke:#ffffff;stroke-linecap:square;stroke-width:0.8;\"/>\r\n     </g>\r\n     <g id=\"line2d_4\">\r\n      <g>\r\n       <use style=\"fill:#555555;stroke:#555555;stroke-width:0.8;\" x=\"104.49849\" xlink:href=\"#m950bbe697e\" y=\"513.38175\"/>\r\n      </g>\r\n     </g>\r\n     <g id=\"text_2\">\r\n      <!-- -27 -->\r\n      <g style=\"fill:#555555;\" transform=\"translate(96.332084 527.980187)scale(0.1 -0.1)\">\r\n       <defs>\r\n        <path d=\"M 8.203125 72.90625 \r\nL 55.078125 72.90625 \r\nL 55.078125 68.703125 \r\nL 28.609375 0 \r\nL 18.3125 0 \r\nL 43.21875 64.59375 \r\nL 8.203125 64.59375 \r\nz\r\n\" id=\"DejaVuSans-55\"/>\r\n       </defs>\r\n       <use xlink:href=\"#DejaVuSans-45\"/>\r\n       <use x=\"36.083984\" xlink:href=\"#DejaVuSans-50\"/>\r\n       <use x=\"99.707031\" xlink:href=\"#DejaVuSans-55\"/>\r\n      </g>\r\n     </g>\r\n    </g>\r\n    <g id=\"xtick_3\">\r\n     <g id=\"line2d_5\">\r\n      <path clip-path=\"url(#p2e86efb196)\" d=\"M 120.803685 513.38175 \r\nL 120.803685 24.14175 \r\n\" style=\"fill:none;stroke:#ffffff;stroke-linecap:square;stroke-width:0.8;\"/>\r\n     </g>\r\n     <g id=\"line2d_6\">\r\n      <g>\r\n       <use style=\"fill:#555555;stroke:#555555;stroke-width:0.8;\" x=\"120.803685\" xlink:href=\"#m950bbe697e\" y=\"513.38175\"/>\r\n      </g>\r\n     </g>\r\n     <g id=\"text_3\">\r\n      <!-- -26 -->\r\n      <g style=\"fill:#555555;\" transform=\"translate(112.637279 527.980187)scale(0.1 -0.1)\">\r\n       <defs>\r\n        <path d=\"M 33.015625 40.375 \r\nQ 26.375 40.375 22.484375 35.828125 \r\nQ 18.609375 31.296875 18.609375 23.390625 \r\nQ 18.609375 15.53125 22.484375 10.953125 \r\nQ 26.375 6.390625 33.015625 6.390625 \r\nQ 39.65625 6.390625 43.53125 10.953125 \r\nQ 47.40625 15.53125 47.40625 23.390625 \r\nQ 47.40625 31.296875 43.53125 35.828125 \r\nQ 39.65625 40.375 33.015625 40.375 \r\nz\r\nM 52.59375 71.296875 \r\nL 52.59375 62.3125 \r\nQ 48.875 64.0625 45.09375 64.984375 \r\nQ 41.3125 65.921875 37.59375 65.921875 \r\nQ 27.828125 65.921875 22.671875 59.328125 \r\nQ 17.53125 52.734375 16.796875 39.40625 \r\nQ 19.671875 43.65625 24.015625 45.921875 \r\nQ 28.375 48.1875 33.59375 48.1875 \r\nQ 44.578125 48.1875 50.953125 41.515625 \r\nQ 57.328125 34.859375 57.328125 23.390625 \r\nQ 57.328125 12.15625 50.6875 5.359375 \r\nQ 44.046875 -1.421875 33.015625 -1.421875 \r\nQ 20.359375 -1.421875 13.671875 8.265625 \r\nQ 6.984375 17.96875 6.984375 36.375 \r\nQ 6.984375 53.65625 15.1875 63.9375 \r\nQ 23.390625 74.21875 37.203125 74.21875 \r\nQ 40.921875 74.21875 44.703125 73.484375 \r\nQ 48.484375 72.75 52.59375 71.296875 \r\nz\r\n\" id=\"DejaVuSans-54\"/>\r\n       </defs>\r\n       <use xlink:href=\"#DejaVuSans-45\"/>\r\n       <use x=\"36.083984\" xlink:href=\"#DejaVuSans-50\"/>\r\n       <use x=\"99.707031\" xlink:href=\"#DejaVuSans-54\"/>\r\n      </g>\r\n     </g>\r\n    </g>\r\n    <g id=\"xtick_4\">\r\n     <g id=\"line2d_7\">\r\n      <path clip-path=\"url(#p2e86efb196)\" d=\"M 137.10888 513.38175 \r\nL 137.10888 24.14175 \r\n\" style=\"fill:none;stroke:#ffffff;stroke-linecap:square;stroke-width:0.8;\"/>\r\n     </g>\r\n     <g id=\"line2d_8\">\r\n      <g>\r\n       <use style=\"fill:#555555;stroke:#555555;stroke-width:0.8;\" x=\"137.10888\" xlink:href=\"#m950bbe697e\" y=\"513.38175\"/>\r\n      </g>\r\n     </g>\r\n     <g id=\"text_4\">\r\n      <!-- -25 -->\r\n      <g style=\"fill:#555555;\" transform=\"translate(128.942474 527.980187)scale(0.1 -0.1)\">\r\n       <defs>\r\n        <path d=\"M 10.796875 72.90625 \r\nL 49.515625 72.90625 \r\nL 49.515625 64.59375 \r\nL 19.828125 64.59375 \r\nL 19.828125 46.734375 \r\nQ 21.96875 47.46875 24.109375 47.828125 \r\nQ 26.265625 48.1875 28.421875 48.1875 \r\nQ 40.625 48.1875 47.75 41.5 \r\nQ 54.890625 34.8125 54.890625 23.390625 \r\nQ 54.890625 11.625 47.5625 5.09375 \r\nQ 40.234375 -1.421875 26.90625 -1.421875 \r\nQ 22.3125 -1.421875 17.546875 -0.640625 \r\nQ 12.796875 0.140625 7.71875 1.703125 \r\nL 7.71875 11.625 \r\nQ 12.109375 9.234375 16.796875 8.0625 \r\nQ 21.484375 6.890625 26.703125 6.890625 \r\nQ 35.15625 6.890625 40.078125 11.328125 \r\nQ 45.015625 15.765625 45.015625 23.390625 \r\nQ 45.015625 31 40.078125 35.4375 \r\nQ 35.15625 39.890625 26.703125 39.890625 \r\nQ 22.75 39.890625 18.8125 39.015625 \r\nQ 14.890625 38.140625 10.796875 36.28125 \r\nz\r\n\" id=\"DejaVuSans-53\"/>\r\n       </defs>\r\n       <use xlink:href=\"#DejaVuSans-45\"/>\r\n       <use x=\"36.083984\" xlink:href=\"#DejaVuSans-50\"/>\r\n       <use x=\"99.707031\" xlink:href=\"#DejaVuSans-53\"/>\r\n      </g>\r\n     </g>\r\n    </g>\r\n    <g id=\"xtick_5\">\r\n     <g id=\"line2d_9\">\r\n      <path clip-path=\"url(#p2e86efb196)\" d=\"M 153.414075 513.38175 \r\nL 153.414075 24.14175 \r\n\" style=\"fill:none;stroke:#ffffff;stroke-linecap:square;stroke-width:0.8;\"/>\r\n     </g>\r\n     <g id=\"line2d_10\">\r\n      <g>\r\n       <use style=\"fill:#555555;stroke:#555555;stroke-width:0.8;\" x=\"153.414075\" xlink:href=\"#m950bbe697e\" y=\"513.38175\"/>\r\n      </g>\r\n     </g>\r\n     <g id=\"text_5\">\r\n      <!-- -24 -->\r\n      <g style=\"fill:#555555;\" transform=\"translate(145.247668 527.980187)scale(0.1 -0.1)\">\r\n       <defs>\r\n        <path d=\"M 37.796875 64.3125 \r\nL 12.890625 25.390625 \r\nL 37.796875 25.390625 \r\nz\r\nM 35.203125 72.90625 \r\nL 47.609375 72.90625 \r\nL 47.609375 25.390625 \r\nL 58.015625 25.390625 \r\nL 58.015625 17.1875 \r\nL 47.609375 17.1875 \r\nL 47.609375 0 \r\nL 37.796875 0 \r\nL 37.796875 17.1875 \r\nL 4.890625 17.1875 \r\nL 4.890625 26.703125 \r\nz\r\n\" id=\"DejaVuSans-52\"/>\r\n       </defs>\r\n       <use xlink:href=\"#DejaVuSans-45\"/>\r\n       <use x=\"36.083984\" xlink:href=\"#DejaVuSans-50\"/>\r\n       <use x=\"99.707031\" xlink:href=\"#DejaVuSans-52\"/>\r\n      </g>\r\n     </g>\r\n    </g>\r\n    <g id=\"xtick_6\">\r\n     <g id=\"line2d_11\">\r\n      <path clip-path=\"url(#p2e86efb196)\" d=\"M 169.719269 513.38175 \r\nL 169.719269 24.14175 \r\n\" style=\"fill:none;stroke:#ffffff;stroke-linecap:square;stroke-width:0.8;\"/>\r\n     </g>\r\n     <g id=\"line2d_12\">\r\n      <g>\r\n       <use style=\"fill:#555555;stroke:#555555;stroke-width:0.8;\" x=\"169.719269\" xlink:href=\"#m950bbe697e\" y=\"513.38175\"/>\r\n      </g>\r\n     </g>\r\n     <g id=\"text_6\">\r\n      <!-- -23 -->\r\n      <g style=\"fill:#555555;\" transform=\"translate(161.552863 527.980187)scale(0.1 -0.1)\">\r\n       <defs>\r\n        <path d=\"M 40.578125 39.3125 \r\nQ 47.65625 37.796875 51.625 33 \r\nQ 55.609375 28.21875 55.609375 21.1875 \r\nQ 55.609375 10.40625 48.1875 4.484375 \r\nQ 40.765625 -1.421875 27.09375 -1.421875 \r\nQ 22.515625 -1.421875 17.65625 -0.515625 \r\nQ 12.796875 0.390625 7.625 2.203125 \r\nL 7.625 11.71875 \r\nQ 11.71875 9.328125 16.59375 8.109375 \r\nQ 21.484375 6.890625 26.8125 6.890625 \r\nQ 36.078125 6.890625 40.9375 10.546875 \r\nQ 45.796875 14.203125 45.796875 21.1875 \r\nQ 45.796875 27.640625 41.28125 31.265625 \r\nQ 36.765625 34.90625 28.71875 34.90625 \r\nL 20.21875 34.90625 \r\nL 20.21875 43.015625 \r\nL 29.109375 43.015625 \r\nQ 36.375 43.015625 40.234375 45.921875 \r\nQ 44.09375 48.828125 44.09375 54.296875 \r\nQ 44.09375 59.90625 40.109375 62.90625 \r\nQ 36.140625 65.921875 28.71875 65.921875 \r\nQ 24.65625 65.921875 20.015625 65.03125 \r\nQ 15.375 64.15625 9.8125 62.3125 \r\nL 9.8125 71.09375 \r\nQ 15.4375 72.65625 20.34375 73.4375 \r\nQ 25.25 74.21875 29.59375 74.21875 \r\nQ 40.828125 74.21875 47.359375 69.109375 \r\nQ 53.90625 64.015625 53.90625 55.328125 \r\nQ 53.90625 49.265625 50.4375 45.09375 \r\nQ 46.96875 40.921875 40.578125 39.3125 \r\nz\r\n\" id=\"DejaVuSans-51\"/>\r\n       </defs>\r\n       <use xlink:href=\"#DejaVuSans-45\"/>\r\n       <use x=\"36.083984\" xlink:href=\"#DejaVuSans-50\"/>\r\n       <use x=\"99.707031\" xlink:href=\"#DejaVuSans-51\"/>\r\n      </g>\r\n     </g>\r\n    </g>\r\n    <g id=\"xtick_7\">\r\n     <g id=\"line2d_13\">\r\n      <path clip-path=\"url(#p2e86efb196)\" d=\"M 186.024464 513.38175 \r\nL 186.024464 24.14175 \r\n\" style=\"fill:none;stroke:#ffffff;stroke-linecap:square;stroke-width:0.8;\"/>\r\n     </g>\r\n     <g id=\"line2d_14\">\r\n      <g>\r\n       <use style=\"fill:#555555;stroke:#555555;stroke-width:0.8;\" x=\"186.024464\" xlink:href=\"#m950bbe697e\" y=\"513.38175\"/>\r\n      </g>\r\n     </g>\r\n     <g id=\"text_7\">\r\n      <!-- -22 -->\r\n      <g style=\"fill:#555555;\" transform=\"translate(177.858058 527.980187)scale(0.1 -0.1)\">\r\n       <use xlink:href=\"#DejaVuSans-45\"/>\r\n       <use x=\"36.083984\" xlink:href=\"#DejaVuSans-50\"/>\r\n       <use x=\"99.707031\" xlink:href=\"#DejaVuSans-50\"/>\r\n      </g>\r\n     </g>\r\n    </g>\r\n    <g id=\"xtick_8\">\r\n     <g id=\"line2d_15\">\r\n      <path clip-path=\"url(#p2e86efb196)\" d=\"M 202.329659 513.38175 \r\nL 202.329659 24.14175 \r\n\" style=\"fill:none;stroke:#ffffff;stroke-linecap:square;stroke-width:0.8;\"/>\r\n     </g>\r\n     <g id=\"line2d_16\">\r\n      <g>\r\n       <use style=\"fill:#555555;stroke:#555555;stroke-width:0.8;\" x=\"202.329659\" xlink:href=\"#m950bbe697e\" y=\"513.38175\"/>\r\n      </g>\r\n     </g>\r\n     <g id=\"text_8\">\r\n      <!-- -21 -->\r\n      <g style=\"fill:#555555;\" transform=\"translate(194.163253 527.980187)scale(0.1 -0.1)\">\r\n       <defs>\r\n        <path d=\"M 12.40625 8.296875 \r\nL 28.515625 8.296875 \r\nL 28.515625 63.921875 \r\nL 10.984375 60.40625 \r\nL 10.984375 69.390625 \r\nL 28.421875 72.90625 \r\nL 38.28125 72.90625 \r\nL 38.28125 8.296875 \r\nL 54.390625 8.296875 \r\nL 54.390625 0 \r\nL 12.40625 0 \r\nz\r\n\" id=\"DejaVuSans-49\"/>\r\n       </defs>\r\n       <use xlink:href=\"#DejaVuSans-45\"/>\r\n       <use x=\"36.083984\" xlink:href=\"#DejaVuSans-50\"/>\r\n       <use x=\"99.707031\" xlink:href=\"#DejaVuSans-49\"/>\r\n      </g>\r\n     </g>\r\n    </g>\r\n    <g id=\"xtick_9\">\r\n     <g id=\"line2d_17\">\r\n      <path clip-path=\"url(#p2e86efb196)\" d=\"M 218.634854 513.38175 \r\nL 218.634854 24.14175 \r\n\" style=\"fill:none;stroke:#ffffff;stroke-linecap:square;stroke-width:0.8;\"/>\r\n     </g>\r\n     <g id=\"line2d_18\">\r\n      <g>\r\n       <use style=\"fill:#555555;stroke:#555555;stroke-width:0.8;\" x=\"218.634854\" xlink:href=\"#m950bbe697e\" y=\"513.38175\"/>\r\n      </g>\r\n     </g>\r\n     <g id=\"text_9\">\r\n      <!-- -20 -->\r\n      <g style=\"fill:#555555;\" transform=\"translate(210.468448 527.980187)scale(0.1 -0.1)\">\r\n       <defs>\r\n        <path d=\"M 31.78125 66.40625 \r\nQ 24.171875 66.40625 20.328125 58.90625 \r\nQ 16.5 51.421875 16.5 36.375 \r\nQ 16.5 21.390625 20.328125 13.890625 \r\nQ 24.171875 6.390625 31.78125 6.390625 \r\nQ 39.453125 6.390625 43.28125 13.890625 \r\nQ 47.125 21.390625 47.125 36.375 \r\nQ 47.125 51.421875 43.28125 58.90625 \r\nQ 39.453125 66.40625 31.78125 66.40625 \r\nz\r\nM 31.78125 74.21875 \r\nQ 44.046875 74.21875 50.515625 64.515625 \r\nQ 56.984375 54.828125 56.984375 36.375 \r\nQ 56.984375 17.96875 50.515625 8.265625 \r\nQ 44.046875 -1.421875 31.78125 -1.421875 \r\nQ 19.53125 -1.421875 13.0625 8.265625 \r\nQ 6.59375 17.96875 6.59375 36.375 \r\nQ 6.59375 54.828125 13.0625 64.515625 \r\nQ 19.53125 74.21875 31.78125 74.21875 \r\nz\r\n\" id=\"DejaVuSans-48\"/>\r\n       </defs>\r\n       <use xlink:href=\"#DejaVuSans-45\"/>\r\n       <use x=\"36.083984\" xlink:href=\"#DejaVuSans-50\"/>\r\n       <use x=\"99.707031\" xlink:href=\"#DejaVuSans-48\"/>\r\n      </g>\r\n     </g>\r\n    </g>\r\n    <g id=\"xtick_10\">\r\n     <g id=\"line2d_19\">\r\n      <path clip-path=\"url(#p2e86efb196)\" d=\"M 234.940049 513.38175 \r\nL 234.940049 24.14175 \r\n\" style=\"fill:none;stroke:#ffffff;stroke-linecap:square;stroke-width:0.8;\"/>\r\n     </g>\r\n     <g id=\"line2d_20\">\r\n      <g>\r\n       <use style=\"fill:#555555;stroke:#555555;stroke-width:0.8;\" x=\"234.940049\" xlink:href=\"#m950bbe697e\" y=\"513.38175\"/>\r\n      </g>\r\n     </g>\r\n     <g id=\"text_10\">\r\n      <!-- -19 -->\r\n      <g style=\"fill:#555555;\" transform=\"translate(226.773642 527.980187)scale(0.1 -0.1)\">\r\n       <defs>\r\n        <path d=\"M 10.984375 1.515625 \r\nL 10.984375 10.5 \r\nQ 14.703125 8.734375 18.5 7.8125 \r\nQ 22.3125 6.890625 25.984375 6.890625 \r\nQ 35.75 6.890625 40.890625 13.453125 \r\nQ 46.046875 20.015625 46.78125 33.40625 \r\nQ 43.953125 29.203125 39.59375 26.953125 \r\nQ 35.25 24.703125 29.984375 24.703125 \r\nQ 19.046875 24.703125 12.671875 31.3125 \r\nQ 6.296875 37.9375 6.296875 49.421875 \r\nQ 6.296875 60.640625 12.9375 67.421875 \r\nQ 19.578125 74.21875 30.609375 74.21875 \r\nQ 43.265625 74.21875 49.921875 64.515625 \r\nQ 56.59375 54.828125 56.59375 36.375 \r\nQ 56.59375 19.140625 48.40625 8.859375 \r\nQ 40.234375 -1.421875 26.421875 -1.421875 \r\nQ 22.703125 -1.421875 18.890625 -0.6875 \r\nQ 15.09375 0.046875 10.984375 1.515625 \r\nz\r\nM 30.609375 32.421875 \r\nQ 37.25 32.421875 41.125 36.953125 \r\nQ 45.015625 41.5 45.015625 49.421875 \r\nQ 45.015625 57.28125 41.125 61.84375 \r\nQ 37.25 66.40625 30.609375 66.40625 \r\nQ 23.96875 66.40625 20.09375 61.84375 \r\nQ 16.21875 57.28125 16.21875 49.421875 \r\nQ 16.21875 41.5 20.09375 36.953125 \r\nQ 23.96875 32.421875 30.609375 32.421875 \r\nz\r\n\" id=\"DejaVuSans-57\"/>\r\n       </defs>\r\n       <use xlink:href=\"#DejaVuSans-45\"/>\r\n       <use x=\"36.083984\" xlink:href=\"#DejaVuSans-49\"/>\r\n       <use x=\"99.707031\" xlink:href=\"#DejaVuSans-57\"/>\r\n      </g>\r\n     </g>\r\n    </g>\r\n    <g id=\"xtick_11\">\r\n     <g id=\"line2d_21\">\r\n      <path clip-path=\"url(#p2e86efb196)\" d=\"M 251.245244 513.38175 \r\nL 251.245244 24.14175 \r\n\" style=\"fill:none;stroke:#ffffff;stroke-linecap:square;stroke-width:0.8;\"/>\r\n     </g>\r\n     <g id=\"line2d_22\">\r\n      <g>\r\n       <use style=\"fill:#555555;stroke:#555555;stroke-width:0.8;\" x=\"251.245244\" xlink:href=\"#m950bbe697e\" y=\"513.38175\"/>\r\n      </g>\r\n     </g>\r\n     <g id=\"text_11\">\r\n      <!-- -18 -->\r\n      <g style=\"fill:#555555;\" transform=\"translate(243.078837 527.980187)scale(0.1 -0.1)\">\r\n       <use xlink:href=\"#DejaVuSans-45\"/>\r\n       <use x=\"36.083984\" xlink:href=\"#DejaVuSans-49\"/>\r\n       <use x=\"99.707031\" xlink:href=\"#DejaVuSans-56\"/>\r\n      </g>\r\n     </g>\r\n    </g>\r\n    <g id=\"xtick_12\">\r\n     <g id=\"line2d_23\">\r\n      <path clip-path=\"url(#p2e86efb196)\" d=\"M 267.550438 513.38175 \r\nL 267.550438 24.14175 \r\n\" style=\"fill:none;stroke:#ffffff;stroke-linecap:square;stroke-width:0.8;\"/>\r\n     </g>\r\n     <g id=\"line2d_24\">\r\n      <g>\r\n       <use style=\"fill:#555555;stroke:#555555;stroke-width:0.8;\" x=\"267.550438\" xlink:href=\"#m950bbe697e\" y=\"513.38175\"/>\r\n      </g>\r\n     </g>\r\n     <g id=\"text_12\">\r\n      <!-- -17 -->\r\n      <g style=\"fill:#555555;\" transform=\"translate(259.384032 527.980187)scale(0.1 -0.1)\">\r\n       <use xlink:href=\"#DejaVuSans-45\"/>\r\n       <use x=\"36.083984\" xlink:href=\"#DejaVuSans-49\"/>\r\n       <use x=\"99.707031\" xlink:href=\"#DejaVuSans-55\"/>\r\n      </g>\r\n     </g>\r\n    </g>\r\n    <g id=\"xtick_13\">\r\n     <g id=\"line2d_25\">\r\n      <path clip-path=\"url(#p2e86efb196)\" d=\"M 283.855633 513.38175 \r\nL 283.855633 24.14175 \r\n\" style=\"fill:none;stroke:#ffffff;stroke-linecap:square;stroke-width:0.8;\"/>\r\n     </g>\r\n     <g id=\"line2d_26\">\r\n      <g>\r\n       <use style=\"fill:#555555;stroke:#555555;stroke-width:0.8;\" x=\"283.855633\" xlink:href=\"#m950bbe697e\" y=\"513.38175\"/>\r\n      </g>\r\n     </g>\r\n     <g id=\"text_13\">\r\n      <!-- -16 -->\r\n      <g style=\"fill:#555555;\" transform=\"translate(275.689227 527.980187)scale(0.1 -0.1)\">\r\n       <use xlink:href=\"#DejaVuSans-45\"/>\r\n       <use x=\"36.083984\" xlink:href=\"#DejaVuSans-49\"/>\r\n       <use x=\"99.707031\" xlink:href=\"#DejaVuSans-54\"/>\r\n      </g>\r\n     </g>\r\n    </g>\r\n    <g id=\"xtick_14\">\r\n     <g id=\"line2d_27\">\r\n      <path clip-path=\"url(#p2e86efb196)\" d=\"M 300.160828 513.38175 \r\nL 300.160828 24.14175 \r\n\" style=\"fill:none;stroke:#ffffff;stroke-linecap:square;stroke-width:0.8;\"/>\r\n     </g>\r\n     <g id=\"line2d_28\">\r\n      <g>\r\n       <use style=\"fill:#555555;stroke:#555555;stroke-width:0.8;\" x=\"300.160828\" xlink:href=\"#m950bbe697e\" y=\"513.38175\"/>\r\n      </g>\r\n     </g>\r\n     <g id=\"text_14\">\r\n      <!-- -15 -->\r\n      <g style=\"fill:#555555;\" transform=\"translate(291.994422 527.980187)scale(0.1 -0.1)\">\r\n       <use xlink:href=\"#DejaVuSans-45\"/>\r\n       <use x=\"36.083984\" xlink:href=\"#DejaVuSans-49\"/>\r\n       <use x=\"99.707031\" xlink:href=\"#DejaVuSans-53\"/>\r\n      </g>\r\n     </g>\r\n    </g>\r\n    <g id=\"xtick_15\">\r\n     <g id=\"line2d_29\">\r\n      <path clip-path=\"url(#p2e86efb196)\" d=\"M 316.466023 513.38175 \r\nL 316.466023 24.14175 \r\n\" style=\"fill:none;stroke:#ffffff;stroke-linecap:square;stroke-width:0.8;\"/>\r\n     </g>\r\n     <g id=\"line2d_30\">\r\n      <g>\r\n       <use style=\"fill:#555555;stroke:#555555;stroke-width:0.8;\" x=\"316.466023\" xlink:href=\"#m950bbe697e\" y=\"513.38175\"/>\r\n      </g>\r\n     </g>\r\n     <g id=\"text_15\">\r\n      <!-- -14 -->\r\n      <g style=\"fill:#555555;\" transform=\"translate(308.299616 527.980187)scale(0.1 -0.1)\">\r\n       <use xlink:href=\"#DejaVuSans-45\"/>\r\n       <use x=\"36.083984\" xlink:href=\"#DejaVuSans-49\"/>\r\n       <use x=\"99.707031\" xlink:href=\"#DejaVuSans-52\"/>\r\n      </g>\r\n     </g>\r\n    </g>\r\n    <g id=\"xtick_16\">\r\n     <g id=\"line2d_31\">\r\n      <path clip-path=\"url(#p2e86efb196)\" d=\"M 332.771218 513.38175 \r\nL 332.771218 24.14175 \r\n\" style=\"fill:none;stroke:#ffffff;stroke-linecap:square;stroke-width:0.8;\"/>\r\n     </g>\r\n     <g id=\"line2d_32\">\r\n      <g>\r\n       <use style=\"fill:#555555;stroke:#555555;stroke-width:0.8;\" x=\"332.771218\" xlink:href=\"#m950bbe697e\" y=\"513.38175\"/>\r\n      </g>\r\n     </g>\r\n     <g id=\"text_16\">\r\n      <!-- -13 -->\r\n      <g style=\"fill:#555555;\" transform=\"translate(324.604811 527.980187)scale(0.1 -0.1)\">\r\n       <use xlink:href=\"#DejaVuSans-45\"/>\r\n       <use x=\"36.083984\" xlink:href=\"#DejaVuSans-49\"/>\r\n       <use x=\"99.707031\" xlink:href=\"#DejaVuSans-51\"/>\r\n      </g>\r\n     </g>\r\n    </g>\r\n    <g id=\"xtick_17\">\r\n     <g id=\"line2d_33\">\r\n      <path clip-path=\"url(#p2e86efb196)\" d=\"M 349.076412 513.38175 \r\nL 349.076412 24.14175 \r\n\" style=\"fill:none;stroke:#ffffff;stroke-linecap:square;stroke-width:0.8;\"/>\r\n     </g>\r\n     <g id=\"line2d_34\">\r\n      <g>\r\n       <use style=\"fill:#555555;stroke:#555555;stroke-width:0.8;\" x=\"349.076412\" xlink:href=\"#m950bbe697e\" y=\"513.38175\"/>\r\n      </g>\r\n     </g>\r\n     <g id=\"text_17\">\r\n      <!-- -12 -->\r\n      <g style=\"fill:#555555;\" transform=\"translate(340.910006 527.980187)scale(0.1 -0.1)\">\r\n       <use xlink:href=\"#DejaVuSans-45\"/>\r\n       <use x=\"36.083984\" xlink:href=\"#DejaVuSans-49\"/>\r\n       <use x=\"99.707031\" xlink:href=\"#DejaVuSans-50\"/>\r\n      </g>\r\n     </g>\r\n    </g>\r\n    <g id=\"xtick_18\">\r\n     <g id=\"line2d_35\">\r\n      <path clip-path=\"url(#p2e86efb196)\" d=\"M 365.381607 513.38175 \r\nL 365.381607 24.14175 \r\n\" style=\"fill:none;stroke:#ffffff;stroke-linecap:square;stroke-width:0.8;\"/>\r\n     </g>\r\n     <g id=\"line2d_36\">\r\n      <g>\r\n       <use style=\"fill:#555555;stroke:#555555;stroke-width:0.8;\" x=\"365.381607\" xlink:href=\"#m950bbe697e\" y=\"513.38175\"/>\r\n      </g>\r\n     </g>\r\n     <g id=\"text_18\">\r\n      <!-- -11 -->\r\n      <g style=\"fill:#555555;\" transform=\"translate(357.215201 527.980187)scale(0.1 -0.1)\">\r\n       <use xlink:href=\"#DejaVuSans-45\"/>\r\n       <use x=\"36.083984\" xlink:href=\"#DejaVuSans-49\"/>\r\n       <use x=\"99.707031\" xlink:href=\"#DejaVuSans-49\"/>\r\n      </g>\r\n     </g>\r\n    </g>\r\n    <g id=\"xtick_19\">\r\n     <g id=\"line2d_37\">\r\n      <path clip-path=\"url(#p2e86efb196)\" d=\"M 381.686802 513.38175 \r\nL 381.686802 24.14175 \r\n\" style=\"fill:none;stroke:#ffffff;stroke-linecap:square;stroke-width:0.8;\"/>\r\n     </g>\r\n     <g id=\"line2d_38\">\r\n      <g>\r\n       <use style=\"fill:#555555;stroke:#555555;stroke-width:0.8;\" x=\"381.686802\" xlink:href=\"#m950bbe697e\" y=\"513.38175\"/>\r\n      </g>\r\n     </g>\r\n     <g id=\"text_19\">\r\n      <!-- -10 -->\r\n      <g style=\"fill:#555555;\" transform=\"translate(373.520396 527.980187)scale(0.1 -0.1)\">\r\n       <use xlink:href=\"#DejaVuSans-45\"/>\r\n       <use x=\"36.083984\" xlink:href=\"#DejaVuSans-49\"/>\r\n       <use x=\"99.707031\" xlink:href=\"#DejaVuSans-48\"/>\r\n      </g>\r\n     </g>\r\n    </g>\r\n    <g id=\"xtick_20\">\r\n     <g id=\"line2d_39\">\r\n      <path clip-path=\"url(#p2e86efb196)\" d=\"M 397.991997 513.38175 \r\nL 397.991997 24.14175 \r\n\" style=\"fill:none;stroke:#ffffff;stroke-linecap:square;stroke-width:0.8;\"/>\r\n     </g>\r\n     <g id=\"line2d_40\">\r\n      <g>\r\n       <use style=\"fill:#555555;stroke:#555555;stroke-width:0.8;\" x=\"397.991997\" xlink:href=\"#m950bbe697e\" y=\"513.38175\"/>\r\n      </g>\r\n     </g>\r\n     <g id=\"text_20\">\r\n      <!-- -9 -->\r\n      <g style=\"fill:#555555;\" transform=\"translate(393.006841 527.980187)scale(0.1 -0.1)\">\r\n       <use xlink:href=\"#DejaVuSans-45\"/>\r\n       <use x=\"36.083984\" xlink:href=\"#DejaVuSans-57\"/>\r\n      </g>\r\n     </g>\r\n    </g>\r\n    <g id=\"xtick_21\">\r\n     <g id=\"line2d_41\">\r\n      <path clip-path=\"url(#p2e86efb196)\" d=\"M 414.297192 513.38175 \r\nL 414.297192 24.14175 \r\n\" style=\"fill:none;stroke:#ffffff;stroke-linecap:square;stroke-width:0.8;\"/>\r\n     </g>\r\n     <g id=\"line2d_42\">\r\n      <g>\r\n       <use style=\"fill:#555555;stroke:#555555;stroke-width:0.8;\" x=\"414.297192\" xlink:href=\"#m950bbe697e\" y=\"513.38175\"/>\r\n      </g>\r\n     </g>\r\n     <g id=\"text_21\">\r\n      <!-- -8 -->\r\n      <g style=\"fill:#555555;\" transform=\"translate(409.312035 527.980187)scale(0.1 -0.1)\">\r\n       <use xlink:href=\"#DejaVuSans-45\"/>\r\n       <use x=\"36.083984\" xlink:href=\"#DejaVuSans-56\"/>\r\n      </g>\r\n     </g>\r\n    </g>\r\n    <g id=\"xtick_22\">\r\n     <g id=\"line2d_43\">\r\n      <path clip-path=\"url(#p2e86efb196)\" d=\"M 430.602386 513.38175 \r\nL 430.602386 24.14175 \r\n\" style=\"fill:none;stroke:#ffffff;stroke-linecap:square;stroke-width:0.8;\"/>\r\n     </g>\r\n     <g id=\"line2d_44\">\r\n      <g>\r\n       <use style=\"fill:#555555;stroke:#555555;stroke-width:0.8;\" x=\"430.602386\" xlink:href=\"#m950bbe697e\" y=\"513.38175\"/>\r\n      </g>\r\n     </g>\r\n     <g id=\"text_22\">\r\n      <!-- -7 -->\r\n      <g style=\"fill:#555555;\" transform=\"translate(425.61723 527.980187)scale(0.1 -0.1)\">\r\n       <use xlink:href=\"#DejaVuSans-45\"/>\r\n       <use x=\"36.083984\" xlink:href=\"#DejaVuSans-55\"/>\r\n      </g>\r\n     </g>\r\n    </g>\r\n    <g id=\"xtick_23\">\r\n     <g id=\"line2d_45\">\r\n      <path clip-path=\"url(#p2e86efb196)\" d=\"M 446.907581 513.38175 \r\nL 446.907581 24.14175 \r\n\" style=\"fill:none;stroke:#ffffff;stroke-linecap:square;stroke-width:0.8;\"/>\r\n     </g>\r\n     <g id=\"line2d_46\">\r\n      <g>\r\n       <use style=\"fill:#555555;stroke:#555555;stroke-width:0.8;\" x=\"446.907581\" xlink:href=\"#m950bbe697e\" y=\"513.38175\"/>\r\n      </g>\r\n     </g>\r\n     <g id=\"text_23\">\r\n      <!-- -6 -->\r\n      <g style=\"fill:#555555;\" transform=\"translate(441.922425 527.980187)scale(0.1 -0.1)\">\r\n       <use xlink:href=\"#DejaVuSans-45\"/>\r\n       <use x=\"36.083984\" xlink:href=\"#DejaVuSans-54\"/>\r\n      </g>\r\n     </g>\r\n    </g>\r\n    <g id=\"xtick_24\">\r\n     <g id=\"line2d_47\">\r\n      <path clip-path=\"url(#p2e86efb196)\" d=\"M 463.212776 513.38175 \r\nL 463.212776 24.14175 \r\n\" style=\"fill:none;stroke:#ffffff;stroke-linecap:square;stroke-width:0.8;\"/>\r\n     </g>\r\n     <g id=\"line2d_48\">\r\n      <g>\r\n       <use style=\"fill:#555555;stroke:#555555;stroke-width:0.8;\" x=\"463.212776\" xlink:href=\"#m950bbe697e\" y=\"513.38175\"/>\r\n      </g>\r\n     </g>\r\n     <g id=\"text_24\">\r\n      <!-- -5 -->\r\n      <g style=\"fill:#555555;\" transform=\"translate(458.22762 527.980187)scale(0.1 -0.1)\">\r\n       <use xlink:href=\"#DejaVuSans-45\"/>\r\n       <use x=\"36.083984\" xlink:href=\"#DejaVuSans-53\"/>\r\n      </g>\r\n     </g>\r\n    </g>\r\n    <g id=\"xtick_25\">\r\n     <g id=\"line2d_49\">\r\n      <path clip-path=\"url(#p2e86efb196)\" d=\"M 479.517971 513.38175 \r\nL 479.517971 24.14175 \r\n\" style=\"fill:none;stroke:#ffffff;stroke-linecap:square;stroke-width:0.8;\"/>\r\n     </g>\r\n     <g id=\"line2d_50\">\r\n      <g>\r\n       <use style=\"fill:#555555;stroke:#555555;stroke-width:0.8;\" x=\"479.517971\" xlink:href=\"#m950bbe697e\" y=\"513.38175\"/>\r\n      </g>\r\n     </g>\r\n     <g id=\"text_25\">\r\n      <!-- -4 -->\r\n      <g style=\"fill:#555555;\" transform=\"translate(474.532815 527.980187)scale(0.1 -0.1)\">\r\n       <use xlink:href=\"#DejaVuSans-45\"/>\r\n       <use x=\"36.083984\" xlink:href=\"#DejaVuSans-52\"/>\r\n      </g>\r\n     </g>\r\n    </g>\r\n    <g id=\"xtick_26\">\r\n     <g id=\"line2d_51\">\r\n      <path clip-path=\"url(#p2e86efb196)\" d=\"M 495.823166 513.38175 \r\nL 495.823166 24.14175 \r\n\" style=\"fill:none;stroke:#ffffff;stroke-linecap:square;stroke-width:0.8;\"/>\r\n     </g>\r\n     <g id=\"line2d_52\">\r\n      <g>\r\n       <use style=\"fill:#555555;stroke:#555555;stroke-width:0.8;\" x=\"495.823166\" xlink:href=\"#m950bbe697e\" y=\"513.38175\"/>\r\n      </g>\r\n     </g>\r\n     <g id=\"text_26\">\r\n      <!-- -3 -->\r\n      <g style=\"fill:#555555;\" transform=\"translate(490.838009 527.980187)scale(0.1 -0.1)\">\r\n       <use xlink:href=\"#DejaVuSans-45\"/>\r\n       <use x=\"36.083984\" xlink:href=\"#DejaVuSans-51\"/>\r\n      </g>\r\n     </g>\r\n    </g>\r\n    <g id=\"xtick_27\">\r\n     <g id=\"line2d_53\">\r\n      <path clip-path=\"url(#p2e86efb196)\" d=\"M 512.12836 513.38175 \r\nL 512.12836 24.14175 \r\n\" style=\"fill:none;stroke:#ffffff;stroke-linecap:square;stroke-width:0.8;\"/>\r\n     </g>\r\n     <g id=\"line2d_54\">\r\n      <g>\r\n       <use style=\"fill:#555555;stroke:#555555;stroke-width:0.8;\" x=\"512.12836\" xlink:href=\"#m950bbe697e\" y=\"513.38175\"/>\r\n      </g>\r\n     </g>\r\n     <g id=\"text_27\">\r\n      <!-- -2 -->\r\n      <g style=\"fill:#555555;\" transform=\"translate(507.143204 527.980187)scale(0.1 -0.1)\">\r\n       <use xlink:href=\"#DejaVuSans-45\"/>\r\n       <use x=\"36.083984\" xlink:href=\"#DejaVuSans-50\"/>\r\n      </g>\r\n     </g>\r\n    </g>\r\n    <g id=\"xtick_28\">\r\n     <g id=\"line2d_55\">\r\n      <path clip-path=\"url(#p2e86efb196)\" d=\"M 528.433555 513.38175 \r\nL 528.433555 24.14175 \r\n\" style=\"fill:none;stroke:#ffffff;stroke-linecap:square;stroke-width:0.8;\"/>\r\n     </g>\r\n     <g id=\"line2d_56\">\r\n      <g>\r\n       <use style=\"fill:#555555;stroke:#555555;stroke-width:0.8;\" x=\"528.433555\" xlink:href=\"#m950bbe697e\" y=\"513.38175\"/>\r\n      </g>\r\n     </g>\r\n     <g id=\"text_28\">\r\n      <!-- -1 -->\r\n      <g style=\"fill:#555555;\" transform=\"translate(523.448399 527.980187)scale(0.1 -0.1)\">\r\n       <use xlink:href=\"#DejaVuSans-45\"/>\r\n       <use x=\"36.083984\" xlink:href=\"#DejaVuSans-49\"/>\r\n      </g>\r\n     </g>\r\n    </g>\r\n    <g id=\"xtick_29\">\r\n     <g id=\"line2d_57\">\r\n      <path clip-path=\"url(#p2e86efb196)\" d=\"M 544.73875 513.38175 \r\nL 544.73875 24.14175 \r\n\" style=\"fill:none;stroke:#ffffff;stroke-linecap:square;stroke-width:0.8;\"/>\r\n     </g>\r\n     <g id=\"line2d_58\">\r\n      <g>\r\n       <use style=\"fill:#555555;stroke:#555555;stroke-width:0.8;\" x=\"544.73875\" xlink:href=\"#m950bbe697e\" y=\"513.38175\"/>\r\n      </g>\r\n     </g>\r\n     <g id=\"text_29\">\r\n      <!-- 0 -->\r\n      <g style=\"fill:#555555;\" transform=\"translate(541.5575 527.980187)scale(0.1 -0.1)\">\r\n       <use xlink:href=\"#DejaVuSans-48\"/>\r\n      </g>\r\n     </g>\r\n    </g>\r\n    <g id=\"xtick_30\">\r\n     <g id=\"line2d_59\">\r\n      <path clip-path=\"url(#p2e86efb196)\" d=\"M 561.043945 513.38175 \r\nL 561.043945 24.14175 \r\n\" style=\"fill:none;stroke:#ffffff;stroke-linecap:square;stroke-width:0.8;\"/>\r\n     </g>\r\n     <g id=\"line2d_60\">\r\n      <g>\r\n       <use style=\"fill:#555555;stroke:#555555;stroke-width:0.8;\" x=\"561.043945\" xlink:href=\"#m950bbe697e\" y=\"513.38175\"/>\r\n      </g>\r\n     </g>\r\n     <g id=\"text_30\">\r\n      <!-- 1 -->\r\n      <g style=\"fill:#555555;\" transform=\"translate(557.862695 527.980187)scale(0.1 -0.1)\">\r\n       <use xlink:href=\"#DejaVuSans-49\"/>\r\n      </g>\r\n     </g>\r\n    </g>\r\n    <g id=\"xtick_31\">\r\n     <g id=\"line2d_61\">\r\n      <path clip-path=\"url(#p2e86efb196)\" d=\"M 577.34914 513.38175 \r\nL 577.34914 24.14175 \r\n\" style=\"fill:none;stroke:#ffffff;stroke-linecap:square;stroke-width:0.8;\"/>\r\n     </g>\r\n     <g id=\"line2d_62\">\r\n      <g>\r\n       <use style=\"fill:#555555;stroke:#555555;stroke-width:0.8;\" x=\"577.34914\" xlink:href=\"#m950bbe697e\" y=\"513.38175\"/>\r\n      </g>\r\n     </g>\r\n     <g id=\"text_31\">\r\n      <!-- 2 -->\r\n      <g style=\"fill:#555555;\" transform=\"translate(574.16789 527.980187)scale(0.1 -0.1)\">\r\n       <use xlink:href=\"#DejaVuSans-50\"/>\r\n      </g>\r\n     </g>\r\n    </g>\r\n    <g id=\"xtick_32\">\r\n     <g id=\"line2d_63\">\r\n      <path clip-path=\"url(#p2e86efb196)\" d=\"M 593.654334 513.38175 \r\nL 593.654334 24.14175 \r\n\" style=\"fill:none;stroke:#ffffff;stroke-linecap:square;stroke-width:0.8;\"/>\r\n     </g>\r\n     <g id=\"line2d_64\">\r\n      <g>\r\n       <use style=\"fill:#555555;stroke:#555555;stroke-width:0.8;\" x=\"593.654334\" xlink:href=\"#m950bbe697e\" y=\"513.38175\"/>\r\n      </g>\r\n     </g>\r\n     <g id=\"text_32\">\r\n      <!-- 3 -->\r\n      <g style=\"fill:#555555;\" transform=\"translate(590.473084 527.980187)scale(0.1 -0.1)\">\r\n       <use xlink:href=\"#DejaVuSans-51\"/>\r\n      </g>\r\n     </g>\r\n    </g>\r\n    <g id=\"xtick_33\">\r\n     <g id=\"line2d_65\">\r\n      <path clip-path=\"url(#p2e86efb196)\" d=\"M 609.959529 513.38175 \r\nL 609.959529 24.14175 \r\n\" style=\"fill:none;stroke:#ffffff;stroke-linecap:square;stroke-width:0.8;\"/>\r\n     </g>\r\n     <g id=\"line2d_66\">\r\n      <g>\r\n       <use style=\"fill:#555555;stroke:#555555;stroke-width:0.8;\" x=\"609.959529\" xlink:href=\"#m950bbe697e\" y=\"513.38175\"/>\r\n      </g>\r\n     </g>\r\n     <g id=\"text_33\">\r\n      <!-- 4 -->\r\n      <g style=\"fill:#555555;\" transform=\"translate(606.778279 527.980187)scale(0.1 -0.1)\">\r\n       <use xlink:href=\"#DejaVuSans-52\"/>\r\n      </g>\r\n     </g>\r\n    </g>\r\n    <g id=\"xtick_34\">\r\n     <g id=\"line2d_67\">\r\n      <path clip-path=\"url(#p2e86efb196)\" d=\"M 626.264724 513.38175 \r\nL 626.264724 24.14175 \r\n\" style=\"fill:none;stroke:#ffffff;stroke-linecap:square;stroke-width:0.8;\"/>\r\n     </g>\r\n     <g id=\"line2d_68\">\r\n      <g>\r\n       <use style=\"fill:#555555;stroke:#555555;stroke-width:0.8;\" x=\"626.264724\" xlink:href=\"#m950bbe697e\" y=\"513.38175\"/>\r\n      </g>\r\n     </g>\r\n     <g id=\"text_34\">\r\n      <!-- 5 -->\r\n      <g style=\"fill:#555555;\" transform=\"translate(623.083474 527.980187)scale(0.1 -0.1)\">\r\n       <use xlink:href=\"#DejaVuSans-53\"/>\r\n      </g>\r\n     </g>\r\n    </g>\r\n    <g id=\"xtick_35\">\r\n     <g id=\"line2d_69\">\r\n      <path clip-path=\"url(#p2e86efb196)\" d=\"M 642.569919 513.38175 \r\nL 642.569919 24.14175 \r\n\" style=\"fill:none;stroke:#ffffff;stroke-linecap:square;stroke-width:0.8;\"/>\r\n     </g>\r\n     <g id=\"line2d_70\">\r\n      <g>\r\n       <use style=\"fill:#555555;stroke:#555555;stroke-width:0.8;\" x=\"642.569919\" xlink:href=\"#m950bbe697e\" y=\"513.38175\"/>\r\n      </g>\r\n     </g>\r\n     <g id=\"text_35\">\r\n      <!-- 6 -->\r\n      <g style=\"fill:#555555;\" transform=\"translate(639.388669 527.980187)scale(0.1 -0.1)\">\r\n       <use xlink:href=\"#DejaVuSans-54\"/>\r\n      </g>\r\n     </g>\r\n    </g>\r\n    <g id=\"xtick_36\">\r\n     <g id=\"line2d_71\">\r\n      <path clip-path=\"url(#p2e86efb196)\" d=\"M 658.875114 513.38175 \r\nL 658.875114 24.14175 \r\n\" style=\"fill:none;stroke:#ffffff;stroke-linecap:square;stroke-width:0.8;\"/>\r\n     </g>\r\n     <g id=\"line2d_72\">\r\n      <g>\r\n       <use style=\"fill:#555555;stroke:#555555;stroke-width:0.8;\" x=\"658.875114\" xlink:href=\"#m950bbe697e\" y=\"513.38175\"/>\r\n      </g>\r\n     </g>\r\n     <g id=\"text_36\">\r\n      <!-- 7 -->\r\n      <g style=\"fill:#555555;\" transform=\"translate(655.693864 527.980187)scale(0.1 -0.1)\">\r\n       <use xlink:href=\"#DejaVuSans-55\"/>\r\n      </g>\r\n     </g>\r\n    </g>\r\n    <g id=\"xtick_37\">\r\n     <g id=\"line2d_73\">\r\n      <path clip-path=\"url(#p2e86efb196)\" d=\"M 675.180308 513.38175 \r\nL 675.180308 24.14175 \r\n\" style=\"fill:none;stroke:#ffffff;stroke-linecap:square;stroke-width:0.8;\"/>\r\n     </g>\r\n     <g id=\"line2d_74\">\r\n      <g>\r\n       <use style=\"fill:#555555;stroke:#555555;stroke-width:0.8;\" x=\"675.180308\" xlink:href=\"#m950bbe697e\" y=\"513.38175\"/>\r\n      </g>\r\n     </g>\r\n     <g id=\"text_37\">\r\n      <!-- 8 -->\r\n      <g style=\"fill:#555555;\" transform=\"translate(671.999058 527.980187)scale(0.1 -0.1)\">\r\n       <use xlink:href=\"#DejaVuSans-56\"/>\r\n      </g>\r\n     </g>\r\n    </g>\r\n    <g id=\"xtick_38\">\r\n     <g id=\"line2d_75\">\r\n      <path clip-path=\"url(#p2e86efb196)\" d=\"M 691.485503 513.38175 \r\nL 691.485503 24.14175 \r\n\" style=\"fill:none;stroke:#ffffff;stroke-linecap:square;stroke-width:0.8;\"/>\r\n     </g>\r\n     <g id=\"line2d_76\">\r\n      <g>\r\n       <use style=\"fill:#555555;stroke:#555555;stroke-width:0.8;\" x=\"691.485503\" xlink:href=\"#m950bbe697e\" y=\"513.38175\"/>\r\n      </g>\r\n     </g>\r\n     <g id=\"text_38\">\r\n      <!-- 9 -->\r\n      <g style=\"fill:#555555;\" transform=\"translate(688.304253 527.980187)scale(0.1 -0.1)\">\r\n       <use xlink:href=\"#DejaVuSans-57\"/>\r\n      </g>\r\n     </g>\r\n    </g>\r\n    <g id=\"xtick_39\">\r\n     <g id=\"line2d_77\">\r\n      <path clip-path=\"url(#p2e86efb196)\" d=\"M 707.790698 513.38175 \r\nL 707.790698 24.14175 \r\n\" style=\"fill:none;stroke:#ffffff;stroke-linecap:square;stroke-width:0.8;\"/>\r\n     </g>\r\n     <g id=\"line2d_78\">\r\n      <g>\r\n       <use style=\"fill:#555555;stroke:#555555;stroke-width:0.8;\" x=\"707.790698\" xlink:href=\"#m950bbe697e\" y=\"513.38175\"/>\r\n      </g>\r\n     </g>\r\n     <g id=\"text_39\">\r\n      <!-- 10 -->\r\n      <g style=\"fill:#555555;\" transform=\"translate(701.428198 527.980187)scale(0.1 -0.1)\">\r\n       <use xlink:href=\"#DejaVuSans-49\"/>\r\n       <use x=\"63.623047\" xlink:href=\"#DejaVuSans-48\"/>\r\n      </g>\r\n     </g>\r\n    </g>\r\n    <g id=\"xtick_40\">\r\n     <g id=\"line2d_79\">\r\n      <path clip-path=\"url(#p2e86efb196)\" d=\"M 724.095893 513.38175 \r\nL 724.095893 24.14175 \r\n\" style=\"fill:none;stroke:#ffffff;stroke-linecap:square;stroke-width:0.8;\"/>\r\n     </g>\r\n     <g id=\"line2d_80\">\r\n      <g>\r\n       <use style=\"fill:#555555;stroke:#555555;stroke-width:0.8;\" x=\"724.095893\" xlink:href=\"#m950bbe697e\" y=\"513.38175\"/>\r\n      </g>\r\n     </g>\r\n     <g id=\"text_40\">\r\n      <!-- 11 -->\r\n      <g style=\"fill:#555555;\" transform=\"translate(717.733393 527.980187)scale(0.1 -0.1)\">\r\n       <use xlink:href=\"#DejaVuSans-49\"/>\r\n       <use x=\"63.623047\" xlink:href=\"#DejaVuSans-49\"/>\r\n      </g>\r\n     </g>\r\n    </g>\r\n    <g id=\"xtick_41\">\r\n     <g id=\"line2d_81\">\r\n      <path clip-path=\"url(#p2e86efb196)\" d=\"M 740.401088 513.38175 \r\nL 740.401088 24.14175 \r\n\" style=\"fill:none;stroke:#ffffff;stroke-linecap:square;stroke-width:0.8;\"/>\r\n     </g>\r\n     <g id=\"line2d_82\">\r\n      <g>\r\n       <use style=\"fill:#555555;stroke:#555555;stroke-width:0.8;\" x=\"740.401088\" xlink:href=\"#m950bbe697e\" y=\"513.38175\"/>\r\n      </g>\r\n     </g>\r\n     <g id=\"text_41\">\r\n      <!-- 12 -->\r\n      <g style=\"fill:#555555;\" transform=\"translate(734.038588 527.980187)scale(0.1 -0.1)\">\r\n       <use xlink:href=\"#DejaVuSans-49\"/>\r\n       <use x=\"63.623047\" xlink:href=\"#DejaVuSans-50\"/>\r\n      </g>\r\n     </g>\r\n    </g>\r\n    <g id=\"xtick_42\">\r\n     <g id=\"line2d_83\">\r\n      <path clip-path=\"url(#p2e86efb196)\" d=\"M 756.706282 513.38175 \r\nL 756.706282 24.14175 \r\n\" style=\"fill:none;stroke:#ffffff;stroke-linecap:square;stroke-width:0.8;\"/>\r\n     </g>\r\n     <g id=\"line2d_84\">\r\n      <g>\r\n       <use style=\"fill:#555555;stroke:#555555;stroke-width:0.8;\" x=\"756.706282\" xlink:href=\"#m950bbe697e\" y=\"513.38175\"/>\r\n      </g>\r\n     </g>\r\n     <g id=\"text_42\">\r\n      <!-- 13 -->\r\n      <g style=\"fill:#555555;\" transform=\"translate(750.343782 527.980187)scale(0.1 -0.1)\">\r\n       <use xlink:href=\"#DejaVuSans-49\"/>\r\n       <use x=\"63.623047\" xlink:href=\"#DejaVuSans-51\"/>\r\n      </g>\r\n     </g>\r\n    </g>\r\n    <g id=\"xtick_43\">\r\n     <g id=\"line2d_85\">\r\n      <path clip-path=\"url(#p2e86efb196)\" d=\"M 773.011477 513.38175 \r\nL 773.011477 24.14175 \r\n\" style=\"fill:none;stroke:#ffffff;stroke-linecap:square;stroke-width:0.8;\"/>\r\n     </g>\r\n     <g id=\"line2d_86\">\r\n      <g>\r\n       <use style=\"fill:#555555;stroke:#555555;stroke-width:0.8;\" x=\"773.011477\" xlink:href=\"#m950bbe697e\" y=\"513.38175\"/>\r\n      </g>\r\n     </g>\r\n     <g id=\"text_43\">\r\n      <!-- 14 -->\r\n      <g style=\"fill:#555555;\" transform=\"translate(766.648977 527.980187)scale(0.1 -0.1)\">\r\n       <use xlink:href=\"#DejaVuSans-49\"/>\r\n       <use x=\"63.623047\" xlink:href=\"#DejaVuSans-52\"/>\r\n      </g>\r\n     </g>\r\n    </g>\r\n    <g id=\"xtick_44\">\r\n     <g id=\"line2d_87\">\r\n      <path clip-path=\"url(#p2e86efb196)\" d=\"M 789.316672 513.38175 \r\nL 789.316672 24.14175 \r\n\" style=\"fill:none;stroke:#ffffff;stroke-linecap:square;stroke-width:0.8;\"/>\r\n     </g>\r\n     <g id=\"line2d_88\">\r\n      <g>\r\n       <use style=\"fill:#555555;stroke:#555555;stroke-width:0.8;\" x=\"789.316672\" xlink:href=\"#m950bbe697e\" y=\"513.38175\"/>\r\n      </g>\r\n     </g>\r\n     <g id=\"text_44\">\r\n      <!-- 15 -->\r\n      <g style=\"fill:#555555;\" transform=\"translate(782.954172 527.980187)scale(0.1 -0.1)\">\r\n       <use xlink:href=\"#DejaVuSans-49\"/>\r\n       <use x=\"63.623047\" xlink:href=\"#DejaVuSans-53\"/>\r\n      </g>\r\n     </g>\r\n    </g>\r\n    <g id=\"xtick_45\">\r\n     <g id=\"line2d_89\">\r\n      <path clip-path=\"url(#p2e86efb196)\" d=\"M 805.621867 513.38175 \r\nL 805.621867 24.14175 \r\n\" style=\"fill:none;stroke:#ffffff;stroke-linecap:square;stroke-width:0.8;\"/>\r\n     </g>\r\n     <g id=\"line2d_90\">\r\n      <g>\r\n       <use style=\"fill:#555555;stroke:#555555;stroke-width:0.8;\" x=\"805.621867\" xlink:href=\"#m950bbe697e\" y=\"513.38175\"/>\r\n      </g>\r\n     </g>\r\n     <g id=\"text_45\">\r\n      <!-- 16 -->\r\n      <g style=\"fill:#555555;\" transform=\"translate(799.259367 527.980187)scale(0.1 -0.1)\">\r\n       <use xlink:href=\"#DejaVuSans-49\"/>\r\n       <use x=\"63.623047\" xlink:href=\"#DejaVuSans-54\"/>\r\n      </g>\r\n     </g>\r\n    </g>\r\n    <g id=\"xtick_46\">\r\n     <g id=\"line2d_91\">\r\n      <path clip-path=\"url(#p2e86efb196)\" d=\"M 821.927062 513.38175 \r\nL 821.927062 24.14175 \r\n\" style=\"fill:none;stroke:#ffffff;stroke-linecap:square;stroke-width:0.8;\"/>\r\n     </g>\r\n     <g id=\"line2d_92\">\r\n      <g>\r\n       <use style=\"fill:#555555;stroke:#555555;stroke-width:0.8;\" x=\"821.927062\" xlink:href=\"#m950bbe697e\" y=\"513.38175\"/>\r\n      </g>\r\n     </g>\r\n     <g id=\"text_46\">\r\n      <!-- 17 -->\r\n      <g style=\"fill:#555555;\" transform=\"translate(815.564562 527.980187)scale(0.1 -0.1)\">\r\n       <use xlink:href=\"#DejaVuSans-49\"/>\r\n       <use x=\"63.623047\" xlink:href=\"#DejaVuSans-55\"/>\r\n      </g>\r\n     </g>\r\n    </g>\r\n    <g id=\"xtick_47\">\r\n     <g id=\"line2d_93\">\r\n      <path clip-path=\"url(#p2e86efb196)\" d=\"M 838.232256 513.38175 \r\nL 838.232256 24.14175 \r\n\" style=\"fill:none;stroke:#ffffff;stroke-linecap:square;stroke-width:0.8;\"/>\r\n     </g>\r\n     <g id=\"line2d_94\">\r\n      <g>\r\n       <use style=\"fill:#555555;stroke:#555555;stroke-width:0.8;\" x=\"838.232256\" xlink:href=\"#m950bbe697e\" y=\"513.38175\"/>\r\n      </g>\r\n     </g>\r\n     <g id=\"text_47\">\r\n      <!-- 18 -->\r\n      <g style=\"fill:#555555;\" transform=\"translate(831.869756 527.980187)scale(0.1 -0.1)\">\r\n       <use xlink:href=\"#DejaVuSans-49\"/>\r\n       <use x=\"63.623047\" xlink:href=\"#DejaVuSans-56\"/>\r\n      </g>\r\n     </g>\r\n    </g>\r\n    <g id=\"xtick_48\">\r\n     <g id=\"line2d_95\">\r\n      <path clip-path=\"url(#p2e86efb196)\" d=\"M 854.537451 513.38175 \r\nL 854.537451 24.14175 \r\n\" style=\"fill:none;stroke:#ffffff;stroke-linecap:square;stroke-width:0.8;\"/>\r\n     </g>\r\n     <g id=\"line2d_96\">\r\n      <g>\r\n       <use style=\"fill:#555555;stroke:#555555;stroke-width:0.8;\" x=\"854.537451\" xlink:href=\"#m950bbe697e\" y=\"513.38175\"/>\r\n      </g>\r\n     </g>\r\n     <g id=\"text_48\">\r\n      <!-- 19 -->\r\n      <g style=\"fill:#555555;\" transform=\"translate(848.174951 527.980187)scale(0.1 -0.1)\">\r\n       <use xlink:href=\"#DejaVuSans-49\"/>\r\n       <use x=\"63.623047\" xlink:href=\"#DejaVuSans-57\"/>\r\n      </g>\r\n     </g>\r\n    </g>\r\n    <g id=\"xtick_49\">\r\n     <g id=\"line2d_97\">\r\n      <path clip-path=\"url(#p2e86efb196)\" d=\"M 870.842646 513.38175 \r\nL 870.842646 24.14175 \r\n\" style=\"fill:none;stroke:#ffffff;stroke-linecap:square;stroke-width:0.8;\"/>\r\n     </g>\r\n     <g id=\"line2d_98\">\r\n      <g>\r\n       <use style=\"fill:#555555;stroke:#555555;stroke-width:0.8;\" x=\"870.842646\" xlink:href=\"#m950bbe697e\" y=\"513.38175\"/>\r\n      </g>\r\n     </g>\r\n     <g id=\"text_49\">\r\n      <!-- 20 -->\r\n      <g style=\"fill:#555555;\" transform=\"translate(864.480146 527.980187)scale(0.1 -0.1)\">\r\n       <use xlink:href=\"#DejaVuSans-50\"/>\r\n       <use x=\"63.623047\" xlink:href=\"#DejaVuSans-48\"/>\r\n      </g>\r\n     </g>\r\n    </g>\r\n    <g id=\"xtick_50\">\r\n     <g id=\"line2d_99\">\r\n      <path clip-path=\"url(#p2e86efb196)\" d=\"M 887.147841 513.38175 \r\nL 887.147841 24.14175 \r\n\" style=\"fill:none;stroke:#ffffff;stroke-linecap:square;stroke-width:0.8;\"/>\r\n     </g>\r\n     <g id=\"line2d_100\">\r\n      <g>\r\n       <use style=\"fill:#555555;stroke:#555555;stroke-width:0.8;\" x=\"887.147841\" xlink:href=\"#m950bbe697e\" y=\"513.38175\"/>\r\n      </g>\r\n     </g>\r\n     <g id=\"text_50\">\r\n      <!-- 21 -->\r\n      <g style=\"fill:#555555;\" transform=\"translate(880.785341 527.980187)scale(0.1 -0.1)\">\r\n       <use xlink:href=\"#DejaVuSans-50\"/>\r\n       <use x=\"63.623047\" xlink:href=\"#DejaVuSans-49\"/>\r\n      </g>\r\n     </g>\r\n    </g>\r\n    <g id=\"xtick_51\">\r\n     <g id=\"line2d_101\">\r\n      <path clip-path=\"url(#p2e86efb196)\" d=\"M 903.453036 513.38175 \r\nL 903.453036 24.14175 \r\n\" style=\"fill:none;stroke:#ffffff;stroke-linecap:square;stroke-width:0.8;\"/>\r\n     </g>\r\n     <g id=\"line2d_102\">\r\n      <g>\r\n       <use style=\"fill:#555555;stroke:#555555;stroke-width:0.8;\" x=\"903.453036\" xlink:href=\"#m950bbe697e\" y=\"513.38175\"/>\r\n      </g>\r\n     </g>\r\n     <g id=\"text_51\">\r\n      <!-- 22 -->\r\n      <g style=\"fill:#555555;\" transform=\"translate(897.090536 527.980187)scale(0.1 -0.1)\">\r\n       <use xlink:href=\"#DejaVuSans-50\"/>\r\n       <use x=\"63.623047\" xlink:href=\"#DejaVuSans-50\"/>\r\n      </g>\r\n     </g>\r\n    </g>\r\n    <g id=\"xtick_52\">\r\n     <g id=\"line2d_103\">\r\n      <path clip-path=\"url(#p2e86efb196)\" d=\"M 919.758231 513.38175 \r\nL 919.758231 24.14175 \r\n\" style=\"fill:none;stroke:#ffffff;stroke-linecap:square;stroke-width:0.8;\"/>\r\n     </g>\r\n     <g id=\"line2d_104\">\r\n      <g>\r\n       <use style=\"fill:#555555;stroke:#555555;stroke-width:0.8;\" x=\"919.758231\" xlink:href=\"#m950bbe697e\" y=\"513.38175\"/>\r\n      </g>\r\n     </g>\r\n     <g id=\"text_52\">\r\n      <!-- 23 -->\r\n      <g style=\"fill:#555555;\" transform=\"translate(913.395731 527.980187)scale(0.1 -0.1)\">\r\n       <use xlink:href=\"#DejaVuSans-50\"/>\r\n       <use x=\"63.623047\" xlink:href=\"#DejaVuSans-51\"/>\r\n      </g>\r\n     </g>\r\n    </g>\r\n    <g id=\"xtick_53\">\r\n     <g id=\"line2d_105\">\r\n      <path clip-path=\"url(#p2e86efb196)\" d=\"M 936.063425 513.38175 \r\nL 936.063425 24.14175 \r\n\" style=\"fill:none;stroke:#ffffff;stroke-linecap:square;stroke-width:0.8;\"/>\r\n     </g>\r\n     <g id=\"line2d_106\">\r\n      <g>\r\n       <use style=\"fill:#555555;stroke:#555555;stroke-width:0.8;\" x=\"936.063425\" xlink:href=\"#m950bbe697e\" y=\"513.38175\"/>\r\n      </g>\r\n     </g>\r\n     <g id=\"text_53\">\r\n      <!-- 24 -->\r\n      <g style=\"fill:#555555;\" transform=\"translate(929.700925 527.980187)scale(0.1 -0.1)\">\r\n       <use xlink:href=\"#DejaVuSans-50\"/>\r\n       <use x=\"63.623047\" xlink:href=\"#DejaVuSans-52\"/>\r\n      </g>\r\n     </g>\r\n    </g>\r\n    <g id=\"xtick_54\">\r\n     <g id=\"line2d_107\">\r\n      <path clip-path=\"url(#p2e86efb196)\" d=\"M 952.36862 513.38175 \r\nL 952.36862 24.14175 \r\n\" style=\"fill:none;stroke:#ffffff;stroke-linecap:square;stroke-width:0.8;\"/>\r\n     </g>\r\n     <g id=\"line2d_108\">\r\n      <g>\r\n       <use style=\"fill:#555555;stroke:#555555;stroke-width:0.8;\" x=\"952.36862\" xlink:href=\"#m950bbe697e\" y=\"513.38175\"/>\r\n      </g>\r\n     </g>\r\n     <g id=\"text_54\">\r\n      <!-- 25 -->\r\n      <g style=\"fill:#555555;\" transform=\"translate(946.00612 527.980187)scale(0.1 -0.1)\">\r\n       <use xlink:href=\"#DejaVuSans-50\"/>\r\n       <use x=\"63.623047\" xlink:href=\"#DejaVuSans-53\"/>\r\n      </g>\r\n     </g>\r\n    </g>\r\n    <g id=\"xtick_55\">\r\n     <g id=\"line2d_109\">\r\n      <path clip-path=\"url(#p2e86efb196)\" d=\"M 968.673815 513.38175 \r\nL 968.673815 24.14175 \r\n\" style=\"fill:none;stroke:#ffffff;stroke-linecap:square;stroke-width:0.8;\"/>\r\n     </g>\r\n     <g id=\"line2d_110\">\r\n      <g>\r\n       <use style=\"fill:#555555;stroke:#555555;stroke-width:0.8;\" x=\"968.673815\" xlink:href=\"#m950bbe697e\" y=\"513.38175\"/>\r\n      </g>\r\n     </g>\r\n     <g id=\"text_55\">\r\n      <!-- 26 -->\r\n      <g style=\"fill:#555555;\" transform=\"translate(962.311315 527.980187)scale(0.1 -0.1)\">\r\n       <use xlink:href=\"#DejaVuSans-50\"/>\r\n       <use x=\"63.623047\" xlink:href=\"#DejaVuSans-54\"/>\r\n      </g>\r\n     </g>\r\n    </g>\r\n    <g id=\"xtick_56\">\r\n     <g id=\"line2d_111\">\r\n      <path clip-path=\"url(#p2e86efb196)\" d=\"M 984.97901 513.38175 \r\nL 984.97901 24.14175 \r\n\" style=\"fill:none;stroke:#ffffff;stroke-linecap:square;stroke-width:0.8;\"/>\r\n     </g>\r\n     <g id=\"line2d_112\">\r\n      <g>\r\n       <use style=\"fill:#555555;stroke:#555555;stroke-width:0.8;\" x=\"984.97901\" xlink:href=\"#m950bbe697e\" y=\"513.38175\"/>\r\n      </g>\r\n     </g>\r\n     <g id=\"text_56\">\r\n      <!-- 27 -->\r\n      <g style=\"fill:#555555;\" transform=\"translate(978.61651 527.980187)scale(0.1 -0.1)\">\r\n       <use xlink:href=\"#DejaVuSans-50\"/>\r\n       <use x=\"63.623047\" xlink:href=\"#DejaVuSans-55\"/>\r\n      </g>\r\n     </g>\r\n    </g>\r\n    <g id=\"xtick_57\">\r\n     <g id=\"line2d_113\">\r\n      <path clip-path=\"url(#p2e86efb196)\" d=\"M 1001.284205 513.38175 \r\nL 1001.284205 24.14175 \r\n\" style=\"fill:none;stroke:#ffffff;stroke-linecap:square;stroke-width:0.8;\"/>\r\n     </g>\r\n     <g id=\"line2d_114\">\r\n      <g>\r\n       <use style=\"fill:#555555;stroke:#555555;stroke-width:0.8;\" x=\"1001.284205\" xlink:href=\"#m950bbe697e\" y=\"513.38175\"/>\r\n      </g>\r\n     </g>\r\n     <g id=\"text_57\">\r\n      <!-- 28 -->\r\n      <g style=\"fill:#555555;\" transform=\"translate(994.921705 527.980187)scale(0.1 -0.1)\">\r\n       <use xlink:href=\"#DejaVuSans-50\"/>\r\n       <use x=\"63.623047\" xlink:href=\"#DejaVuSans-56\"/>\r\n      </g>\r\n     </g>\r\n    </g>\r\n    <g id=\"text_58\">\r\n     <!-- Days in relation to Sept 1 -->\r\n     <g style=\"fill:#555555;\" transform=\"translate(468.398125 543.178)scale(0.12 -0.12)\">\r\n      <defs>\r\n       <path d=\"M 19.671875 64.796875 \r\nL 19.671875 8.109375 \r\nL 31.59375 8.109375 \r\nQ 46.6875 8.109375 53.6875 14.9375 \r\nQ 60.6875 21.78125 60.6875 36.53125 \r\nQ 60.6875 51.171875 53.6875 57.984375 \r\nQ 46.6875 64.796875 31.59375 64.796875 \r\nz\r\nM 9.8125 72.90625 \r\nL 30.078125 72.90625 \r\nQ 51.265625 72.90625 61.171875 64.09375 \r\nQ 71.09375 55.28125 71.09375 36.53125 \r\nQ 71.09375 17.671875 61.125 8.828125 \r\nQ 51.171875 0 30.078125 0 \r\nL 9.8125 0 \r\nz\r\n\" id=\"DejaVuSans-68\"/>\r\n       <path d=\"M 34.28125 27.484375 \r\nQ 23.390625 27.484375 19.1875 25 \r\nQ 14.984375 22.515625 14.984375 16.5 \r\nQ 14.984375 11.71875 18.140625 8.90625 \r\nQ 21.296875 6.109375 26.703125 6.109375 \r\nQ 34.1875 6.109375 38.703125 11.40625 \r\nQ 43.21875 16.703125 43.21875 25.484375 \r\nL 43.21875 27.484375 \r\nz\r\nM 52.203125 31.203125 \r\nL 52.203125 0 \r\nL 43.21875 0 \r\nL 43.21875 8.296875 \r\nQ 40.140625 3.328125 35.546875 0.953125 \r\nQ 30.953125 -1.421875 24.3125 -1.421875 \r\nQ 15.921875 -1.421875 10.953125 3.296875 \r\nQ 6 8.015625 6 15.921875 \r\nQ 6 25.140625 12.171875 29.828125 \r\nQ 18.359375 34.515625 30.609375 34.515625 \r\nL 43.21875 34.515625 \r\nL 43.21875 35.40625 \r\nQ 43.21875 41.609375 39.140625 45 \r\nQ 35.0625 48.390625 27.6875 48.390625 \r\nQ 23 48.390625 18.546875 47.265625 \r\nQ 14.109375 46.140625 10.015625 43.890625 \r\nL 10.015625 52.203125 \r\nQ 14.9375 54.109375 19.578125 55.046875 \r\nQ 24.21875 56 28.609375 56 \r\nQ 40.484375 56 46.34375 49.84375 \r\nQ 52.203125 43.703125 52.203125 31.203125 \r\nz\r\n\" id=\"DejaVuSans-97\"/>\r\n       <path d=\"M 32.171875 -5.078125 \r\nQ 28.375 -14.84375 24.75 -17.8125 \r\nQ 21.140625 -20.796875 15.09375 -20.796875 \r\nL 7.90625 -20.796875 \r\nL 7.90625 -13.28125 \r\nL 13.1875 -13.28125 \r\nQ 16.890625 -13.28125 18.9375 -11.515625 \r\nQ 21 -9.765625 23.484375 -3.21875 \r\nL 25.09375 0.875 \r\nL 2.984375 54.6875 \r\nL 12.5 54.6875 \r\nL 29.59375 11.921875 \r\nL 46.6875 54.6875 \r\nL 56.203125 54.6875 \r\nz\r\n\" id=\"DejaVuSans-121\"/>\r\n       <path d=\"M 44.28125 53.078125 \r\nL 44.28125 44.578125 \r\nQ 40.484375 46.53125 36.375 47.5 \r\nQ 32.28125 48.484375 27.875 48.484375 \r\nQ 21.1875 48.484375 17.84375 46.4375 \r\nQ 14.5 44.390625 14.5 40.28125 \r\nQ 14.5 37.15625 16.890625 35.375 \r\nQ 19.28125 33.59375 26.515625 31.984375 \r\nL 29.59375 31.296875 \r\nQ 39.15625 29.25 43.1875 25.515625 \r\nQ 47.21875 21.78125 47.21875 15.09375 \r\nQ 47.21875 7.46875 41.1875 3.015625 \r\nQ 35.15625 -1.421875 24.609375 -1.421875 \r\nQ 20.21875 -1.421875 15.453125 -0.5625 \r\nQ 10.6875 0.296875 5.421875 2 \r\nL 5.421875 11.28125 \r\nQ 10.40625 8.6875 15.234375 7.390625 \r\nQ 20.0625 6.109375 24.8125 6.109375 \r\nQ 31.15625 6.109375 34.5625 8.28125 \r\nQ 37.984375 10.453125 37.984375 14.40625 \r\nQ 37.984375 18.0625 35.515625 20.015625 \r\nQ 33.0625 21.96875 24.703125 23.78125 \r\nL 21.578125 24.515625 \r\nQ 13.234375 26.265625 9.515625 29.90625 \r\nQ 5.8125 33.546875 5.8125 39.890625 \r\nQ 5.8125 47.609375 11.28125 51.796875 \r\nQ 16.75 56 26.8125 56 \r\nQ 31.78125 56 36.171875 55.265625 \r\nQ 40.578125 54.546875 44.28125 53.078125 \r\nz\r\n\" id=\"DejaVuSans-115\"/>\r\n       <path id=\"DejaVuSans-32\"/>\r\n       <path d=\"M 9.421875 54.6875 \r\nL 18.40625 54.6875 \r\nL 18.40625 0 \r\nL 9.421875 0 \r\nz\r\nM 9.421875 75.984375 \r\nL 18.40625 75.984375 \r\nL 18.40625 64.59375 \r\nL 9.421875 64.59375 \r\nz\r\n\" id=\"DejaVuSans-105\"/>\r\n       <path d=\"M 54.890625 33.015625 \r\nL 54.890625 0 \r\nL 45.90625 0 \r\nL 45.90625 32.71875 \r\nQ 45.90625 40.484375 42.875 44.328125 \r\nQ 39.84375 48.1875 33.796875 48.1875 \r\nQ 26.515625 48.1875 22.3125 43.546875 \r\nQ 18.109375 38.921875 18.109375 30.90625 \r\nL 18.109375 0 \r\nL 9.078125 0 \r\nL 9.078125 54.6875 \r\nL 18.109375 54.6875 \r\nL 18.109375 46.1875 \r\nQ 21.34375 51.125 25.703125 53.5625 \r\nQ 30.078125 56 35.796875 56 \r\nQ 45.21875 56 50.046875 50.171875 \r\nQ 54.890625 44.34375 54.890625 33.015625 \r\nz\r\n\" id=\"DejaVuSans-110\"/>\r\n       <path d=\"M 41.109375 46.296875 \r\nQ 39.59375 47.171875 37.8125 47.578125 \r\nQ 36.03125 48 33.890625 48 \r\nQ 26.265625 48 22.1875 43.046875 \r\nQ 18.109375 38.09375 18.109375 28.8125 \r\nL 18.109375 0 \r\nL 9.078125 0 \r\nL 9.078125 54.6875 \r\nL 18.109375 54.6875 \r\nL 18.109375 46.1875 \r\nQ 20.953125 51.171875 25.484375 53.578125 \r\nQ 30.03125 56 36.53125 56 \r\nQ 37.453125 56 38.578125 55.875 \r\nQ 39.703125 55.765625 41.0625 55.515625 \r\nz\r\n\" id=\"DejaVuSans-114\"/>\r\n       <path d=\"M 56.203125 29.59375 \r\nL 56.203125 25.203125 \r\nL 14.890625 25.203125 \r\nQ 15.484375 15.921875 20.484375 11.0625 \r\nQ 25.484375 6.203125 34.421875 6.203125 \r\nQ 39.59375 6.203125 44.453125 7.46875 \r\nQ 49.3125 8.734375 54.109375 11.28125 \r\nL 54.109375 2.78125 \r\nQ 49.265625 0.734375 44.1875 -0.34375 \r\nQ 39.109375 -1.421875 33.890625 -1.421875 \r\nQ 20.796875 -1.421875 13.15625 6.1875 \r\nQ 5.515625 13.8125 5.515625 26.8125 \r\nQ 5.515625 40.234375 12.765625 48.109375 \r\nQ 20.015625 56 32.328125 56 \r\nQ 43.359375 56 49.78125 48.890625 \r\nQ 56.203125 41.796875 56.203125 29.59375 \r\nz\r\nM 47.21875 32.234375 \r\nQ 47.125 39.59375 43.09375 43.984375 \r\nQ 39.0625 48.390625 32.421875 48.390625 \r\nQ 24.90625 48.390625 20.390625 44.140625 \r\nQ 15.875 39.890625 15.1875 32.171875 \r\nz\r\n\" id=\"DejaVuSans-101\"/>\r\n       <path d=\"M 9.421875 75.984375 \r\nL 18.40625 75.984375 \r\nL 18.40625 0 \r\nL 9.421875 0 \r\nz\r\n\" id=\"DejaVuSans-108\"/>\r\n       <path d=\"M 18.3125 70.21875 \r\nL 18.3125 54.6875 \r\nL 36.8125 54.6875 \r\nL 36.8125 47.703125 \r\nL 18.3125 47.703125 \r\nL 18.3125 18.015625 \r\nQ 18.3125 11.328125 20.140625 9.421875 \r\nQ 21.96875 7.515625 27.59375 7.515625 \r\nL 36.8125 7.515625 \r\nL 36.8125 0 \r\nL 27.59375 0 \r\nQ 17.1875 0 13.234375 3.875 \r\nQ 9.28125 7.765625 9.28125 18.015625 \r\nL 9.28125 47.703125 \r\nL 2.6875 47.703125 \r\nL 2.6875 54.6875 \r\nL 9.28125 54.6875 \r\nL 9.28125 70.21875 \r\nz\r\n\" id=\"DejaVuSans-116\"/>\r\n       <path d=\"M 30.609375 48.390625 \r\nQ 23.390625 48.390625 19.1875 42.75 \r\nQ 14.984375 37.109375 14.984375 27.296875 \r\nQ 14.984375 17.484375 19.15625 11.84375 \r\nQ 23.34375 6.203125 30.609375 6.203125 \r\nQ 37.796875 6.203125 41.984375 11.859375 \r\nQ 46.1875 17.53125 46.1875 27.296875 \r\nQ 46.1875 37.015625 41.984375 42.703125 \r\nQ 37.796875 48.390625 30.609375 48.390625 \r\nz\r\nM 30.609375 56 \r\nQ 42.328125 56 49.015625 48.375 \r\nQ 55.71875 40.765625 55.71875 27.296875 \r\nQ 55.71875 13.875 49.015625 6.21875 \r\nQ 42.328125 -1.421875 30.609375 -1.421875 \r\nQ 18.84375 -1.421875 12.171875 6.21875 \r\nQ 5.515625 13.875 5.515625 27.296875 \r\nQ 5.515625 40.765625 12.171875 48.375 \r\nQ 18.84375 56 30.609375 56 \r\nz\r\n\" id=\"DejaVuSans-111\"/>\r\n       <path d=\"M 53.515625 70.515625 \r\nL 53.515625 60.890625 \r\nQ 47.90625 63.578125 42.921875 64.890625 \r\nQ 37.9375 66.21875 33.296875 66.21875 \r\nQ 25.25 66.21875 20.875 63.09375 \r\nQ 16.5 59.96875 16.5 54.203125 \r\nQ 16.5 49.359375 19.40625 46.890625 \r\nQ 22.3125 44.4375 30.421875 42.921875 \r\nL 36.375 41.703125 \r\nQ 47.40625 39.59375 52.65625 34.296875 \r\nQ 57.90625 29 57.90625 20.125 \r\nQ 57.90625 9.515625 50.796875 4.046875 \r\nQ 43.703125 -1.421875 29.984375 -1.421875 \r\nQ 24.8125 -1.421875 18.96875 -0.25 \r\nQ 13.140625 0.921875 6.890625 3.21875 \r\nL 6.890625 13.375 \r\nQ 12.890625 10.015625 18.65625 8.296875 \r\nQ 24.421875 6.59375 29.984375 6.59375 \r\nQ 38.421875 6.59375 43.015625 9.90625 \r\nQ 47.609375 13.234375 47.609375 19.390625 \r\nQ 47.609375 24.75 44.3125 27.78125 \r\nQ 41.015625 30.8125 33.5 32.328125 \r\nL 27.484375 33.5 \r\nQ 16.453125 35.6875 11.515625 40.375 \r\nQ 6.59375 45.0625 6.59375 53.421875 \r\nQ 6.59375 63.09375 13.40625 68.65625 \r\nQ 20.21875 74.21875 32.171875 74.21875 \r\nQ 37.3125 74.21875 42.625 73.28125 \r\nQ 47.953125 72.359375 53.515625 70.515625 \r\nz\r\n\" id=\"DejaVuSans-83\"/>\r\n       <path d=\"M 18.109375 8.203125 \r\nL 18.109375 -20.796875 \r\nL 9.078125 -20.796875 \r\nL 9.078125 54.6875 \r\nL 18.109375 54.6875 \r\nL 18.109375 46.390625 \r\nQ 20.953125 51.265625 25.265625 53.625 \r\nQ 29.59375 56 35.59375 56 \r\nQ 45.5625 56 51.78125 48.09375 \r\nQ 58.015625 40.1875 58.015625 27.296875 \r\nQ 58.015625 14.40625 51.78125 6.484375 \r\nQ 45.5625 -1.421875 35.59375 -1.421875 \r\nQ 29.59375 -1.421875 25.265625 0.953125 \r\nQ 20.953125 3.328125 18.109375 8.203125 \r\nz\r\nM 48.6875 27.296875 \r\nQ 48.6875 37.203125 44.609375 42.84375 \r\nQ 40.53125 48.484375 33.40625 48.484375 \r\nQ 26.265625 48.484375 22.1875 42.84375 \r\nQ 18.109375 37.203125 18.109375 27.296875 \r\nQ 18.109375 17.390625 22.1875 11.75 \r\nQ 26.265625 6.109375 33.40625 6.109375 \r\nQ 40.53125 6.109375 44.609375 11.75 \r\nQ 48.6875 17.390625 48.6875 27.296875 \r\nz\r\n\" id=\"DejaVuSans-112\"/>\r\n      </defs>\r\n      <use xlink:href=\"#DejaVuSans-68\"/>\r\n      <use x=\"77.001953\" xlink:href=\"#DejaVuSans-97\"/>\r\n      <use x=\"138.28125\" xlink:href=\"#DejaVuSans-121\"/>\r\n      <use x=\"197.460938\" xlink:href=\"#DejaVuSans-115\"/>\r\n      <use x=\"249.560547\" xlink:href=\"#DejaVuSans-32\"/>\r\n      <use x=\"281.347656\" xlink:href=\"#DejaVuSans-105\"/>\r\n      <use x=\"309.130859\" xlink:href=\"#DejaVuSans-110\"/>\r\n      <use x=\"372.509766\" xlink:href=\"#DejaVuSans-32\"/>\r\n      <use x=\"404.296875\" xlink:href=\"#DejaVuSans-114\"/>\r\n      <use x=\"443.160156\" xlink:href=\"#DejaVuSans-101\"/>\r\n      <use x=\"504.683594\" xlink:href=\"#DejaVuSans-108\"/>\r\n      <use x=\"532.466797\" xlink:href=\"#DejaVuSans-97\"/>\r\n      <use x=\"593.746094\" xlink:href=\"#DejaVuSans-116\"/>\r\n      <use x=\"632.955078\" xlink:href=\"#DejaVuSans-105\"/>\r\n      <use x=\"660.738281\" xlink:href=\"#DejaVuSans-111\"/>\r\n      <use x=\"721.919922\" xlink:href=\"#DejaVuSans-110\"/>\r\n      <use x=\"785.298828\" xlink:href=\"#DejaVuSans-32\"/>\r\n      <use x=\"817.085938\" xlink:href=\"#DejaVuSans-116\"/>\r\n      <use x=\"856.294922\" xlink:href=\"#DejaVuSans-111\"/>\r\n      <use x=\"917.476562\" xlink:href=\"#DejaVuSans-32\"/>\r\n      <use x=\"949.263672\" xlink:href=\"#DejaVuSans-83\"/>\r\n      <use x=\"1012.740234\" xlink:href=\"#DejaVuSans-101\"/>\r\n      <use x=\"1074.263672\" xlink:href=\"#DejaVuSans-112\"/>\r\n      <use x=\"1137.740234\" xlink:href=\"#DejaVuSans-116\"/>\r\n      <use x=\"1176.949219\" xlink:href=\"#DejaVuSans-32\"/>\r\n      <use x=\"1208.736328\" xlink:href=\"#DejaVuSans-49\"/>\r\n     </g>\r\n    </g>\r\n   </g>\r\n   <g id=\"matplotlib.axis_2\">\r\n    <g id=\"ytick_1\">\r\n     <g id=\"line2d_115\">\r\n      <path clip-path=\"url(#p2e86efb196)\" d=\"M 42.53875 421.958114 \r\nL 1046.93875 421.958114 \r\n\" style=\"fill:none;stroke:#ffffff;stroke-linecap:square;stroke-width:0.8;\"/>\r\n     </g>\r\n     <g id=\"line2d_116\">\r\n      <defs>\r\n       <path d=\"M 0 0 \r\nL -3.5 0 \r\n\" id=\"mdcd3b532e7\" style=\"stroke:#555555;stroke-width:0.8;\"/>\r\n      </defs>\r\n      <g>\r\n       <use style=\"fill:#555555;stroke:#555555;stroke-width:0.8;\" x=\"42.53875\" xlink:href=\"#mdcd3b532e7\" y=\"421.958114\"/>\r\n      </g>\r\n     </g>\r\n     <g id=\"text_59\">\r\n      <!-- 10 -->\r\n      <g style=\"fill:#555555;\" transform=\"translate(22.81375 425.757332)scale(0.1 -0.1)\">\r\n       <use xlink:href=\"#DejaVuSans-49\"/>\r\n       <use x=\"63.623047\" xlink:href=\"#DejaVuSans-48\"/>\r\n      </g>\r\n     </g>\r\n    </g>\r\n    <g id=\"ytick_2\">\r\n     <g id=\"line2d_117\">\r\n      <path clip-path=\"url(#p2e86efb196)\" d=\"M 42.53875 323.12175 \r\nL 1046.93875 323.12175 \r\n\" style=\"fill:none;stroke:#ffffff;stroke-linecap:square;stroke-width:0.8;\"/>\r\n     </g>\r\n     <g id=\"line2d_118\">\r\n      <g>\r\n       <use style=\"fill:#555555;stroke:#555555;stroke-width:0.8;\" x=\"42.53875\" xlink:href=\"#mdcd3b532e7\" y=\"323.12175\"/>\r\n      </g>\r\n     </g>\r\n     <g id=\"text_60\">\r\n      <!-- 20 -->\r\n      <g style=\"fill:#555555;\" transform=\"translate(22.81375 326.920969)scale(0.1 -0.1)\">\r\n       <use xlink:href=\"#DejaVuSans-50\"/>\r\n       <use x=\"63.623047\" xlink:href=\"#DejaVuSans-48\"/>\r\n      </g>\r\n     </g>\r\n    </g>\r\n    <g id=\"ytick_3\">\r\n     <g id=\"line2d_119\">\r\n      <path clip-path=\"url(#p2e86efb196)\" d=\"M 42.53875 224.285386 \r\nL 1046.93875 224.285386 \r\n\" style=\"fill:none;stroke:#ffffff;stroke-linecap:square;stroke-width:0.8;\"/>\r\n     </g>\r\n     <g id=\"line2d_120\">\r\n      <g>\r\n       <use style=\"fill:#555555;stroke:#555555;stroke-width:0.8;\" x=\"42.53875\" xlink:href=\"#mdcd3b532e7\" y=\"224.285386\"/>\r\n      </g>\r\n     </g>\r\n     <g id=\"text_61\">\r\n      <!-- 30 -->\r\n      <g style=\"fill:#555555;\" transform=\"translate(22.81375 228.084605)scale(0.1 -0.1)\">\r\n       <use xlink:href=\"#DejaVuSans-51\"/>\r\n       <use x=\"63.623047\" xlink:href=\"#DejaVuSans-48\"/>\r\n      </g>\r\n     </g>\r\n    </g>\r\n    <g id=\"ytick_4\">\r\n     <g id=\"line2d_121\">\r\n      <path clip-path=\"url(#p2e86efb196)\" d=\"M 42.53875 125.449023 \r\nL 1046.93875 125.449023 \r\n\" style=\"fill:none;stroke:#ffffff;stroke-linecap:square;stroke-width:0.8;\"/>\r\n     </g>\r\n     <g id=\"line2d_122\">\r\n      <g>\r\n       <use style=\"fill:#555555;stroke:#555555;stroke-width:0.8;\" x=\"42.53875\" xlink:href=\"#mdcd3b532e7\" y=\"125.449023\"/>\r\n      </g>\r\n     </g>\r\n     <g id=\"text_62\">\r\n      <!-- 40 -->\r\n      <g style=\"fill:#555555;\" transform=\"translate(22.81375 129.248241)scale(0.1 -0.1)\">\r\n       <use xlink:href=\"#DejaVuSans-52\"/>\r\n       <use x=\"63.623047\" xlink:href=\"#DejaVuSans-48\"/>\r\n      </g>\r\n     </g>\r\n    </g>\r\n    <g id=\"ytick_5\">\r\n     <g id=\"line2d_123\">\r\n      <path clip-path=\"url(#p2e86efb196)\" d=\"M 42.53875 26.612659 \r\nL 1046.93875 26.612659 \r\n\" style=\"fill:none;stroke:#ffffff;stroke-linecap:square;stroke-width:0.8;\"/>\r\n     </g>\r\n     <g id=\"line2d_124\">\r\n      <g>\r\n       <use style=\"fill:#555555;stroke:#555555;stroke-width:0.8;\" x=\"42.53875\" xlink:href=\"#mdcd3b532e7\" y=\"26.612659\"/>\r\n      </g>\r\n     </g>\r\n     <g id=\"text_63\">\r\n      <!-- 50 -->\r\n      <g style=\"fill:#555555;\" transform=\"translate(22.81375 30.411878)scale(0.1 -0.1)\">\r\n       <use xlink:href=\"#DejaVuSans-53\"/>\r\n       <use x=\"63.623047\" xlink:href=\"#DejaVuSans-48\"/>\r\n      </g>\r\n     </g>\r\n    </g>\r\n    <g id=\"text_64\">\r\n     <!-- Total # of Hospitalizations in Qc -->\r\n     <g style=\"fill:#555555;\" transform=\"translate(16.318125 364.203)rotate(-90)scale(0.12 -0.12)\">\r\n      <defs>\r\n       <path d=\"M -0.296875 72.90625 \r\nL 61.375 72.90625 \r\nL 61.375 64.59375 \r\nL 35.5 64.59375 \r\nL 35.5 0 \r\nL 25.59375 0 \r\nL 25.59375 64.59375 \r\nL -0.296875 64.59375 \r\nz\r\n\" id=\"DejaVuSans-84\"/>\r\n       <path d=\"M 51.125 44 \r\nL 36.921875 44 \r\nL 32.8125 27.6875 \r\nL 47.125 27.6875 \r\nz\r\nM 43.796875 71.78125 \r\nL 38.71875 51.515625 \r\nL 52.984375 51.515625 \r\nL 58.109375 71.78125 \r\nL 65.921875 71.78125 \r\nL 60.890625 51.515625 \r\nL 76.125 51.515625 \r\nL 76.125 44 \r\nL 58.984375 44 \r\nL 54.984375 27.6875 \r\nL 70.515625 27.6875 \r\nL 70.515625 20.21875 \r\nL 53.078125 20.21875 \r\nL 48 0 \r\nL 40.1875 0 \r\nL 45.21875 20.21875 \r\nL 30.90625 20.21875 \r\nL 25.875 0 \r\nL 18.015625 0 \r\nL 23.09375 20.21875 \r\nL 7.71875 20.21875 \r\nL 7.71875 27.6875 \r\nL 24.90625 27.6875 \r\nL 29 44 \r\nL 13.28125 44 \r\nL 13.28125 51.515625 \r\nL 30.90625 51.515625 \r\nL 35.890625 71.78125 \r\nz\r\n\" id=\"DejaVuSans-35\"/>\r\n       <path d=\"M 37.109375 75.984375 \r\nL 37.109375 68.5 \r\nL 28.515625 68.5 \r\nQ 23.6875 68.5 21.796875 66.546875 \r\nQ 19.921875 64.59375 19.921875 59.515625 \r\nL 19.921875 54.6875 \r\nL 34.71875 54.6875 \r\nL 34.71875 47.703125 \r\nL 19.921875 47.703125 \r\nL 19.921875 0 \r\nL 10.890625 0 \r\nL 10.890625 47.703125 \r\nL 2.296875 47.703125 \r\nL 2.296875 54.6875 \r\nL 10.890625 54.6875 \r\nL 10.890625 58.5 \r\nQ 10.890625 67.625 15.140625 71.796875 \r\nQ 19.390625 75.984375 28.609375 75.984375 \r\nz\r\n\" id=\"DejaVuSans-102\"/>\r\n       <path d=\"M 9.8125 72.90625 \r\nL 19.671875 72.90625 \r\nL 19.671875 43.015625 \r\nL 55.515625 43.015625 \r\nL 55.515625 72.90625 \r\nL 65.375 72.90625 \r\nL 65.375 0 \r\nL 55.515625 0 \r\nL 55.515625 34.71875 \r\nL 19.671875 34.71875 \r\nL 19.671875 0 \r\nL 9.8125 0 \r\nz\r\n\" id=\"DejaVuSans-72\"/>\r\n       <path d=\"M 5.515625 54.6875 \r\nL 48.1875 54.6875 \r\nL 48.1875 46.484375 \r\nL 14.40625 7.171875 \r\nL 48.1875 7.171875 \r\nL 48.1875 0 \r\nL 4.296875 0 \r\nL 4.296875 8.203125 \r\nL 38.09375 47.515625 \r\nL 5.515625 47.515625 \r\nz\r\n\" id=\"DejaVuSans-122\"/>\r\n       <path d=\"M 39.40625 66.21875 \r\nQ 28.65625 66.21875 22.328125 58.203125 \r\nQ 16.015625 50.203125 16.015625 36.375 \r\nQ 16.015625 22.609375 22.328125 14.59375 \r\nQ 28.65625 6.59375 39.40625 6.59375 \r\nQ 50.140625 6.59375 56.421875 14.59375 \r\nQ 62.703125 22.609375 62.703125 36.375 \r\nQ 62.703125 50.203125 56.421875 58.203125 \r\nQ 50.140625 66.21875 39.40625 66.21875 \r\nz\r\nM 53.21875 1.3125 \r\nL 66.21875 -12.890625 \r\nL 54.296875 -12.890625 \r\nL 43.5 -1.21875 \r\nQ 41.890625 -1.3125 41.03125 -1.359375 \r\nQ 40.1875 -1.421875 39.40625 -1.421875 \r\nQ 24.03125 -1.421875 14.8125 8.859375 \r\nQ 5.609375 19.140625 5.609375 36.375 \r\nQ 5.609375 53.65625 14.8125 63.9375 \r\nQ 24.03125 74.21875 39.40625 74.21875 \r\nQ 54.734375 74.21875 63.90625 63.9375 \r\nQ 73.09375 53.65625 73.09375 36.375 \r\nQ 73.09375 23.6875 67.984375 14.640625 \r\nQ 62.890625 5.609375 53.21875 1.3125 \r\nz\r\n\" id=\"DejaVuSans-81\"/>\r\n       <path d=\"M 48.78125 52.59375 \r\nL 48.78125 44.1875 \r\nQ 44.96875 46.296875 41.140625 47.34375 \r\nQ 37.3125 48.390625 33.40625 48.390625 \r\nQ 24.65625 48.390625 19.8125 42.84375 \r\nQ 14.984375 37.3125 14.984375 27.296875 \r\nQ 14.984375 17.28125 19.8125 11.734375 \r\nQ 24.65625 6.203125 33.40625 6.203125 \r\nQ 37.3125 6.203125 41.140625 7.25 \r\nQ 44.96875 8.296875 48.78125 10.40625 \r\nL 48.78125 2.09375 \r\nQ 45.015625 0.34375 40.984375 -0.53125 \r\nQ 36.96875 -1.421875 32.421875 -1.421875 \r\nQ 20.0625 -1.421875 12.78125 6.34375 \r\nQ 5.515625 14.109375 5.515625 27.296875 \r\nQ 5.515625 40.671875 12.859375 48.328125 \r\nQ 20.21875 56 33.015625 56 \r\nQ 37.15625 56 41.109375 55.140625 \r\nQ 45.0625 54.296875 48.78125 52.59375 \r\nz\r\n\" id=\"DejaVuSans-99\"/>\r\n      </defs>\r\n      <use xlink:href=\"#DejaVuSans-84\"/>\r\n      <use x=\"44.083984\" xlink:href=\"#DejaVuSans-111\"/>\r\n      <use x=\"105.265625\" xlink:href=\"#DejaVuSans-116\"/>\r\n      <use x=\"144.474609\" xlink:href=\"#DejaVuSans-97\"/>\r\n      <use x=\"205.753906\" xlink:href=\"#DejaVuSans-108\"/>\r\n      <use x=\"233.537109\" xlink:href=\"#DejaVuSans-32\"/>\r\n      <use x=\"265.324219\" xlink:href=\"#DejaVuSans-35\"/>\r\n      <use x=\"349.113281\" xlink:href=\"#DejaVuSans-32\"/>\r\n      <use x=\"380.900391\" xlink:href=\"#DejaVuSans-111\"/>\r\n      <use x=\"442.082031\" xlink:href=\"#DejaVuSans-102\"/>\r\n      <use x=\"477.287109\" xlink:href=\"#DejaVuSans-32\"/>\r\n      <use x=\"509.074219\" xlink:href=\"#DejaVuSans-72\"/>\r\n      <use x=\"584.269531\" xlink:href=\"#DejaVuSans-111\"/>\r\n      <use x=\"645.451172\" xlink:href=\"#DejaVuSans-115\"/>\r\n      <use x=\"697.550781\" xlink:href=\"#DejaVuSans-112\"/>\r\n      <use x=\"761.027344\" xlink:href=\"#DejaVuSans-105\"/>\r\n      <use x=\"788.810547\" xlink:href=\"#DejaVuSans-116\"/>\r\n      <use x=\"828.019531\" xlink:href=\"#DejaVuSans-97\"/>\r\n      <use x=\"889.298828\" xlink:href=\"#DejaVuSans-108\"/>\r\n      <use x=\"917.082031\" xlink:href=\"#DejaVuSans-105\"/>\r\n      <use x=\"944.865234\" xlink:href=\"#DejaVuSans-122\"/>\r\n      <use x=\"997.355469\" xlink:href=\"#DejaVuSans-97\"/>\r\n      <use x=\"1058.634766\" xlink:href=\"#DejaVuSans-116\"/>\r\n      <use x=\"1097.84375\" xlink:href=\"#DejaVuSans-105\"/>\r\n      <use x=\"1125.626953\" xlink:href=\"#DejaVuSans-111\"/>\r\n      <use x=\"1186.808594\" xlink:href=\"#DejaVuSans-110\"/>\r\n      <use x=\"1250.1875\" xlink:href=\"#DejaVuSans-115\"/>\r\n      <use x=\"1302.287109\" xlink:href=\"#DejaVuSans-32\"/>\r\n      <use x=\"1334.074219\" xlink:href=\"#DejaVuSans-105\"/>\r\n      <use x=\"1361.857422\" xlink:href=\"#DejaVuSans-110\"/>\r\n      <use x=\"1425.236328\" xlink:href=\"#DejaVuSans-32\"/>\r\n      <use x=\"1457.023438\" xlink:href=\"#DejaVuSans-81\"/>\r\n      <use x=\"1535.734375\" xlink:href=\"#DejaVuSans-99\"/>\r\n     </g>\r\n    </g>\r\n   </g>\r\n   <g id=\"PathCollection_1\">\r\n    <defs>\r\n     <path d=\"M 0 2.236068 \r\nC 0.593012 2.236068 1.161816 2.000462 1.581139 1.581139 \r\nC 2.000462 1.161816 2.236068 0.593012 2.236068 0 \r\nC 2.236068 -0.593012 2.000462 -1.161816 1.581139 -1.581139 \r\nC 1.161816 -2.000462 0.593012 -2.236068 0 -2.236068 \r\nC -0.593012 -2.236068 -1.161816 -2.000462 -1.581139 -1.581139 \r\nC -2.000462 -1.161816 -2.236068 -0.593012 -2.236068 0 \r\nC -2.236068 0.593012 -2.000462 1.161816 -1.581139 1.581139 \r\nC -1.161816 2.000462 -0.593012 2.236068 0 2.236068 \r\nz\r\n\" id=\"m03e0d8ecef\" style=\"stroke:#e24a33;stroke-width:0.5;\"/>\r\n    </defs>\r\n    <g clip-path=\"url(#p2e86efb196)\">\r\n     <use style=\"fill:#e24a33;stroke:#e24a33;stroke-width:0.5;\" x=\"88.193295\" xlink:href=\"#m03e0d8ecef\" y=\"402.190841\"/>\r\n     <use style=\"fill:#e24a33;stroke:#e24a33;stroke-width:0.5;\" x=\"104.49849\" xlink:href=\"#m03e0d8ecef\" y=\"471.376295\"/>\r\n     <use style=\"fill:#e24a33;stroke:#e24a33;stroke-width:0.5;\" x=\"120.803685\" xlink:href=\"#m03e0d8ecef\" y=\"461.492659\"/>\r\n     <use style=\"fill:#e24a33;stroke:#e24a33;stroke-width:0.5;\" x=\"137.10888\" xlink:href=\"#m03e0d8ecef\" y=\"421.958114\"/>\r\n     <use style=\"fill:#e24a33;stroke:#e24a33;stroke-width:0.5;\" x=\"153.414075\" xlink:href=\"#m03e0d8ecef\" y=\"362.656295\"/>\r\n     <use style=\"fill:#e24a33;stroke:#e24a33;stroke-width:0.5;\" x=\"169.719269\" xlink:href=\"#m03e0d8ecef\" y=\"481.259932\"/>\r\n     <use style=\"fill:#e24a33;stroke:#e24a33;stroke-width:0.5;\" x=\"186.024464\" xlink:href=\"#m03e0d8ecef\" y=\"471.376295\"/>\r\n     <use style=\"fill:#e24a33;stroke:#e24a33;stroke-width:0.5;\" x=\"202.329659\" xlink:href=\"#m03e0d8ecef\" y=\"431.84175\"/>\r\n     <use style=\"fill:#e24a33;stroke:#e24a33;stroke-width:0.5;\" x=\"218.634854\" xlink:href=\"#m03e0d8ecef\" y=\"392.307205\"/>\r\n     <use style=\"fill:#e24a33;stroke:#e24a33;stroke-width:0.5;\" x=\"234.940049\" xlink:href=\"#m03e0d8ecef\" y=\"451.609023\"/>\r\n     <use style=\"fill:#e24a33;stroke:#e24a33;stroke-width:0.5;\" x=\"251.245244\" xlink:href=\"#m03e0d8ecef\" y=\"382.423568\"/>\r\n     <use style=\"fill:#e24a33;stroke:#e24a33;stroke-width:0.5;\" x=\"267.550438\" xlink:href=\"#m03e0d8ecef\" y=\"421.958114\"/>\r\n     <use style=\"fill:#e24a33;stroke:#e24a33;stroke-width:0.5;\" x=\"283.855633\" xlink:href=\"#m03e0d8ecef\" y=\"471.376295\"/>\r\n     <use style=\"fill:#e24a33;stroke:#e24a33;stroke-width:0.5;\" x=\"300.160828\" xlink:href=\"#m03e0d8ecef\" y=\"431.84175\"/>\r\n     <use style=\"fill:#e24a33;stroke:#e24a33;stroke-width:0.5;\" x=\"316.466023\" xlink:href=\"#m03e0d8ecef\" y=\"491.143568\"/>\r\n     <use style=\"fill:#e24a33;stroke:#e24a33;stroke-width:0.5;\" x=\"332.771218\" xlink:href=\"#m03e0d8ecef\" y=\"421.958114\"/>\r\n     <use style=\"fill:#e24a33;stroke:#e24a33;stroke-width:0.5;\" x=\"349.076412\" xlink:href=\"#m03e0d8ecef\" y=\"461.492659\"/>\r\n     <use style=\"fill:#e24a33;stroke:#e24a33;stroke-width:0.5;\" x=\"365.381607\" xlink:href=\"#m03e0d8ecef\" y=\"471.376295\"/>\r\n     <use style=\"fill:#e24a33;stroke:#e24a33;stroke-width:0.5;\" x=\"381.686802\" xlink:href=\"#m03e0d8ecef\" y=\"441.725386\"/>\r\n     <use style=\"fill:#e24a33;stroke:#e24a33;stroke-width:0.5;\" x=\"397.991997\" xlink:href=\"#m03e0d8ecef\" y=\"471.376295\"/>\r\n     <use style=\"fill:#e24a33;stroke:#e24a33;stroke-width:0.5;\" x=\"414.297192\" xlink:href=\"#m03e0d8ecef\" y=\"421.958114\"/>\r\n     <use style=\"fill:#e24a33;stroke:#e24a33;stroke-width:0.5;\" x=\"430.602386\" xlink:href=\"#m03e0d8ecef\" y=\"471.376295\"/>\r\n     <use style=\"fill:#e24a33;stroke:#e24a33;stroke-width:0.5;\" x=\"446.907581\" xlink:href=\"#m03e0d8ecef\" y=\"441.725386\"/>\r\n     <use style=\"fill:#e24a33;stroke:#e24a33;stroke-width:0.5;\" x=\"463.212776\" xlink:href=\"#m03e0d8ecef\" y=\"421.958114\"/>\r\n     <use style=\"fill:#e24a33;stroke:#e24a33;stroke-width:0.5;\" x=\"479.517971\" xlink:href=\"#m03e0d8ecef\" y=\"421.958114\"/>\r\n     <use style=\"fill:#e24a33;stroke:#e24a33;stroke-width:0.5;\" x=\"495.823166\" xlink:href=\"#m03e0d8ecef\" y=\"471.376295\"/>\r\n     <use style=\"fill:#e24a33;stroke:#e24a33;stroke-width:0.5;\" x=\"512.12836\" xlink:href=\"#m03e0d8ecef\" y=\"392.307205\"/>\r\n     <use style=\"fill:#e24a33;stroke:#e24a33;stroke-width:0.5;\" x=\"528.433555\" xlink:href=\"#m03e0d8ecef\" y=\"451.609023\"/>\r\n     <use style=\"fill:#e24a33;stroke:#e24a33;stroke-width:0.5;\" x=\"544.73875\" xlink:href=\"#m03e0d8ecef\" y=\"451.609023\"/>\r\n     <use style=\"fill:#e24a33;stroke:#e24a33;stroke-width:0.5;\" x=\"561.043945\" xlink:href=\"#m03e0d8ecef\" y=\"451.609023\"/>\r\n     <use style=\"fill:#e24a33;stroke:#e24a33;stroke-width:0.5;\" x=\"577.34914\" xlink:href=\"#m03e0d8ecef\" y=\"372.539932\"/>\r\n     <use style=\"fill:#e24a33;stroke:#e24a33;stroke-width:0.5;\" x=\"593.654334\" xlink:href=\"#m03e0d8ecef\" y=\"412.074477\"/>\r\n     <use style=\"fill:#e24a33;stroke:#e24a33;stroke-width:0.5;\" x=\"609.959529\" xlink:href=\"#m03e0d8ecef\" y=\"382.423568\"/>\r\n     <use style=\"fill:#e24a33;stroke:#e24a33;stroke-width:0.5;\" x=\"626.264724\" xlink:href=\"#m03e0d8ecef\" y=\"392.307205\"/>\r\n     <use style=\"fill:#e24a33;stroke:#e24a33;stroke-width:0.5;\" x=\"642.569919\" xlink:href=\"#m03e0d8ecef\" y=\"412.074477\"/>\r\n     <use style=\"fill:#e24a33;stroke:#e24a33;stroke-width:0.5;\" x=\"658.875114\" xlink:href=\"#m03e0d8ecef\" y=\"392.307205\"/>\r\n     <use style=\"fill:#e24a33;stroke:#e24a33;stroke-width:0.5;\" x=\"675.180308\" xlink:href=\"#m03e0d8ecef\" y=\"352.772659\"/>\r\n     <use style=\"fill:#e24a33;stroke:#e24a33;stroke-width:0.5;\" x=\"691.485503\" xlink:href=\"#m03e0d8ecef\" y=\"362.656295\"/>\r\n     <use style=\"fill:#e24a33;stroke:#e24a33;stroke-width:0.5;\" x=\"707.790698\" xlink:href=\"#m03e0d8ecef\" y=\"283.587205\"/>\r\n     <use style=\"fill:#e24a33;stroke:#e24a33;stroke-width:0.5;\" x=\"724.095893\" xlink:href=\"#m03e0d8ecef\" y=\"323.12175\"/>\r\n     <use style=\"fill:#e24a33;stroke:#e24a33;stroke-width:0.5;\" x=\"740.401088\" xlink:href=\"#m03e0d8ecef\" y=\"362.656295\"/>\r\n     <use style=\"fill:#e24a33;stroke:#e24a33;stroke-width:0.5;\" x=\"756.706282\" xlink:href=\"#m03e0d8ecef\" y=\"352.772659\"/>\r\n     <use style=\"fill:#e24a33;stroke:#e24a33;stroke-width:0.5;\" x=\"773.011477\" xlink:href=\"#m03e0d8ecef\" y=\"293.470841\"/>\r\n     <use style=\"fill:#e24a33;stroke:#e24a33;stroke-width:0.5;\" x=\"789.316672\" xlink:href=\"#m03e0d8ecef\" y=\"392.307205\"/>\r\n     <use style=\"fill:#e24a33;stroke:#e24a33;stroke-width:0.5;\" x=\"805.621867\" xlink:href=\"#m03e0d8ecef\" y=\"333.005386\"/>\r\n     <use style=\"fill:#e24a33;stroke:#e24a33;stroke-width:0.5;\" x=\"821.927062\" xlink:href=\"#m03e0d8ecef\" y=\"412.074477\"/>\r\n     <use style=\"fill:#e24a33;stroke:#e24a33;stroke-width:0.5;\" x=\"838.232256\" xlink:href=\"#m03e0d8ecef\" y=\"194.634477\"/>\r\n     <use style=\"fill:#e24a33;stroke:#e24a33;stroke-width:0.5;\" x=\"854.537451\" xlink:href=\"#m03e0d8ecef\" y=\"303.354477\"/>\r\n     <use style=\"fill:#e24a33;stroke:#e24a33;stroke-width:0.5;\" x=\"870.842646\" xlink:href=\"#m03e0d8ecef\" y=\"273.703568\"/>\r\n     <use style=\"fill:#e24a33;stroke:#e24a33;stroke-width:0.5;\" x=\"887.147841\" xlink:href=\"#m03e0d8ecef\" y=\"253.936295\"/>\r\n     <use style=\"fill:#e24a33;stroke:#e24a33;stroke-width:0.5;\" x=\"903.453036\" xlink:href=\"#m03e0d8ecef\" y=\"244.052659\"/>\r\n     <use style=\"fill:#e24a33;stroke:#e24a33;stroke-width:0.5;\" x=\"919.758231\" xlink:href=\"#m03e0d8ecef\" y=\"253.936295\"/>\r\n     <use style=\"fill:#e24a33;stroke:#e24a33;stroke-width:0.5;\" x=\"936.063425\" xlink:href=\"#m03e0d8ecef\" y=\"105.68175\"/>\r\n     <use style=\"fill:#e24a33;stroke:#e24a33;stroke-width:0.5;\" x=\"952.36862\" xlink:href=\"#m03e0d8ecef\" y=\"46.379932\"/>\r\n     <use style=\"fill:#e24a33;stroke:#e24a33;stroke-width:0.5;\" x=\"968.673815\" xlink:href=\"#m03e0d8ecef\" y=\"214.40175\"/>\r\n     <use style=\"fill:#e24a33;stroke:#e24a33;stroke-width:0.5;\" x=\"984.97901\" xlink:href=\"#m03e0d8ecef\" y=\"244.052659\"/>\r\n     <use style=\"fill:#e24a33;stroke:#e24a33;stroke-width:0.5;\" x=\"1001.284205\" xlink:href=\"#m03e0d8ecef\" y=\"135.332659\"/>\r\n    </g>\r\n   </g>\r\n   <g id=\"patch_3\">\r\n    <path clip-path=\"url(#p2e86efb196)\" d=\"M 561.043945 513.38175 \r\nL 561.043945 24.14175 \r\nL 789.316672 24.14175 \r\nL 789.316672 513.38175 \r\nz\r\n\" style=\"fill:#348abd;opacity:0.3;\"/>\r\n   </g>\r\n   <g id=\"line2d_125\">\r\n    <path clip-path=\"url(#p2e86efb196)\" d=\"M 88.193295 437.169877 \r\nL 104.49849 437.180596 \r\nL 120.803685 437.212755 \r\nL 137.10888 437.266354 \r\nL 153.414075 437.341391 \r\nL 169.719269 437.437869 \r\nL 186.024464 437.555785 \r\nL 202.329659 437.695141 \r\nL 218.634854 437.855936 \r\nL 234.940049 438.038171 \r\nL 251.245244 438.241844 \r\nL 267.550438 438.466958 \r\nL 283.855633 438.71351 \r\nL 300.160828 438.981502 \r\nL 316.466023 439.270934 \r\nL 332.771218 439.581804 \r\nL 349.076412 439.914114 \r\nL 365.381607 440.267864 \r\nL 381.686802 440.643052 \r\nL 397.991997 441.039681 \r\nL 414.297192 441.457748 \r\nL 430.602386 441.897255 \r\nL 446.907581 442.358201 \r\nL 463.212776 442.840587 \r\nL 479.517971 443.344411 \r\nL 495.823166 443.869676 \r\nL 512.12836 444.416379 \r\nL 528.433555 444.984522 \r\nM 561.043945 427.442978 \r\nL 577.34914 420.459704 \r\nL 593.654334 413.239709 \r\nL 609.959529 405.782992 \r\nL 626.264724 398.089554 \r\nL 642.569919 390.159395 \r\nL 658.875114 381.992515 \r\nL 675.180308 373.588914 \r\nL 691.485503 364.948591 \r\nL 707.790698 356.071548 \r\nL 724.095893 346.957783 \r\nL 740.401088 337.607297 \r\nL 756.706282 328.02009 \r\nL 773.011477 318.196162 \r\nL 789.316672 308.135512 \r\nL 805.621867 297.838142 \r\nL 821.927062 287.30405 \r\nL 838.232256 276.533237 \r\nL 854.537451 265.525703 \r\nL 870.842646 254.281448 \r\nL 887.147841 242.800472 \r\nL 903.453036 231.082774 \r\nL 919.758231 219.128355 \r\nL 936.063425 206.937215 \r\nL 952.36862 194.509354 \r\nL 968.673815 181.844772 \r\nL 984.97901 168.943469 \r\nL 1001.284205 155.805444 \r\n\" style=\"fill:none;stroke:#348abd;stroke-linecap:square;stroke-width:1.5;\"/>\r\n   </g>\r\n   <g id=\"line2d_126\">\r\n    <path clip-path=\"url(#p2e86efb196)\" d=\"M 544.73875 513.38175 \r\nL 544.73875 -1 \r\n\" style=\"fill:none;stroke:#e24a33;stroke-linecap:square;stroke-width:1.5;\"/>\r\n   </g>\r\n   <g id=\"patch_4\">\r\n    <path d=\"M 42.53875 513.38175 \r\nL 42.53875 24.14175 \r\n\" style=\"fill:none;stroke:#ffffff;stroke-linecap:square;stroke-linejoin:miter;\"/>\r\n   </g>\r\n   <g id=\"patch_5\">\r\n    <path d=\"M 1046.93875 513.38175 \r\nL 1046.93875 24.14175 \r\n\" style=\"fill:none;stroke:#ffffff;stroke-linecap:square;stroke-linejoin:miter;\"/>\r\n   </g>\r\n   <g id=\"patch_6\">\r\n    <path d=\"M 42.53875 513.38175 \r\nL 1046.93875 513.38175 \r\n\" style=\"fill:none;stroke:#ffffff;stroke-linecap:square;stroke-linejoin:miter;\"/>\r\n   </g>\r\n   <g id=\"patch_7\">\r\n    <path d=\"M 42.53875 24.14175 \r\nL 1046.93875 24.14175 \r\n\" style=\"fill:none;stroke:#ffffff;stroke-linecap:square;stroke-linejoin:miter;\"/>\r\n   </g>\r\n   <g id=\"text_65\">\r\n    <!-- Latency Period -->\r\n    <g transform=\"translate(626.264724 76.030841)scale(0.1 -0.1)\">\r\n     <defs>\r\n      <path d=\"M 9.8125 72.90625 \r\nL 19.671875 72.90625 \r\nL 19.671875 8.296875 \r\nL 55.171875 8.296875 \r\nL 55.171875 0 \r\nL 9.8125 0 \r\nz\r\n\" id=\"DejaVuSans-76\"/>\r\n      <path d=\"M 19.671875 64.796875 \r\nL 19.671875 37.40625 \r\nL 32.078125 37.40625 \r\nQ 38.96875 37.40625 42.71875 40.96875 \r\nQ 46.484375 44.53125 46.484375 51.125 \r\nQ 46.484375 57.671875 42.71875 61.234375 \r\nQ 38.96875 64.796875 32.078125 64.796875 \r\nz\r\nM 9.8125 72.90625 \r\nL 32.078125 72.90625 \r\nQ 44.34375 72.90625 50.609375 67.359375 \r\nQ 56.890625 61.8125 56.890625 51.125 \r\nQ 56.890625 40.328125 50.609375 34.8125 \r\nQ 44.34375 29.296875 32.078125 29.296875 \r\nL 19.671875 29.296875 \r\nL 19.671875 0 \r\nL 9.8125 0 \r\nz\r\n\" id=\"DejaVuSans-80\"/>\r\n      <path d=\"M 45.40625 46.390625 \r\nL 45.40625 75.984375 \r\nL 54.390625 75.984375 \r\nL 54.390625 0 \r\nL 45.40625 0 \r\nL 45.40625 8.203125 \r\nQ 42.578125 3.328125 38.25 0.953125 \r\nQ 33.9375 -1.421875 27.875 -1.421875 \r\nQ 17.96875 -1.421875 11.734375 6.484375 \r\nQ 5.515625 14.40625 5.515625 27.296875 \r\nQ 5.515625 40.1875 11.734375 48.09375 \r\nQ 17.96875 56 27.875 56 \r\nQ 33.9375 56 38.25 53.625 \r\nQ 42.578125 51.265625 45.40625 46.390625 \r\nz\r\nM 14.796875 27.296875 \r\nQ 14.796875 17.390625 18.875 11.75 \r\nQ 22.953125 6.109375 30.078125 6.109375 \r\nQ 37.203125 6.109375 41.296875 11.75 \r\nQ 45.40625 17.390625 45.40625 27.296875 \r\nQ 45.40625 37.203125 41.296875 42.84375 \r\nQ 37.203125 48.484375 30.078125 48.484375 \r\nQ 22.953125 48.484375 18.875 42.84375 \r\nQ 14.796875 37.203125 14.796875 27.296875 \r\nz\r\n\" id=\"DejaVuSans-100\"/>\r\n     </defs>\r\n     <use xlink:href=\"#DejaVuSans-76\"/>\r\n     <use x=\"55.712891\" xlink:href=\"#DejaVuSans-97\"/>\r\n     <use x=\"116.992188\" xlink:href=\"#DejaVuSans-116\"/>\r\n     <use x=\"156.201172\" xlink:href=\"#DejaVuSans-101\"/>\r\n     <use x=\"217.724609\" xlink:href=\"#DejaVuSans-110\"/>\r\n     <use x=\"281.103516\" xlink:href=\"#DejaVuSans-99\"/>\r\n     <use x=\"336.083984\" xlink:href=\"#DejaVuSans-121\"/>\r\n     <use x=\"395.263672\" xlink:href=\"#DejaVuSans-32\"/>\r\n     <use x=\"427.050781\" xlink:href=\"#DejaVuSans-80\"/>\r\n     <use x=\"483.728516\" xlink:href=\"#DejaVuSans-101\"/>\r\n     <use x=\"545.251953\" xlink:href=\"#DejaVuSans-114\"/>\r\n     <use x=\"586.365234\" xlink:href=\"#DejaVuSans-105\"/>\r\n     <use x=\"614.148438\" xlink:href=\"#DejaVuSans-111\"/>\r\n     <use x=\"675.330078\" xlink:href=\"#DejaVuSans-100\"/>\r\n    </g>\r\n   </g>\r\n   <g id=\"text_66\">\r\n    <!-- Effect of Schools Reopening in Quebec -->\r\n    <g transform=\"translate(405.475 18.14175)scale(0.144 -0.144)\">\r\n     <defs>\r\n      <path d=\"M 9.8125 72.90625 \r\nL 55.90625 72.90625 \r\nL 55.90625 64.59375 \r\nL 19.671875 64.59375 \r\nL 19.671875 43.015625 \r\nL 54.390625 43.015625 \r\nL 54.390625 34.71875 \r\nL 19.671875 34.71875 \r\nL 19.671875 8.296875 \r\nL 56.78125 8.296875 \r\nL 56.78125 0 \r\nL 9.8125 0 \r\nz\r\n\" id=\"DejaVuSans-69\"/>\r\n      <path d=\"M 54.890625 33.015625 \r\nL 54.890625 0 \r\nL 45.90625 0 \r\nL 45.90625 32.71875 \r\nQ 45.90625 40.484375 42.875 44.328125 \r\nQ 39.84375 48.1875 33.796875 48.1875 \r\nQ 26.515625 48.1875 22.3125 43.546875 \r\nQ 18.109375 38.921875 18.109375 30.90625 \r\nL 18.109375 0 \r\nL 9.078125 0 \r\nL 9.078125 75.984375 \r\nL 18.109375 75.984375 \r\nL 18.109375 46.1875 \r\nQ 21.34375 51.125 25.703125 53.5625 \r\nQ 30.078125 56 35.796875 56 \r\nQ 45.21875 56 50.046875 50.171875 \r\nQ 54.890625 44.34375 54.890625 33.015625 \r\nz\r\n\" id=\"DejaVuSans-104\"/>\r\n      <path d=\"M 44.390625 34.1875 \r\nQ 47.5625 33.109375 50.5625 29.59375 \r\nQ 53.5625 26.078125 56.59375 19.921875 \r\nL 66.609375 0 \r\nL 56 0 \r\nL 46.6875 18.703125 \r\nQ 43.0625 26.03125 39.671875 28.421875 \r\nQ 36.28125 30.8125 30.421875 30.8125 \r\nL 19.671875 30.8125 \r\nL 19.671875 0 \r\nL 9.8125 0 \r\nL 9.8125 72.90625 \r\nL 32.078125 72.90625 \r\nQ 44.578125 72.90625 50.734375 67.671875 \r\nQ 56.890625 62.453125 56.890625 51.90625 \r\nQ 56.890625 45.015625 53.6875 40.46875 \r\nQ 50.484375 35.9375 44.390625 34.1875 \r\nz\r\nM 19.671875 64.796875 \r\nL 19.671875 38.921875 \r\nL 32.078125 38.921875 \r\nQ 39.203125 38.921875 42.84375 42.21875 \r\nQ 46.484375 45.515625 46.484375 51.90625 \r\nQ 46.484375 58.296875 42.84375 61.546875 \r\nQ 39.203125 64.796875 32.078125 64.796875 \r\nz\r\n\" id=\"DejaVuSans-82\"/>\r\n      <path d=\"M 45.40625 27.984375 \r\nQ 45.40625 37.75 41.375 43.109375 \r\nQ 37.359375 48.484375 30.078125 48.484375 \r\nQ 22.859375 48.484375 18.828125 43.109375 \r\nQ 14.796875 37.75 14.796875 27.984375 \r\nQ 14.796875 18.265625 18.828125 12.890625 \r\nQ 22.859375 7.515625 30.078125 7.515625 \r\nQ 37.359375 7.515625 41.375 12.890625 \r\nQ 45.40625 18.265625 45.40625 27.984375 \r\nz\r\nM 54.390625 6.78125 \r\nQ 54.390625 -7.171875 48.1875 -13.984375 \r\nQ 42 -20.796875 29.203125 -20.796875 \r\nQ 24.46875 -20.796875 20.265625 -20.09375 \r\nQ 16.0625 -19.390625 12.109375 -17.921875 \r\nL 12.109375 -9.1875 \r\nQ 16.0625 -11.328125 19.921875 -12.34375 \r\nQ 23.78125 -13.375 27.78125 -13.375 \r\nQ 36.625 -13.375 41.015625 -8.765625 \r\nQ 45.40625 -4.15625 45.40625 5.171875 \r\nL 45.40625 9.625 \r\nQ 42.625 4.78125 38.28125 2.390625 \r\nQ 33.9375 0 27.875 0 \r\nQ 17.828125 0 11.671875 7.65625 \r\nQ 5.515625 15.328125 5.515625 27.984375 \r\nQ 5.515625 40.671875 11.671875 48.328125 \r\nQ 17.828125 56 27.875 56 \r\nQ 33.9375 56 38.28125 53.609375 \r\nQ 42.625 51.21875 45.40625 46.390625 \r\nL 45.40625 54.6875 \r\nL 54.390625 54.6875 \r\nz\r\n\" id=\"DejaVuSans-103\"/>\r\n      <path d=\"M 8.5 21.578125 \r\nL 8.5 54.6875 \r\nL 17.484375 54.6875 \r\nL 17.484375 21.921875 \r\nQ 17.484375 14.15625 20.5 10.265625 \r\nQ 23.53125 6.390625 29.59375 6.390625 \r\nQ 36.859375 6.390625 41.078125 11.03125 \r\nQ 45.3125 15.671875 45.3125 23.6875 \r\nL 45.3125 54.6875 \r\nL 54.296875 54.6875 \r\nL 54.296875 0 \r\nL 45.3125 0 \r\nL 45.3125 8.40625 \r\nQ 42.046875 3.421875 37.71875 1 \r\nQ 33.40625 -1.421875 27.6875 -1.421875 \r\nQ 18.265625 -1.421875 13.375 4.4375 \r\nQ 8.5 10.296875 8.5 21.578125 \r\nz\r\nM 31.109375 56 \r\nz\r\n\" id=\"DejaVuSans-117\"/>\r\n      <path d=\"M 48.6875 27.296875 \r\nQ 48.6875 37.203125 44.609375 42.84375 \r\nQ 40.53125 48.484375 33.40625 48.484375 \r\nQ 26.265625 48.484375 22.1875 42.84375 \r\nQ 18.109375 37.203125 18.109375 27.296875 \r\nQ 18.109375 17.390625 22.1875 11.75 \r\nQ 26.265625 6.109375 33.40625 6.109375 \r\nQ 40.53125 6.109375 44.609375 11.75 \r\nQ 48.6875 17.390625 48.6875 27.296875 \r\nz\r\nM 18.109375 46.390625 \r\nQ 20.953125 51.265625 25.265625 53.625 \r\nQ 29.59375 56 35.59375 56 \r\nQ 45.5625 56 51.78125 48.09375 \r\nQ 58.015625 40.1875 58.015625 27.296875 \r\nQ 58.015625 14.40625 51.78125 6.484375 \r\nQ 45.5625 -1.421875 35.59375 -1.421875 \r\nQ 29.59375 -1.421875 25.265625 0.953125 \r\nQ 20.953125 3.328125 18.109375 8.203125 \r\nL 18.109375 0 \r\nL 9.078125 0 \r\nL 9.078125 75.984375 \r\nL 18.109375 75.984375 \r\nz\r\n\" id=\"DejaVuSans-98\"/>\r\n     </defs>\r\n     <use xlink:href=\"#DejaVuSans-69\"/>\r\n     <use x=\"63.183594\" xlink:href=\"#DejaVuSans-102\"/>\r\n     <use x=\"98.388672\" xlink:href=\"#DejaVuSans-102\"/>\r\n     <use x=\"133.59375\" xlink:href=\"#DejaVuSans-101\"/>\r\n     <use x=\"195.117188\" xlink:href=\"#DejaVuSans-99\"/>\r\n     <use x=\"250.097656\" xlink:href=\"#DejaVuSans-116\"/>\r\n     <use x=\"289.306641\" xlink:href=\"#DejaVuSans-32\"/>\r\n     <use x=\"321.09375\" xlink:href=\"#DejaVuSans-111\"/>\r\n     <use x=\"382.275391\" xlink:href=\"#DejaVuSans-102\"/>\r\n     <use x=\"417.480469\" xlink:href=\"#DejaVuSans-32\"/>\r\n     <use x=\"449.267578\" xlink:href=\"#DejaVuSans-83\"/>\r\n     <use x=\"512.744141\" xlink:href=\"#DejaVuSans-99\"/>\r\n     <use x=\"567.724609\" xlink:href=\"#DejaVuSans-104\"/>\r\n     <use x=\"631.103516\" xlink:href=\"#DejaVuSans-111\"/>\r\n     <use x=\"692.285156\" xlink:href=\"#DejaVuSans-111\"/>\r\n     <use x=\"753.466797\" xlink:href=\"#DejaVuSans-108\"/>\r\n     <use x=\"781.25\" xlink:href=\"#DejaVuSans-115\"/>\r\n     <use x=\"833.349609\" xlink:href=\"#DejaVuSans-32\"/>\r\n     <use x=\"865.136719\" xlink:href=\"#DejaVuSans-82\"/>\r\n     <use x=\"930.119141\" xlink:href=\"#DejaVuSans-101\"/>\r\n     <use x=\"991.642578\" xlink:href=\"#DejaVuSans-111\"/>\r\n     <use x=\"1052.824219\" xlink:href=\"#DejaVuSans-112\"/>\r\n     <use x=\"1116.300781\" xlink:href=\"#DejaVuSans-101\"/>\r\n     <use x=\"1177.824219\" xlink:href=\"#DejaVuSans-110\"/>\r\n     <use x=\"1241.203125\" xlink:href=\"#DejaVuSans-105\"/>\r\n     <use x=\"1268.986328\" xlink:href=\"#DejaVuSans-110\"/>\r\n     <use x=\"1332.365234\" xlink:href=\"#DejaVuSans-103\"/>\r\n     <use x=\"1395.841797\" xlink:href=\"#DejaVuSans-32\"/>\r\n     <use x=\"1427.628906\" xlink:href=\"#DejaVuSans-105\"/>\r\n     <use x=\"1455.412109\" xlink:href=\"#DejaVuSans-110\"/>\r\n     <use x=\"1518.791016\" xlink:href=\"#DejaVuSans-32\"/>\r\n     <use x=\"1550.578125\" xlink:href=\"#DejaVuSans-81\"/>\r\n     <use x=\"1629.289062\" xlink:href=\"#DejaVuSans-117\"/>\r\n     <use x=\"1692.667969\" xlink:href=\"#DejaVuSans-101\"/>\r\n     <use x=\"1754.191406\" xlink:href=\"#DejaVuSans-98\"/>\r\n     <use x=\"1817.667969\" xlink:href=\"#DejaVuSans-101\"/>\r\n     <use x=\"1879.191406\" xlink:href=\"#DejaVuSans-99\"/>\r\n    </g>\r\n   </g>\r\n   <g id=\"legend_1\">\r\n    <g id=\"patch_8\">\r\n     <path d=\"M 49.53875 46.819875 \r\nL 136.915313 46.819875 \r\nQ 138.915313 46.819875 138.915313 44.819875 \r\nL 138.915313 31.14175 \r\nQ 138.915313 29.14175 136.915313 29.14175 \r\nL 49.53875 29.14175 \r\nQ 47.53875 29.14175 47.53875 31.14175 \r\nL 47.53875 44.819875 \r\nQ 47.53875 46.819875 49.53875 46.819875 \r\nz\r\n\" style=\"fill:#e5e5e5;opacity:0.8;stroke:#cccccc;stroke-linejoin:miter;stroke-width:0.5;\"/>\r\n    </g>\r\n    <g id=\"line2d_127\">\r\n     <path d=\"M 51.53875 37.240187 \r\nL 71.53875 37.240187 \r\n\" style=\"fill:none;stroke:#348abd;stroke-linecap:square;stroke-width:1.5;\"/>\r\n    </g>\r\n    <g id=\"line2d_128\"/>\r\n    <g id=\"text_67\">\r\n     <!-- predictions -->\r\n     <g transform=\"translate(79.53875 40.740187)scale(0.1 -0.1)\">\r\n      <use xlink:href=\"#DejaVuSans-112\"/>\r\n      <use x=\"63.476562\" xlink:href=\"#DejaVuSans-114\"/>\r\n      <use x=\"102.339844\" xlink:href=\"#DejaVuSans-101\"/>\r\n      <use x=\"163.863281\" xlink:href=\"#DejaVuSans-100\"/>\r\n      <use x=\"227.339844\" xlink:href=\"#DejaVuSans-105\"/>\r\n      <use x=\"255.123047\" xlink:href=\"#DejaVuSans-99\"/>\r\n      <use x=\"310.103516\" xlink:href=\"#DejaVuSans-116\"/>\r\n      <use x=\"349.3125\" xlink:href=\"#DejaVuSans-105\"/>\r\n      <use x=\"377.095703\" xlink:href=\"#DejaVuSans-111\"/>\r\n      <use x=\"438.277344\" xlink:href=\"#DejaVuSans-110\"/>\r\n      <use x=\"501.65625\" xlink:href=\"#DejaVuSans-115\"/>\r\n     </g>\r\n    </g>\r\n   </g>\r\n  </g>\r\n </g>\r\n <defs>\r\n  <clipPath id=\"p2e86efb196\">\r\n   <rect height=\"489.24\" width=\"1004.4\" x=\"42.53875\" y=\"24.14175\"/>\r\n  </clipPath>\r\n </defs>\r\n</svg>\r\n",
      "image/png": "[encoded data removed]"
     },
     "metadata": {}
    }
   ],
   "source": [
    "# plotting using a slightly hacked fix to an ongoing issue\n",
    "ax = period.plot.scatter(x=\"time\", y=\"total\", color=\"C0\")\n",
    "period = period.assign(predictions=est.fittedvalues) \n",
    "# setting the prediction value to nan for discontinuity visualization\n",
    "period.iat[28, 7] = np.nan\n",
    "period.plot(x=\"time\", y=\"predictions\", ax=ax, color=\"C1\", figsize=(18,9))\n",
    "plt.axvspan(xmin=29, xmax=43, ymin=0, ymax=1, alpha=0.3)\n",
    "plt.title(\"Effect of Schools Reopening in Quebec\");\n",
    "plt.axvline(x=28, ymin=0, ymax=48)\n",
    "plt.xlabel('Days in relation to Sept 1')\n",
    "plt.ylabel('Total # of Hospitalizations in Qc')\n",
    "plt.annotate('Latency Period', (33,45))\n",
    "# Changing ticks\n",
    "nticks = list(range(-28,29,1))\n",
    "plt.xticks(period.time, nticks);\n",
    "# period.tail()"
   ]
  },
  {
   "cell_type": "markdown",
   "metadata": {},
   "source": [
    "## Analysis\n",
    "\n",
    "#### Amount of time before cutoff: \n",
    "Four weeks, given the clarity of the data I felt able to extend as far as four weeks to demonstrate the strength of the argument.\n",
    "\n",
    "#### Polynomial used: \n",
    "Squared\n",
    "\n",
    "#### Other regression design considerations:\n",
    "Hospitalization total is a combined statistic which accumulates cases where patients are hospitalized within and outside of intensive care.\n",
    "'Time' was used instead of an actual datetime for the ease of implementation and the data was incremented into days already.\n",
    "\n",
    "### Explanation of findings:\n",
    "The findings suggest a powerful relationship between the opening of schools and the number of hospitalizations attributed to Covid-19, as demonstrated by the discontinuity plot.\n",
    "\n",
    "Of note in the findings is the speed at which the hospitaliazations increased. Labelled on the plot as 'Latency Period' is the 14 days immediately after the reopening of schools.\n",
    "Given my current understanding of the nature of Covid-19 I had anticipated a less immediate response to schools reopening.\n",
    "\n",
    "It's possible that this suggests some secondary contributing facot"
   ]
  }
 ],
 "metadata": {
  "kernelspec": {
   "display_name": "Python 3",
   "language": "python",
   "name": "python3"
  },
  "language_info": {
   "codemirror_mode": {
    "name": "ipython",
    "version": 3
   },
   "file_extension": ".py",
   "mimetype": "text/x-python",
   "name": "python",
   "nbconvert_exporter": "python",
   "pygments_lexer": "ipython3",
   "version": "3.8.3-final"
  }
 },
 "nbformat": 4,
 "nbformat_minor": 4
}