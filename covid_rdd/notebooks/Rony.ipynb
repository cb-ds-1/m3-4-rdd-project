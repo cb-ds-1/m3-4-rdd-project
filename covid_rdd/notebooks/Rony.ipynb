{
 "cells": [
  {
   "cell_type": "markdown",
   "metadata": {},
   "source": [
    "# RDD of hospitalizations for the lockdown of 20/03/2020"
   ]
  },
  {
   "cell_type": "markdown",
   "metadata": {},
   "source": [
    "## Imports"
   ]
  },
  {
   "cell_type": "code",
   "execution_count": 1,
   "metadata": {},
   "outputs": [],
   "source": [
    "import numpy as np\n",
    "import pandas as pd\n",
    "import statsmodels.api as sm\n",
    "import matplotlib.pyplot as plt\n",
    "import seaborn as sns\n",
    "import scipy"
   ]
  },
  {
   "cell_type": "markdown",
   "metadata": {},
   "source": [
    "## Dataframe"
   ]
  },
  {
   "cell_type": "code",
   "execution_count": 2,
   "metadata": {
    "scrolled": true
   },
   "outputs": [
    {
     "data": {
      "text/plain": [
       "(325, 3)"
      ]
     },
     "metadata": {},
     "output_type": "display_data"
    },
    {
     "data": {
      "text/html": [
       "<div>\n",
       "<style scoped>\n",
       "    .dataframe tbody tr th:only-of-type {\n",
       "        vertical-align: middle;\n",
       "    }\n",
       "\n",
       "    .dataframe tbody tr th {\n",
       "        vertical-align: top;\n",
       "    }\n",
       "\n",
       "    .dataframe thead th {\n",
       "        text-align: right;\n",
       "    }\n",
       "</style>\n",
       "<table border=\"1\" class=\"dataframe\">\n",
       "  <thead>\n",
       "    <tr style=\"text-align: right;\">\n",
       "      <th></th>\n",
       "      <th>Date d'admission</th>\n",
       "      <th>Hors soins intensifs</th>\n",
       "      <th>Aux soins intensifs</th>\n",
       "    </tr>\n",
       "  </thead>\n",
       "  <tbody>\n",
       "    <tr>\n",
       "      <th>0</th>\n",
       "      <td>2020-02-24 00:00:00</td>\n",
       "      <td>3</td>\n",
       "      <td>1</td>\n",
       "    </tr>\n",
       "    <tr>\n",
       "      <th>1</th>\n",
       "      <td>2020-02-25 00:00:00</td>\n",
       "      <td>1</td>\n",
       "      <td>1</td>\n",
       "    </tr>\n",
       "    <tr>\n",
       "      <th>2</th>\n",
       "      <td>2020-02-26 00:00:00</td>\n",
       "      <td>2</td>\n",
       "      <td>1</td>\n",
       "    </tr>\n",
       "    <tr>\n",
       "      <th>3</th>\n",
       "      <td>2020-02-27 00:00:00</td>\n",
       "      <td>1</td>\n",
       "      <td>0</td>\n",
       "    </tr>\n",
       "    <tr>\n",
       "      <th>4</th>\n",
       "      <td>2020-02-28 00:00:00</td>\n",
       "      <td>1</td>\n",
       "      <td>1</td>\n",
       "    </tr>\n",
       "  </tbody>\n",
       "</table>\n",
       "</div>"
      ],
      "text/plain": [
       "      Date d'admission  Hors soins intensifs  Aux soins intensifs\n",
       "0  2020-02-24 00:00:00                     3                    1\n",
       "1  2020-02-25 00:00:00                     1                    1\n",
       "2  2020-02-26 00:00:00                     2                    1\n",
       "3  2020-02-27 00:00:00                     1                    0\n",
       "4  2020-02-28 00:00:00                     1                    1"
      ]
     },
     "metadata": {},
     "output_type": "display_data"
    }
   ],
   "source": [
    "df = pd.read_csv('../data/hospitalisations.csv')\n",
    "display(df.shape)\n",
    "display(df.head())"
   ]
  },
  {
   "cell_type": "markdown",
   "metadata": {},
   "source": [
    "## Extracting the data that is within a certain time range"
   ]
  },
  {
   "cell_type": "code",
   "execution_count": 3,
   "metadata": {},
   "outputs": [],
   "source": [
    "df.columns = [\"Date\", \"Regular care\", \"Intensive care\"]\n",
    "df[\"Date\"] = pd.to_datetime(df[\"Date\"])"
   ]
  },
  {
   "cell_type": "code",
   "execution_count": 4,
   "metadata": {},
   "outputs": [],
   "source": [
    "time_frame = df[\"Date\"] < \"2020-04-16\"\n",
    "df = df[time_frame]"
   ]
  },
  {
   "cell_type": "code",
   "execution_count": 5,
   "metadata": {},
   "outputs": [],
   "source": [
    "df[\"total\"] = df[\"Regular care\"] + df[\"Intensive care\"]"
   ]
  },
  {
   "cell_type": "code",
   "execution_count": 6,
   "metadata": {},
   "outputs": [],
   "source": [
    "df[\"group\"] = (df.Date > \"2020-03-20\").astype(int)"
   ]
  },
  {
   "cell_type": "markdown",
   "metadata": {},
   "source": [
    "## Running the model"
   ]
  },
  {
   "cell_type": "code",
   "execution_count": 71,
   "metadata": {},
   "outputs": [],
   "source": [
    "X = pd.DataFrame(df.index)\n",
    "X.columns = [\"time\"]"
   ]
  },
  {
   "cell_type": "code",
   "execution_count": 74,
   "metadata": {},
   "outputs": [
    {
     "data": {
      "image/png": "[encoded data removed]",
      "text/plain": [
       "<Figure size 432x288 with 1 Axes>"
      ]
     },
     "execution_count": 74,
     "metadata": {},
     "output_type": "execute_result"
    },
    {
     "data": {
      "image/png": "[encoded data removed]",
      "text/plain": [
       "<Figure size 432x288 with 1 Axes>"
      ]
     },
     "metadata": {
      "needs_background": "light"
     },
     "output_type": "display_data"
    }
   ],
   "source": [
    "X[\"group\"] = df.group\n",
    "X[\"time2\"] = X.time ** 2\n",
    "y = df[\"total\"]\n",
    "\n",
    "X = sm.add_constant(X)\n",
    "\n",
    "est = sm.OLS(y, X).fit(cov_type=\"HC2\")\n",
    "\n",
    "sm.graphics.plot_fit(est, \"time\")"
   ]
  },
  {
   "cell_type": "code",
   "execution_count": 75,
   "metadata": {},
   "outputs": [
    {
     "data": {
      "text/html": [
       "<table class=\"simpletable\">\n",
       "<caption>OLS Regression Results</caption>\n",
       "<tr>\n",
       "  <th>Dep. Variable:</th>          <td>total</td>      <th>  R-squared:         </th> <td>   0.953</td>\n",
       "</tr>\n",
       "<tr>\n",
       "  <th>Model:</th>                   <td>OLS</td>       <th>  Adj. R-squared:    </th> <td>   0.950</td>\n",
       "</tr>\n",
       "<tr>\n",
       "  <th>Method:</th>             <td>Least Squares</td>  <th>  F-statistic:       </th> <td>   303.0</td>\n",
       "</tr>\n",
       "<tr>\n",
       "  <th>Date:</th>             <td>Sat, 23 Jan 2021</td> <th>  Prob (F-statistic):</th> <td>3.51e-31</td>\n",
       "</tr>\n",
       "<tr>\n",
       "  <th>Time:</th>                 <td>10:20:37</td>     <th>  Log-Likelihood:    </th> <td> -190.48</td>\n",
       "</tr>\n",
       "<tr>\n",
       "  <th>No. Observations:</th>      <td>    52</td>      <th>  AIC:               </th> <td>   389.0</td>\n",
       "</tr>\n",
       "<tr>\n",
       "  <th>Df Residuals:</th>          <td>    48</td>      <th>  BIC:               </th> <td>   396.8</td>\n",
       "</tr>\n",
       "<tr>\n",
       "  <th>Df Model:</th>              <td>     3</td>      <th>                     </th>     <td> </td>   \n",
       "</tr>\n",
       "<tr>\n",
       "  <th>Covariance Type:</th>         <td>HC2</td>       <th>                     </th>     <td> </td>   \n",
       "</tr>\n",
       "</table>\n",
       "<table class=\"simpletable\">\n",
       "<tr>\n",
       "    <td></td>       <th>coef</th>     <th>std err</th>      <th>z</th>      <th>P>|z|</th>  <th>[0.025</th>    <th>0.975]</th>  \n",
       "</tr>\n",
       "<tr>\n",
       "  <th>const</th> <td>    3.6709</td> <td>    1.162</td> <td>    3.159</td> <td> 0.002</td> <td>    1.394</td> <td>    5.948</td>\n",
       "</tr>\n",
       "<tr>\n",
       "  <th>time</th>  <td>   -0.7883</td> <td>    0.203</td> <td>   -3.877</td> <td> 0.000</td> <td>   -1.187</td> <td>   -0.390</td>\n",
       "</tr>\n",
       "<tr>\n",
       "  <th>group</th> <td>   17.6894</td> <td>    5.224</td> <td>    3.386</td> <td> 0.001</td> <td>    7.451</td> <td>   27.928</td>\n",
       "</tr>\n",
       "<tr>\n",
       "  <th>time2</th> <td>    0.0584</td> <td>    0.007</td> <td>    8.272</td> <td> 0.000</td> <td>    0.045</td> <td>    0.072</td>\n",
       "</tr>\n",
       "</table>\n",
       "<table class=\"simpletable\">\n",
       "<tr>\n",
       "  <th>Omnibus:</th>       <td> 3.005</td> <th>  Durbin-Watson:     </th> <td>   1.089</td>\n",
       "</tr>\n",
       "<tr>\n",
       "  <th>Prob(Omnibus):</th> <td> 0.223</td> <th>  Jarque-Bera (JB):  </th> <td>   2.145</td>\n",
       "</tr>\n",
       "<tr>\n",
       "  <th>Skew:</th>          <td>-0.269</td> <th>  Prob(JB):          </th> <td>   0.342</td>\n",
       "</tr>\n",
       "<tr>\n",
       "  <th>Kurtosis:</th>      <td> 3.837</td> <th>  Cond. No.          </th> <td>4.97e+03</td>\n",
       "</tr>\n",
       "</table><br/><br/>Warnings:<br/>[1] Standard Errors are heteroscedasticity robust (HC2)<br/>[2] The condition number is large, 4.97e+03. This might indicate that there are<br/>strong multicollinearity or other numerical problems."
      ],
      "text/plain": [
       "<class 'statsmodels.iolib.summary.Summary'>\n",
       "\"\"\"\n",
       "                            OLS Regression Results                            \n",
       "==============================================================================\n",
       "Dep. Variable:                  total   R-squared:                       0.953\n",
       "Model:                            OLS   Adj. R-squared:                  0.950\n",
       "Method:                 Least Squares   F-statistic:                     303.0\n",
       "Date:                Sat, 23 Jan 2021   Prob (F-statistic):           3.51e-31\n",
       "Time:                        10:20:37   Log-Likelihood:                -190.48\n",
       "No. Observations:                  52   AIC:                             389.0\n",
       "Df Residuals:                      48   BIC:                             396.8\n",
       "Df Model:                           3                                         \n",
       "Covariance Type:                  HC2                                         \n",
       "==============================================================================\n",
       "                 coef    std err          z      P>|z|      [0.025      0.975]\n",
       "------------------------------------------------------------------------------\n",
       "const          3.6709      1.162      3.159      0.002       1.394       5.948\n",
       "time          -0.7883      0.203     -3.877      0.000      -1.187      -0.390\n",
       "group         17.6894      5.224      3.386      0.001       7.451      27.928\n",
       "time2          0.0584      0.007      8.272      0.000       0.045       0.072\n",
       "==============================================================================\n",
       "Omnibus:                        3.005   Durbin-Watson:                   1.089\n",
       "Prob(Omnibus):                  0.223   Jarque-Bera (JB):                2.145\n",
       "Skew:                          -0.269   Prob(JB):                        0.342\n",
       "Kurtosis:                       3.837   Cond. No.                     4.97e+03\n",
       "==============================================================================\n",
       "\n",
       "Warnings:\n",
       "[1] Standard Errors are heteroscedasticity robust (HC2)\n",
       "[2] The condition number is large, 4.97e+03. This might indicate that there are\n",
       "strong multicollinearity or other numerical problems.\n",
       "\"\"\""
      ]
     },
     "execution_count": 75,
     "metadata": {},
     "output_type": "execute_result"
    }
   ],
   "source": [
    "est.summary()"
   ]
  },
  {
   "cell_type": "markdown",
   "metadata": {},
   "source": [
    "## Analysis"
   ]
  },
  {
   "cell_type": "markdown",
   "metadata": {},
   "source": [
    "#### Amount of time before cutoff: \n",
    "25 days on both sides\n",
    "\n",
    "#### Polynomial used: \n",
    "Squared\n",
    "\n",
    "#### Other regression design considerations:\n",
    "Attempted without polynomials. Results were just a very straight line with mild regression fit on graph. R-squared is 0.880 . I'll be honest this one confuses me because the graph doesn't properly reflect that R-squared score.\n",
    "\n",
    "Attempted with polynomials squared and cubed. Results were very well fitted. In fact the curve was too well fitted, the gap was there but the shapes of the slopes were too aligned, making it seem like there was no gap. The R-squared was 0.958\n",
    "\n",
    "### Explanation of findings:\n",
    "Based on a few experimental runs, I found that running the data with a squared polynomial made the regression line fit the  data much better. Running the model with both squared and cubed polynomials made the regression line fit the data far too well, rendering the RDD seemingly pointless because the slopes were too well aligned, despite the gap included on the cutoff date. At first glance, running with both squared and cubed removed the gap but on closer inspection I could see that it was still there, but the regression line was simply too perfectly aligned and created a quick illusion of no gap being present. However the gap was also significantly smaller when running with both polynomials and I opted to use simply the squared polynomial. \n",
    "\n",
    "Running the model without a polynomial made the regression line look terrible for the data. Very little fit, though the summary would say otherwise, with an R-squared of 0.88 . But as with the case above, the regression line simply works better with one degree of polynomial.\n",
    "\n",
    "With a degree of polynomial fitted in the model, the regression takes a more realistic shape to what we expect the data to look like given the situation. A slow but steady increase before the lockdown, which triggers the event. After the lockdown however we see a sharper increase in cases over time. The regression is accurately reflecting what happened in March of last year right after the lockdown. Too many people had been exposed and the number of confirmed cases were going up rapidly as more people found out they were infected. The data shows this as well, however it is a little more scattered because real world data is never normalized."
   ]
  }
 ],
 "metadata": {
  "kernelspec": {
   "display_name": "Python 3",
   "language": "python",
   "name": "python3"
  },
  "language_info": {
   "codemirror_mode": {
    "name": "ipython",
    "version": 3
   },
   "file_extension": ".py",
   "mimetype": "text/x-python",
   "name": "python",
   "nbconvert_exporter": "python",
   "pygments_lexer": "ipython3",
   "version": "3.7.6"
  }
 },
 "nbformat": 4,
 "nbformat_minor": 4
}
