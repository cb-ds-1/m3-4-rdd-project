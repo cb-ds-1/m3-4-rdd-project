{
 "cells": [
  {
   "cell_type": "code",
   "execution_count": 4,
   "metadata": {},
   "outputs": [],
   "source": [
    "import pandas as pd\n",
    "import numpy as np\n",
    "import seaborn as sns\n",
    "import matplotlib.pyplot as plt\n",
    "import statsmodels.api as sm\n",
    "from rdd import rdd\n",
    "from datetime import datetime"
   ]
  },
  {
   "cell_type": "code",
   "execution_count": null,
   "metadata": {},
   "outputs": [],
   "source": [
    "#Code used to format the csv file\n",
    "\n",
    "#Make a total cases col\n",
    "cov_cases['Total Cases'] = cov_cases.sum(axis=1)\n",
    "#Rename the colum\n",
    "cov_cases = cov_cases.rename(columns={'Date de déclaration du cas':'Date'})\n",
    "#Make index start at 1\n",
    "cov_cases.index += 1\n",
    "#Save as csv with added index \n",
    "cov_cases.to_csv('Data/info',index=True)\n",
    "#Open\n",
    "cases = pd.read_csv('Data/info')\n",
    "#Re save without adding index\n",
    "cases.to_csv('Data/info',index=False)"
   ]
  },
  {
   "cell_type": "code",
   "execution_count": 5,
   "metadata": {},
   "outputs": [],
   "source": [
    "LOCKDOWN_1 = pd.to_datetime('2020-3-20')        \n",
    "SCHOOL_OPEN = pd.to_datetime('2020-8-31')\n",
    "LOCKDOWN_2 = pd.to_datetime('2020-12-25')"
   ]
  },
  {
   "cell_type": "code",
   "execution_count": 6,
   "metadata": {},
   "outputs": [],
   "source": [
    "cov = pd.read_csv('Data/Covid_Cases_QC')"
   ]
  },
  {
   "cell_type": "code",
   "execution_count": 131,
   "metadata": {},
   "outputs": [],
   "source": [
    "cov['Day_sq'] = cov['Day'].apply(np.square)"
   ]
  },
  {
   "cell_type": "code",
   "execution_count": 134,
   "metadata": {},
   "outputs": [
    {
     "data": {
      "text/html": [
       "<div>\n",
       "<style scoped>\n",
       "    .dataframe tbody tr th:only-of-type {\n",
       "        vertical-align: middle;\n",
       "    }\n",
       "\n",
       "    .dataframe tbody tr th {\n",
       "        vertical-align: top;\n",
       "    }\n",
       "\n",
       "    .dataframe thead th {\n",
       "        text-align: right;\n",
       "    }\n",
       "</style>\n",
       "<table border=\"1\" class=\"dataframe\">\n",
       "  <thead>\n",
       "    <tr style=\"text-align: right;\">\n",
       "      <th></th>\n",
       "      <th>Day</th>\n",
       "      <th>Date</th>\n",
       "      <th>Par lien épidémiologique</th>\n",
       "      <th>En laboratoire</th>\n",
       "      <th>Cas</th>\n",
       "      <th>Day_sq</th>\n",
       "    </tr>\n",
       "  </thead>\n",
       "  <tbody>\n",
       "    <tr>\n",
       "      <th>0</th>\n",
       "      <td>1</td>\n",
       "      <td>2020-02-24</td>\n",
       "      <td>0</td>\n",
       "      <td>0</td>\n",
       "      <td>0</td>\n",
       "      <td>1</td>\n",
       "    </tr>\n",
       "    <tr>\n",
       "      <th>1</th>\n",
       "      <td>2</td>\n",
       "      <td>2020-02-25</td>\n",
       "      <td>0</td>\n",
       "      <td>1</td>\n",
       "      <td>1</td>\n",
       "      <td>4</td>\n",
       "    </tr>\n",
       "    <tr>\n",
       "      <th>2</th>\n",
       "      <td>3</td>\n",
       "      <td>2020-02-26</td>\n",
       "      <td>0</td>\n",
       "      <td>0</td>\n",
       "      <td>0</td>\n",
       "      <td>9</td>\n",
       "    </tr>\n",
       "    <tr>\n",
       "      <th>3</th>\n",
       "      <td>4</td>\n",
       "      <td>2020-02-27</td>\n",
       "      <td>0</td>\n",
       "      <td>0</td>\n",
       "      <td>0</td>\n",
       "      <td>16</td>\n",
       "    </tr>\n",
       "    <tr>\n",
       "      <th>4</th>\n",
       "      <td>5</td>\n",
       "      <td>2020-02-28</td>\n",
       "      <td>0</td>\n",
       "      <td>1</td>\n",
       "      <td>1</td>\n",
       "      <td>25</td>\n",
       "    </tr>\n",
       "    <tr>\n",
       "      <th>...</th>\n",
       "      <td>...</td>\n",
       "      <td>...</td>\n",
       "      <td>...</td>\n",
       "      <td>...</td>\n",
       "      <td>...</td>\n",
       "      <td>...</td>\n",
       "    </tr>\n",
       "    <tr>\n",
       "      <th>328</th>\n",
       "      <td>329</td>\n",
       "      <td>2021-01-17</td>\n",
       "      <td>15</td>\n",
       "      <td>1514</td>\n",
       "      <td>1529</td>\n",
       "      <td>108241</td>\n",
       "    </tr>\n",
       "    <tr>\n",
       "      <th>329</th>\n",
       "      <td>330</td>\n",
       "      <td>2021-01-18</td>\n",
       "      <td>19</td>\n",
       "      <td>1328</td>\n",
       "      <td>1347</td>\n",
       "      <td>108900</td>\n",
       "    </tr>\n",
       "    <tr>\n",
       "      <th>330</th>\n",
       "      <td>331</td>\n",
       "      <td>2021-01-19</td>\n",
       "      <td>8</td>\n",
       "      <td>1518</td>\n",
       "      <td>1526</td>\n",
       "      <td>109561</td>\n",
       "    </tr>\n",
       "    <tr>\n",
       "      <th>331</th>\n",
       "      <td>332</td>\n",
       "      <td>2021-01-20</td>\n",
       "      <td>6</td>\n",
       "      <td>1582</td>\n",
       "      <td>1588</td>\n",
       "      <td>110224</td>\n",
       "    </tr>\n",
       "    <tr>\n",
       "      <th>332</th>\n",
       "      <td>333</td>\n",
       "      <td>2021-01-21</td>\n",
       "      <td>12</td>\n",
       "      <td>1092</td>\n",
       "      <td>1104</td>\n",
       "      <td>110889</td>\n",
       "    </tr>\n",
       "  </tbody>\n",
       "</table>\n",
       "<p>333 rows × 6 columns</p>\n",
       "</div>"
      ],
      "text/plain": [
       "     Day       Date  Par lien épidémiologique  En laboratoire   Cas  Day_sq\n",
       "0      1 2020-02-24                         0               0     0       1\n",
       "1      2 2020-02-25                         0               1     1       4\n",
       "2      3 2020-02-26                         0               0     0       9\n",
       "3      4 2020-02-27                         0               0     0      16\n",
       "4      5 2020-02-28                         0               1     1      25\n",
       "..   ...        ...                       ...             ...   ...     ...\n",
       "328  329 2021-01-17                        15            1514  1529  108241\n",
       "329  330 2021-01-18                        19            1328  1347  108900\n",
       "330  331 2021-01-19                         8            1518  1526  109561\n",
       "331  332 2021-01-20                         6            1582  1588  110224\n",
       "332  333 2021-01-21                        12            1092  1104  110889\n",
       "\n",
       "[333 rows x 6 columns]"
      ]
     },
     "execution_count": 134,
     "metadata": {},
     "output_type": "execute_result"
    }
   ],
   "source": [
    "cov"
   ]
  },
  {
   "cell_type": "code",
   "execution_count": 11,
   "metadata": {},
   "outputs": [],
   "source": [
    "cov['Day_sq'] = cov['Day'].apply(np.square)\n",
    "cov['Date'] = pd.to_datetime(cov['Date'])\n",
    "LOCKDOWN_1 = pd.to_datetime('2020-3-20')        \n",
    "SCHOOL_OPEN = pd.to_datetime('2020-8-31')\n",
    "LOCKDOWN_2 = pd.to_datetime('2020-12-25')"
   ]
  },
  {
   "cell_type": "code",
   "execution_count": 239,
   "metadata": {},
   "outputs": [],
   "source": [
    "#28 days before and after first lockdown\n",
    "pre_LD1 = (cov['Date'] > '2020-2-21') & (cov['Date'] <= LOCKDOWN_1 )\n",
    "post_LD1 = (cov['Date'] > LOCKDOWN_1) & (cov['Date'] <= '2020-5-1' )\n",
    "\n",
    "#Entire period we are looking at\n",
    "period1 = (cov['Date'] > '2020-2-21') & (cov['Date'] <= '2020-5-1')\n",
    "\n",
    "#28 days before and after school opening\n",
    "pre_sch = (cov['Date'] > '2020-8-3') & (cov['Date'] <= SCHOOL_OPEN)\n",
    "post_sch = (cov['Date'] > SCHOOL_OPEN) & (cov['Date'] <= '2020-10-12') #6 week periods\n",
    "\n",
    "period2 = (cov['Date'] > '2020-8-3') & (cov['Date'] <= '2020-10-12')\n",
    "\n",
    "#28 days before and after xmas lockdown\n",
    "pre_xmas = (cov['Date'] > '2020-11-27') & (cov['Date'] <= LOCKDOWN_2)\n",
    "post_xmas = (cov['Date'] > LOCKDOWN_2) & (cov['Date'] <= '2021-1-22')\n",
    "\n",
    "period3 = (cov['Date'] > '2020-11-27') & (cov['Date'] <= '2021-1-22')"
   ]
  },
  {
   "cell_type": "code",
   "execution_count": 240,
   "metadata": {},
   "outputs": [],
   "source": [
    "#Time periods for each graph\n",
    "\n",
    "\n",
    "#Graph 1\n",
    "\n",
    "#Temp df pre-lockdown 1\n",
    "temp_prld = cov.loc[pre_LD1]\n",
    "#Temp df post-lockdown 1\n",
    "temp_pold = cov.loc[post_LD1]\n",
    "#Temp df entire period around LD 1\n",
    "temp_pd1 = cov.loc[period1]\n",
    "\n",
    "#Graph 2\n",
    "\n",
    "#Temp df pre-school opening\n",
    "temp_prsc = cov.loc[pre_sch]\n",
    "#Temp df post-school opening\n",
    "temp_posc = cov.loc[post_sch]\n",
    "#Temp df entire period around school opening 1\n",
    "temp_pd2 = cov.loc[period2]\n",
    "\n",
    "#Graph 3\n",
    "\n",
    "#Temp df pre-lockdown xmas\n",
    "temp_prxs = cov.loc[pre_xmas]\n",
    "#Temp df post-lockdown xmas\n",
    "temp_poxs = cov.loc[post_xmas]\n",
    "#Temp df entire period around xmas LD\n",
    "temp_pd3 = cov.loc[period3]"
   ]
  },
  {
   "cell_type": "code",
   "execution_count": 241,
   "metadata": {},
   "outputs": [
    {
     "data": {
      "text/plain": [
       "26"
      ]
     },
     "execution_count": 241,
     "metadata": {},
     "output_type": "execute_result"
    }
   ],
   "source": [
    "len(temp_prld)"
   ]
  },
  {
   "cell_type": "code",
   "execution_count": 242,
   "metadata": {},
   "outputs": [],
   "source": [
    "#Pre-locdown\n",
    "\n",
    "X = temp_prld[['Day','Day_sq']]\n",
    "X = sm.add_constant(X)\n",
    "\n",
    "y = temp_prld['Cas']\n",
    "\n",
    "model_1 = sm.OLS(y, X).fit(cov_type='HC2')\n",
    "\n",
    "y_hat_1 = model_1.predict(X)\n",
    "\n",
    "\n",
    "#model_1.summary()"
   ]
  },
  {
   "cell_type": "code",
   "execution_count": 243,
   "metadata": {},
   "outputs": [],
   "source": [
    "#Post-Lockdown\n",
    "\n",
    "X = temp_pold[['Day','Day_sq']]\n",
    "X = sm.add_constant(X)\n",
    "\n",
    "y = temp_pold['Cas']\n",
    "\n",
    "model_2 = sm.OLS(y,X).fit(cov_type='HC2')\n",
    "\n",
    "y_hat_2 = model_2.predict(X)"
   ]
  },
  {
   "cell_type": "code",
   "execution_count": 244,
   "metadata": {
    "scrolled": false
   },
   "outputs": [
    {
     "data": {
      "image/png": "[encoded data removed]",
      "text/plain": [
       "<Figure size 864x432 with 1 Axes>"
      ]
     },
     "metadata": {
      "needs_background": "light"
     },
     "output_type": "display_data"
    }
   ],
   "source": [
    "fig, ax = plt.subplots(figsize=(12,6))\n",
    "\n",
    "plt.scatter(x=temp_pd1.Day,y=temp_pd1.Cas)\n",
    "plt.plot(y_hat_1)\n",
    "plt.plot(y_hat_2)\n",
    "ax.text(y=600,x=24,s='First Lockdown',rotation=90)\n",
    "ax.vlines(x=25.5,ymin=temp_pd1.Cas.min(),ymax=temp_pd1.Cas.max())\n",
    "plt.tight_layout()"
   ]
  },
  {
   "cell_type": "code",
   "execution_count": 245,
   "metadata": {},
   "outputs": [],
   "source": [
    "##################################################"
   ]
  },
  {
   "cell_type": "code",
   "execution_count": 249,
   "metadata": {},
   "outputs": [],
   "source": [
    "#Pre-School Opening\n",
    "\n",
    "X = temp_prsc[['Day','Day_sq']]\n",
    "X = sm.add_constant(X)\n",
    "\n",
    "y = temp_prsc['Cas']\n",
    "\n",
    "model_1 = sm.OLS(y, X).fit(cov_type='HC2')\n",
    "\n",
    "y_hat_1 = model_1.predict(X)\n",
    "\n",
    "#model_1.summary()"
   ]
  },
  {
   "cell_type": "code",
   "execution_count": 250,
   "metadata": {},
   "outputs": [],
   "source": [
    "#Post-School Opening\n",
    "\n",
    "X = temp_posc[['Day','Day_sq']]\n",
    "X = sm.add_constant(X)\n",
    "\n",
    "y = temp_posc['Cas']\n",
    "\n",
    "model_2 = sm.OLS(y,X).fit(cov_type='HC2')\n",
    "\n",
    "y_hat_2 = model_2.predict(X)"
   ]
  },
  {
   "cell_type": "code",
   "execution_count": 251,
   "metadata": {
    "scrolled": false
   },
   "outputs": [
    {
     "data": {
      "image/png": "[encoded data removed]",
      "text/plain": [
       "<Figure size 864x432 with 1 Axes>"
      ]
     },
     "metadata": {
      "needs_background": "light"
     },
     "output_type": "display_data"
    }
   ],
   "source": [
    "fig, ax = plt.subplots(figsize=(12,6))\n",
    "\n",
    "plt.scatter(x=temp_pd2.Day,y=temp_pd2.Cas)\n",
    "plt.plot(y_hat_1)\n",
    "plt.plot(y_hat_2)\n",
    "ax.text(y=600,x=189,s='School Reopening',rotation=90)\n",
    "ax.vlines(x=190,ymin=temp_pd2.Cas.min(),ymax=temp_pd2.Cas.max())\n",
    "plt.tight_layout()"
   ]
  },
  {
   "cell_type": "code",
   "execution_count": null,
   "metadata": {},
   "outputs": [],
   "source": [
    "########################"
   ]
  },
  {
   "cell_type": "code",
   "execution_count": 252,
   "metadata": {},
   "outputs": [],
   "source": [
    "#Pre-Xmas Lockdown\n",
    "\n",
    "X = temp_prxs[['Day','Day_sq']]\n",
    "X = sm.add_constant(X)\n",
    "\n",
    "y = temp_prxs['Cas']\n",
    "\n",
    "model_1 = sm.OLS(y, X).fit(cov_type='HC2')\n",
    "\n",
    "y_hat_1 = model_1.predict(X)\n",
    "\n",
    "#model_1.summary()"
   ]
  },
  {
   "cell_type": "code",
   "execution_count": 253,
   "metadata": {},
   "outputs": [],
   "source": [
    "#Post-Xmas Lockdown\n",
    "\n",
    "X = temp_poxs[['Day','Day_sq']]\n",
    "X = sm.add_constant(X)\n",
    "\n",
    "y = temp_poxs['Cas']\n",
    "\n",
    "model_2 = sm.OLS(y, X).fit(cov_type='HC2')\n",
    "\n",
    "y_hat_2 = model_2.predict(X)\n",
    "\n",
    "#model_1.summary()"
   ]
  },
  {
   "cell_type": "code",
   "execution_count": 254,
   "metadata": {},
   "outputs": [
    {
     "data": {
      "image/png": "[encoded data removed]",
      "text/plain": [
       "<Figure size 864x432 with 1 Axes>"
      ]
     },
     "metadata": {
      "needs_background": "light"
     },
     "output_type": "display_data"
    }
   ],
   "source": [
    "fig, ax = plt.subplots(figsize=(12,6))\n",
    "\n",
    "plt.scatter(x=temp_pd3.Day,y=temp_pd3.Cas)\n",
    "plt.plot(y_hat_1)\n",
    "plt.plot(y_hat_2)\n",
    "ax.text(y=1600,x=304.5,s='Xmas Lockdown',rotation=90)\n",
    "ax.vlines(x=305.5,ymin=temp_pd3.Cas.min(),ymax=temp_pd3.Cas.max())\n",
    "plt.tight_layout()"
   ]
  },
  {
   "cell_type": "code",
   "execution_count": null,
   "metadata": {},
   "outputs": [],
   "source": []
  }
 ],
 "metadata": {
  "kernelspec": {
   "display_name": "Python 3",
   "language": "python",
   "name": "python3"
  },
  "language_info": {
   "codemirror_mode": {
    "name": "ipython",
    "version": 3
   },
   "file_extension": ".py",
   "mimetype": "text/x-python",
   "name": "python",
   "nbconvert_exporter": "python",
   "pygments_lexer": "ipython3",
   "version": "3.8.3"
  }
 },
 "nbformat": 4,
 "nbformat_minor": 4
}
